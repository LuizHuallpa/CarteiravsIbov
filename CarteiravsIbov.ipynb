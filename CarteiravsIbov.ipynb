{
  "nbformat": 4,
  "nbformat_minor": 0,
  "metadata": {
    "colab": {
      "name": "CarteiravsIbov.ipynb",
      "provenance": [],
      "collapsed_sections": [],
      "authorship_tag": "ABX9TyMFhdDfs7LJ+gBGFDFN/aRQ",
      "include_colab_link": true
    },
    "kernelspec": {
      "name": "python3",
      "display_name": "Python 3"
    },
    "language_info": {
      "name": "python"
    }
  },
  "cells": [
    {
      "cell_type": "markdown",
      "metadata": {
        "id": "view-in-github",
        "colab_type": "text"
      },
      "source": [
        "<a href=\"https://colab.research.google.com/github/LuizHuallpa/CarteiravsIbov/blob/main/CarteiravsIbov.ipynb\" target=\"_parent\"><img src=\"https://colab.research.google.com/assets/colab-badge.svg\" alt=\"Open In Colab\"/></a>"
      ]
    },
    {
      "cell_type": "code",
      "metadata": {
        "id": "n2pQrGMWgzPF"
      },
      "source": [
        ""
      ],
      "execution_count": 168,
      "outputs": []
    },
    {
      "cell_type": "markdown",
      "metadata": {
        "id": "Xk4oYf1IhDyd"
      },
      "source": [
        "\n",
        "**Código para comparação de uma carteira fictícia com mais de um aporte (e com otimização de volatilidade) vs. IBOV feito durante da Jornada Quant da plataforma trading com Dados**"
      ]
    },
    {
      "cell_type": "markdown",
      "metadata": {
        "id": "jTZuHuylhgvC"
      },
      "source": [
        "**1. Instalando e importando as bibliotecas**"
      ]
    },
    {
      "cell_type": "markdown",
      "metadata": {
        "id": "m9QxPDfLhmF5"
      },
      "source": [
        " Instalando Yahoo Finance"
      ]
    },
    {
      "cell_type": "code",
      "metadata": {
        "colab": {
          "base_uri": "https://localhost:8080/"
        },
        "id": "0CJnhNEjhjmR",
        "outputId": "574a6c8f-12a4-4f79-9cde-cb0cf42181e5"
      },
      "source": [
        "!pip install yfinance"
      ],
      "execution_count": 169,
      "outputs": [
        {
          "output_type": "stream",
          "name": "stdout",
          "text": [
            "Requirement already satisfied: yfinance in /usr/local/lib/python3.7/dist-packages (0.1.64)\n",
            "Requirement already satisfied: numpy>=1.15 in /usr/local/lib/python3.7/dist-packages (from yfinance) (1.19.5)\n",
            "Requirement already satisfied: lxml>=4.5.1 in /usr/local/lib/python3.7/dist-packages (from yfinance) (4.6.4)\n",
            "Requirement already satisfied: pandas>=0.24 in /usr/local/lib/python3.7/dist-packages (from yfinance) (1.1.5)\n",
            "Requirement already satisfied: multitasking>=0.0.7 in /usr/local/lib/python3.7/dist-packages (from yfinance) (0.0.9)\n",
            "Requirement already satisfied: requests>=2.20 in /usr/local/lib/python3.7/dist-packages (from yfinance) (2.23.0)\n",
            "Requirement already satisfied: pytz>=2017.2 in /usr/local/lib/python3.7/dist-packages (from pandas>=0.24->yfinance) (2018.9)\n",
            "Requirement already satisfied: python-dateutil>=2.7.3 in /usr/local/lib/python3.7/dist-packages (from pandas>=0.24->yfinance) (2.8.2)\n",
            "Requirement already satisfied: six>=1.5 in /usr/local/lib/python3.7/dist-packages (from python-dateutil>=2.7.3->pandas>=0.24->yfinance) (1.15.0)\n",
            "Requirement already satisfied: certifi>=2017.4.17 in /usr/local/lib/python3.7/dist-packages (from requests>=2.20->yfinance) (2021.5.30)\n",
            "Requirement already satisfied: chardet<4,>=3.0.2 in /usr/local/lib/python3.7/dist-packages (from requests>=2.20->yfinance) (3.0.4)\n",
            "Requirement already satisfied: idna<3,>=2.5 in /usr/local/lib/python3.7/dist-packages (from requests>=2.20->yfinance) (2.10)\n",
            "Requirement already satisfied: urllib3!=1.25.0,!=1.25.1,<1.26,>=1.21.1 in /usr/local/lib/python3.7/dist-packages (from requests>=2.20->yfinance) (1.24.3)\n"
          ]
        }
      ]
    },
    {
      "cell_type": "markdown",
      "metadata": {
        "id": "xDXm3kSvh1jM"
      },
      "source": [
        "Importando as bibliotecas"
      ]
    },
    {
      "cell_type": "code",
      "metadata": {
        "id": "BeWlR6N0h3qo"
      },
      "source": [
        "import yfinance as yf\n",
        "import pandas as pd\n",
        "import numpy as np"
      ],
      "execution_count": 170,
      "outputs": []
    },
    {
      "cell_type": "markdown",
      "metadata": {
        "id": "vY7Y6O9miBfk"
      },
      "source": [
        "**2.Importando os dados da carteira e a cotação do USD**"
      ]
    },
    {
      "cell_type": "code",
      "metadata": {
        "id": "u0u3o7RViKPy"
      },
      "source": [
        "ativos = ['PETR4.SA','VALE3.SA', 'WEGE3.SA', \n",
        "          'RADL3.SA', 'OIBR3.SA','KNRI11.SA','FLMA11.SA','BOVA11.SA',\n",
        "          'SMAL11.SA','AAPL34.SA','IVVB11.SA','ETH-USD','USDBRL=X']"
      ],
      "execution_count": 171,
      "outputs": []
    },
    {
      "cell_type": "markdown",
      "metadata": {
        "id": "lkFbCITxiNVQ"
      },
      "source": [
        "Periodo a ser analisado"
      ]
    },
    {
      "cell_type": "code",
      "metadata": {
        "id": "XcnwzenBiPxm"
      },
      "source": [
        "inicio = '2020-05-01'\n",
        "fim = '2021-11-05'"
      ],
      "execution_count": 172,
      "outputs": []
    },
    {
      "cell_type": "code",
      "metadata": {
        "colab": {
          "base_uri": "https://localhost:8080/"
        },
        "id": "pfkFwGDxiVRX",
        "outputId": "4bbf1867-f903-4577-bec0-3cb26f6ce707"
      },
      "source": [
        "\n",
        "precos = pd.DataFrame()\n",
        "\n",
        "for i in ativos:\n",
        "  precos[i] = yf.download(i, start = inicio, end = fim)['Adj Close']"
      ],
      "execution_count": 173,
      "outputs": [
        {
          "output_type": "stream",
          "name": "stdout",
          "text": [
            "[*********************100%***********************]  1 of 1 completed\n",
            "[*********************100%***********************]  1 of 1 completed\n",
            "[*********************100%***********************]  1 of 1 completed\n",
            "[*********************100%***********************]  1 of 1 completed\n",
            "[*********************100%***********************]  1 of 1 completed\n",
            "[*********************100%***********************]  1 of 1 completed\n",
            "[*********************100%***********************]  1 of 1 completed\n",
            "[*********************100%***********************]  1 of 1 completed\n",
            "[*********************100%***********************]  1 of 1 completed\n",
            "[*********************100%***********************]  1 of 1 completed\n",
            "[*********************100%***********************]  1 of 1 completed\n",
            "[*********************100%***********************]  1 of 1 completed\n",
            "[*********************100%***********************]  1 of 1 completed\n"
          ]
        }
      ]
    },
    {
      "cell_type": "markdown",
      "metadata": {
        "id": "fE6MOVRBiq-_"
      },
      "source": [
        "Convertendo o valor do Ethereum em BRL"
      ]
    },
    {
      "cell_type": "code",
      "metadata": {
        "id": "8WdEpUvEiyzx"
      },
      "source": [
        "precos['ETH-BRL'] = precos['ETH-USD']*precos['USDBRL=X']"
      ],
      "execution_count": 174,
      "outputs": []
    },
    {
      "cell_type": "markdown",
      "metadata": {
        "id": "wwzmFDZUi2_2"
      },
      "source": [
        "Removendo a cotação do USD e o valor do Ethereum em USD"
      ]
    },
    {
      "cell_type": "code",
      "metadata": {
        "id": "v5FXGJFgi89r"
      },
      "source": [
        "precos = precos.drop(columns=['ETH-USD', 'USDBRL=X'])"
      ],
      "execution_count": 175,
      "outputs": []
    },
    {
      "cell_type": "code",
      "metadata": {
        "colab": {
          "base_uri": "https://localhost:8080/"
        },
        "id": "tMToch2Ki_DI",
        "outputId": "1f25c36b-d93d-42c1-d466-4d716021b1a4"
      },
      "source": [
        "precos.isnull().sum()"
      ],
      "execution_count": 176,
      "outputs": [
        {
          "output_type": "execute_result",
          "data": {
            "text/plain": [
              "PETR4.SA     0\n",
              "VALE3.SA     0\n",
              "WEGE3.SA     0\n",
              "RADL3.SA     0\n",
              "OIBR3.SA     0\n",
              "KNRI11.SA    0\n",
              "FLMA11.SA    0\n",
              "BOVA11.SA    0\n",
              "SMAL11.SA    0\n",
              "AAPL34.SA    0\n",
              "IVVB11.SA    0\n",
              "ETH-BRL      3\n",
              "dtype: int64"
            ]
          },
          "metadata": {},
          "execution_count": 176
        }
      ]
    },
    {
      "cell_type": "code",
      "metadata": {
        "id": "HEblhcbmjGkg"
      },
      "source": [
        "precos = precos.dropna()"
      ],
      "execution_count": 177,
      "outputs": []
    },
    {
      "cell_type": "code",
      "metadata": {
        "colab": {
          "base_uri": "https://localhost:8080/",
          "height": 230
        },
        "id": "er2nzr1gjJi7",
        "outputId": "ca5ae1d8-e3b9-43a8-cf6e-6fc4f77a0b61"
      },
      "source": [
        "precos.head()"
      ],
      "execution_count": 178,
      "outputs": [
        {
          "output_type": "execute_result",
          "data": {
            "text/html": [
              "<div>\n",
              "<style scoped>\n",
              "    .dataframe tbody tr th:only-of-type {\n",
              "        vertical-align: middle;\n",
              "    }\n",
              "\n",
              "    .dataframe tbody tr th {\n",
              "        vertical-align: top;\n",
              "    }\n",
              "\n",
              "    .dataframe thead th {\n",
              "        text-align: right;\n",
              "    }\n",
              "</style>\n",
              "<table border=\"1\" class=\"dataframe\">\n",
              "  <thead>\n",
              "    <tr style=\"text-align: right;\">\n",
              "      <th></th>\n",
              "      <th>PETR4.SA</th>\n",
              "      <th>VALE3.SA</th>\n",
              "      <th>WEGE3.SA</th>\n",
              "      <th>RADL3.SA</th>\n",
              "      <th>OIBR3.SA</th>\n",
              "      <th>KNRI11.SA</th>\n",
              "      <th>FLMA11.SA</th>\n",
              "      <th>BOVA11.SA</th>\n",
              "      <th>SMAL11.SA</th>\n",
              "      <th>AAPL34.SA</th>\n",
              "      <th>IVVB11.SA</th>\n",
              "      <th>ETH-BRL</th>\n",
              "    </tr>\n",
              "    <tr>\n",
              "      <th>Date</th>\n",
              "      <th></th>\n",
              "      <th></th>\n",
              "      <th></th>\n",
              "      <th></th>\n",
              "      <th></th>\n",
              "      <th></th>\n",
              "      <th></th>\n",
              "      <th></th>\n",
              "      <th></th>\n",
              "      <th></th>\n",
              "      <th></th>\n",
              "      <th></th>\n",
              "    </tr>\n",
              "  </thead>\n",
              "  <tbody>\n",
              "    <tr>\n",
              "      <th>2020-05-04</th>\n",
              "      <td>15.868637</td>\n",
              "      <td>35.844715</td>\n",
              "      <td>19.638863</td>\n",
              "      <td>20.785416</td>\n",
              "      <td>0.68</td>\n",
              "      <td>156.399994</td>\n",
              "      <td>159.0</td>\n",
              "      <td>76.099998</td>\n",
              "      <td>88.010002</td>\n",
              "      <td>39.984192</td>\n",
              "      <td>169.199997</td>\n",
              "      <td>1140.169109</td>\n",
              "    </tr>\n",
              "    <tr>\n",
              "      <th>2020-05-05</th>\n",
              "      <td>16.379940</td>\n",
              "      <td>35.657047</td>\n",
              "      <td>19.229717</td>\n",
              "      <td>20.695963</td>\n",
              "      <td>0.70</td>\n",
              "      <td>157.000000</td>\n",
              "      <td>168.0</td>\n",
              "      <td>76.540001</td>\n",
              "      <td>86.800003</td>\n",
              "      <td>41.171108</td>\n",
              "      <td>172.240005</td>\n",
              "      <td>1145.654197</td>\n",
              "    </tr>\n",
              "    <tr>\n",
              "      <th>2020-05-06</th>\n",
              "      <td>15.777334</td>\n",
              "      <td>36.171097</td>\n",
              "      <td>19.140991</td>\n",
              "      <td>20.578676</td>\n",
              "      <td>0.70</td>\n",
              "      <td>160.250000</td>\n",
              "      <td>170.0</td>\n",
              "      <td>76.199997</td>\n",
              "      <td>85.800003</td>\n",
              "      <td>42.726460</td>\n",
              "      <td>174.649994</td>\n",
              "      <td>1138.243622</td>\n",
              "    </tr>\n",
              "    <tr>\n",
              "      <th>2020-05-07</th>\n",
              "      <td>15.923419</td>\n",
              "      <td>37.574532</td>\n",
              "      <td>19.269154</td>\n",
              "      <td>20.612471</td>\n",
              "      <td>0.67</td>\n",
              "      <td>160.000000</td>\n",
              "      <td>170.0</td>\n",
              "      <td>75.400002</td>\n",
              "      <td>84.000000</td>\n",
              "      <td>43.982609</td>\n",
              "      <td>183.000000</td>\n",
              "      <td>1213.276445</td>\n",
              "    </tr>\n",
              "    <tr>\n",
              "      <th>2020-05-08</th>\n",
              "      <td>16.872980</td>\n",
              "      <td>39.859192</td>\n",
              "      <td>18.850155</td>\n",
              "      <td>20.809271</td>\n",
              "      <td>0.69</td>\n",
              "      <td>162.500000</td>\n",
              "      <td>165.0</td>\n",
              "      <td>77.430000</td>\n",
              "      <td>84.099998</td>\n",
              "      <td>44.384624</td>\n",
              "      <td>180.750000</td>\n",
              "      <td>1241.468082</td>\n",
              "    </tr>\n",
              "  </tbody>\n",
              "</table>\n",
              "</div>"
            ],
            "text/plain": [
              "             PETR4.SA   VALE3.SA   WEGE3.SA  ...  AAPL34.SA   IVVB11.SA      ETH-BRL\n",
              "Date                                         ...                                    \n",
              "2020-05-04  15.868637  35.844715  19.638863  ...  39.984192  169.199997  1140.169109\n",
              "2020-05-05  16.379940  35.657047  19.229717  ...  41.171108  172.240005  1145.654197\n",
              "2020-05-06  15.777334  36.171097  19.140991  ...  42.726460  174.649994  1138.243622\n",
              "2020-05-07  15.923419  37.574532  19.269154  ...  43.982609  183.000000  1213.276445\n",
              "2020-05-08  16.872980  39.859192  18.850155  ...  44.384624  180.750000  1241.468082\n",
              "\n",
              "[5 rows x 12 columns]"
            ]
          },
          "metadata": {},
          "execution_count": 178
        }
      ]
    },
    {
      "cell_type": "code",
      "metadata": {
        "colab": {
          "base_uri": "https://localhost:8080/"
        },
        "id": "dcfj7A2cjkNN",
        "outputId": "75b2fb5a-e1e1-4fcf-e1a7-c8a4c35603f8"
      },
      "source": [
        "precos.loc['2021-01-04']"
      ],
      "execution_count": 179,
      "outputs": [
        {
          "output_type": "execute_result",
          "data": {
            "text/plain": [
              "PETR4.SA       26.396517\n",
              "VALE3.SA       77.746445\n",
              "WEGE3.SA       36.920166\n",
              "RADL3.SA       24.972378\n",
              "OIBR3.SA        2.350000\n",
              "KNRI11.SA     160.669998\n",
              "FLMA11.SA     151.000000\n",
              "BOVA11.SA     114.089996\n",
              "SMAL11.SA     134.000000\n",
              "AAPL34.SA      68.217369\n",
              "IVVB11.SA     210.800003\n",
              "ETH-BRL      5400.785647\n",
              "Name: 2021-01-04 00:00:00, dtype: float64"
            ]
          },
          "metadata": {},
          "execution_count": 179
        }
      ]
    },
    {
      "cell_type": "markdown",
      "metadata": {
        "id": "34bCmQY0mHyF"
      },
      "source": [
        "\n",
        "**3. Simulação de uma carteira fictícia**\n"
      ]
    },
    {
      "cell_type": "markdown",
      "metadata": {
        "id": "JNWWKvRimTmW"
      },
      "source": [
        "Alocando as ativos para a carteira"
      ]
    },
    {
      "cell_type": "code",
      "metadata": {
        "id": "XKlWzI5emUm5"
      },
      "source": [
        "compras = {'PETR4.SA': 1000, 'VALE3.SA': 700, 'WEGE3.SA': 1500, \n",
        "           'RADL3.SA': 700, 'OIBR3.SA': 200, 'KNRI11.SA': 700, 'FLMA11.SA': 700, 'BOVA11.SA':1500,\n",
        "           'SMAL11.SA': 1500, 'AAPL34.SA': 2000, 'IVVB11.SA': 1500, \n",
        "           'ETH-BRL': 200}     \n",
        "compras_df = pd.Series(data=compras, index=list(compras.keys()))"
      ],
      "execution_count": 180,
      "outputs": []
    },
    {
      "cell_type": "markdown",
      "metadata": {
        "id": "deOR4hlrmane"
      },
      "source": [
        "Valor Total"
      ]
    },
    {
      "cell_type": "code",
      "metadata": {
        "colab": {
          "base_uri": "https://localhost:8080/"
        },
        "id": "8iiY2tLMmcFp",
        "outputId": "0790644b-fabb-4d0f-d5ca-35ead356e6c3"
      },
      "source": [
        "\n",
        "sum(compras.values())"
      ],
      "execution_count": 181,
      "outputs": [
        {
          "output_type": "execute_result",
          "data": {
            "text/plain": [
              "12200"
            ]
          },
          "metadata": {},
          "execution_count": 181
        }
      ]
    },
    {
      "cell_type": "markdown",
      "metadata": {
        "id": "2rLqEf_imfVu"
      },
      "source": [
        "Preços de todos os ativos no dia 0 de investimento"
      ]
    },
    {
      "cell_type": "code",
      "metadata": {
        "id": "_lGAscQOmiyh"
      },
      "source": [
        "primeiro = precos.iloc[0]"
      ],
      "execution_count": 182,
      "outputs": []
    },
    {
      "cell_type": "markdown",
      "metadata": {
        "id": "pMlzLfK5mmyy"
      },
      "source": [
        "Quantidade de papéis"
      ]
    },
    {
      "cell_type": "code",
      "metadata": {
        "id": "J0Ercammmql0"
      },
      "source": [
        "qtd_acoes = compras_df/primeiro"
      ],
      "execution_count": 183,
      "outputs": []
    },
    {
      "cell_type": "markdown",
      "metadata": {
        "id": "p4KFmyysmuvs"
      },
      "source": [
        "Datarame contendo a posição diária"
      ]
    },
    {
      "cell_type": "code",
      "metadata": {
        "id": "8xNau3lZmzMV"
      },
      "source": [
        "PL = precos*qtd_acoes"
      ],
      "execution_count": 184,
      "outputs": []
    },
    {
      "cell_type": "code",
      "metadata": {
        "colab": {
          "base_uri": "https://localhost:8080/",
          "height": 170
        },
        "id": "5rPQJTNgm2uX",
        "outputId": "74448545-1292-417f-daa2-474d3c7f1d55"
      },
      "source": [
        "PL.head(3)"
      ],
      "execution_count": 185,
      "outputs": [
        {
          "output_type": "execute_result",
          "data": {
            "text/html": [
              "<div>\n",
              "<style scoped>\n",
              "    .dataframe tbody tr th:only-of-type {\n",
              "        vertical-align: middle;\n",
              "    }\n",
              "\n",
              "    .dataframe tbody tr th {\n",
              "        vertical-align: top;\n",
              "    }\n",
              "\n",
              "    .dataframe thead th {\n",
              "        text-align: right;\n",
              "    }\n",
              "</style>\n",
              "<table border=\"1\" class=\"dataframe\">\n",
              "  <thead>\n",
              "    <tr style=\"text-align: right;\">\n",
              "      <th></th>\n",
              "      <th>PETR4.SA</th>\n",
              "      <th>VALE3.SA</th>\n",
              "      <th>WEGE3.SA</th>\n",
              "      <th>RADL3.SA</th>\n",
              "      <th>OIBR3.SA</th>\n",
              "      <th>KNRI11.SA</th>\n",
              "      <th>FLMA11.SA</th>\n",
              "      <th>BOVA11.SA</th>\n",
              "      <th>SMAL11.SA</th>\n",
              "      <th>AAPL34.SA</th>\n",
              "      <th>IVVB11.SA</th>\n",
              "      <th>ETH-BRL</th>\n",
              "    </tr>\n",
              "    <tr>\n",
              "      <th>Date</th>\n",
              "      <th></th>\n",
              "      <th></th>\n",
              "      <th></th>\n",
              "      <th></th>\n",
              "      <th></th>\n",
              "      <th></th>\n",
              "      <th></th>\n",
              "      <th></th>\n",
              "      <th></th>\n",
              "      <th></th>\n",
              "      <th></th>\n",
              "      <th></th>\n",
              "    </tr>\n",
              "  </thead>\n",
              "  <tbody>\n",
              "    <tr>\n",
              "      <th>2020-05-04</th>\n",
              "      <td>1000.000000</td>\n",
              "      <td>700.000000</td>\n",
              "      <td>1500.000000</td>\n",
              "      <td>700.000000</td>\n",
              "      <td>200.000000</td>\n",
              "      <td>700.000000</td>\n",
              "      <td>700.000000</td>\n",
              "      <td>1500.000000</td>\n",
              "      <td>1500.000000</td>\n",
              "      <td>2000.000000</td>\n",
              "      <td>1500.000000</td>\n",
              "      <td>200.000000</td>\n",
              "    </tr>\n",
              "    <tr>\n",
              "      <th>2020-05-05</th>\n",
              "      <td>1032.220974</td>\n",
              "      <td>696.335095</td>\n",
              "      <td>1468.749818</td>\n",
              "      <td>696.987459</td>\n",
              "      <td>205.882347</td>\n",
              "      <td>702.685449</td>\n",
              "      <td>739.622642</td>\n",
              "      <td>1508.672847</td>\n",
              "      <td>1479.377360</td>\n",
              "      <td>2059.369280</td>\n",
              "      <td>1526.950431</td>\n",
              "      <td>200.962154</td>\n",
              "    </tr>\n",
              "    <tr>\n",
              "      <th>2020-05-06</th>\n",
              "      <td>994.246332</td>\n",
              "      <td>706.373804</td>\n",
              "      <td>1461.972996</td>\n",
              "      <td>693.037541</td>\n",
              "      <td>205.882347</td>\n",
              "      <td>717.231486</td>\n",
              "      <td>748.427673</td>\n",
              "      <td>1501.971061</td>\n",
              "      <td>1462.333842</td>\n",
              "      <td>2137.167589</td>\n",
              "      <td>1548.315577</td>\n",
              "      <td>199.662245</td>\n",
              "    </tr>\n",
              "  </tbody>\n",
              "</table>\n",
              "</div>"
            ],
            "text/plain": [
              "               PETR4.SA    VALE3.SA  ...    IVVB11.SA     ETH-BRL\n",
              "Date                                 ...                         \n",
              "2020-05-04  1000.000000  700.000000  ...  1500.000000  200.000000\n",
              "2020-05-05  1032.220974  696.335095  ...  1526.950431  200.962154\n",
              "2020-05-06   994.246332  706.373804  ...  1548.315577  199.662245\n",
              "\n",
              "[3 rows x 12 columns]"
            ]
          },
          "metadata": {},
          "execution_count": 185
        }
      ]
    },
    {
      "cell_type": "code",
      "metadata": {
        "colab": {
          "base_uri": "https://localhost:8080/",
          "height": 230
        },
        "id": "EJL19Cvwm-r9",
        "outputId": "6ed18fe1-772b-4cb7-e950-c35e5ee21e42"
      },
      "source": [
        "PL.tail()"
      ],
      "execution_count": 186,
      "outputs": [
        {
          "output_type": "execute_result",
          "data": {
            "text/html": [
              "<div>\n",
              "<style scoped>\n",
              "    .dataframe tbody tr th:only-of-type {\n",
              "        vertical-align: middle;\n",
              "    }\n",
              "\n",
              "    .dataframe tbody tr th {\n",
              "        vertical-align: top;\n",
              "    }\n",
              "\n",
              "    .dataframe thead th {\n",
              "        text-align: right;\n",
              "    }\n",
              "</style>\n",
              "<table border=\"1\" class=\"dataframe\">\n",
              "  <thead>\n",
              "    <tr style=\"text-align: right;\">\n",
              "      <th></th>\n",
              "      <th>PETR4.SA</th>\n",
              "      <th>VALE3.SA</th>\n",
              "      <th>WEGE3.SA</th>\n",
              "      <th>RADL3.SA</th>\n",
              "      <th>OIBR3.SA</th>\n",
              "      <th>KNRI11.SA</th>\n",
              "      <th>FLMA11.SA</th>\n",
              "      <th>BOVA11.SA</th>\n",
              "      <th>SMAL11.SA</th>\n",
              "      <th>AAPL34.SA</th>\n",
              "      <th>IVVB11.SA</th>\n",
              "      <th>ETH-BRL</th>\n",
              "    </tr>\n",
              "    <tr>\n",
              "      <th>Date</th>\n",
              "      <th></th>\n",
              "      <th></th>\n",
              "      <th></th>\n",
              "      <th></th>\n",
              "      <th></th>\n",
              "      <th></th>\n",
              "      <th></th>\n",
              "      <th></th>\n",
              "      <th></th>\n",
              "      <th></th>\n",
              "      <th></th>\n",
              "      <th></th>\n",
              "    </tr>\n",
              "  </thead>\n",
              "  <tbody>\n",
              "    <tr>\n",
              "      <th>2021-10-27</th>\n",
              "      <td>1807.968787</td>\n",
              "      <td>1453.910226</td>\n",
              "      <td>2994.063471</td>\n",
              "      <td>773.908011</td>\n",
              "      <td>276.470585</td>\n",
              "      <td>614.961634</td>\n",
              "      <td>581.748425</td>\n",
              "      <td>2018.396917</td>\n",
              "      <td>1977.218486</td>\n",
              "      <td>4145.138307</td>\n",
              "      <td>2439.716464</td>\n",
              "      <td>3836.465126</td>\n",
              "    </tr>\n",
              "    <tr>\n",
              "      <th>2021-10-28</th>\n",
              "      <td>1824.983389</td>\n",
              "      <td>1439.263716</td>\n",
              "      <td>2889.424091</td>\n",
              "      <td>764.815081</td>\n",
              "      <td>264.705873</td>\n",
              "      <td>613.171379</td>\n",
              "      <td>579.767306</td>\n",
              "      <td>1983.114375</td>\n",
              "      <td>1931.030570</td>\n",
              "      <td>4268.186890</td>\n",
              "      <td>2499.113466</td>\n",
              "      <td>4162.594651</td>\n",
              "    </tr>\n",
              "    <tr>\n",
              "      <th>2021-10-29</th>\n",
              "      <td>1710.921957</td>\n",
              "      <td>1398.448844</td>\n",
              "      <td>2826.029241</td>\n",
              "      <td>783.000940</td>\n",
              "      <td>261.764699</td>\n",
              "      <td>607.308219</td>\n",
              "      <td>584.433962</td>\n",
              "      <td>1964.783225</td>\n",
              "      <td>1895.239079</td>\n",
              "      <td>4245.177843</td>\n",
              "      <td>2508.865293</td>\n",
              "      <td>4371.422117</td>\n",
              "    </tr>\n",
              "    <tr>\n",
              "      <th>2021-11-01</th>\n",
              "      <td>1764.486758</td>\n",
              "      <td>1412.314190</td>\n",
              "      <td>2822.974005</td>\n",
              "      <td>791.420305</td>\n",
              "      <td>291.176470</td>\n",
              "      <td>606.234025</td>\n",
              "      <td>594.339623</td>\n",
              "      <td>2004.599192</td>\n",
              "      <td>1960.515782</td>\n",
              "      <td>4230.171760</td>\n",
              "      <td>2518.971807</td>\n",
              "      <td>4273.690669</td>\n",
              "    </tr>\n",
              "    <tr>\n",
              "      <th>2021-11-03</th>\n",
              "      <td>1692.016790</td>\n",
              "      <td>1305.101774</td>\n",
              "      <td>2877.967099</td>\n",
              "      <td>803.207429</td>\n",
              "      <td>305.882339</td>\n",
              "      <td>597.506417</td>\n",
              "      <td>572.106905</td>\n",
              "      <td>2010.512524</td>\n",
              "      <td>2012.839375</td>\n",
              "      <td>4224.169250</td>\n",
              "      <td>2511.524760</td>\n",
              "      <td>4589.215761</td>\n",
              "    </tr>\n",
              "  </tbody>\n",
              "</table>\n",
              "</div>"
            ],
            "text/plain": [
              "               PETR4.SA     VALE3.SA  ...    IVVB11.SA      ETH-BRL\n",
              "Date                                  ...                          \n",
              "2021-10-27  1807.968787  1453.910226  ...  2439.716464  3836.465126\n",
              "2021-10-28  1824.983389  1439.263716  ...  2499.113466  4162.594651\n",
              "2021-10-29  1710.921957  1398.448844  ...  2508.865293  4371.422117\n",
              "2021-11-01  1764.486758  1412.314190  ...  2518.971807  4273.690669\n",
              "2021-11-03  1692.016790  1305.101774  ...  2511.524760  4589.215761\n",
              "\n",
              "[5 rows x 12 columns]"
            ]
          },
          "metadata": {},
          "execution_count": 186
        }
      ]
    },
    {
      "cell_type": "markdown",
      "metadata": {
        "id": "LAqx1W7rnFBk"
      },
      "source": [
        "Posição COnsolidada"
      ]
    },
    {
      "cell_type": "code",
      "metadata": {
        "id": "Q1F5MioSnHbq"
      },
      "source": [
        "PL['PL Total'] = PL.iloc[:].sum(axis = 1)"
      ],
      "execution_count": 187,
      "outputs": []
    },
    {
      "cell_type": "code",
      "metadata": {
        "colab": {
          "base_uri": "https://localhost:8080/",
          "height": 230
        },
        "id": "2mPWjKAdnJMl",
        "outputId": "5fb5370e-a67f-4e5e-b635-d3961622d763"
      },
      "source": [
        "PL.head()"
      ],
      "execution_count": 188,
      "outputs": [
        {
          "output_type": "execute_result",
          "data": {
            "text/html": [
              "<div>\n",
              "<style scoped>\n",
              "    .dataframe tbody tr th:only-of-type {\n",
              "        vertical-align: middle;\n",
              "    }\n",
              "\n",
              "    .dataframe tbody tr th {\n",
              "        vertical-align: top;\n",
              "    }\n",
              "\n",
              "    .dataframe thead th {\n",
              "        text-align: right;\n",
              "    }\n",
              "</style>\n",
              "<table border=\"1\" class=\"dataframe\">\n",
              "  <thead>\n",
              "    <tr style=\"text-align: right;\">\n",
              "      <th></th>\n",
              "      <th>PETR4.SA</th>\n",
              "      <th>VALE3.SA</th>\n",
              "      <th>WEGE3.SA</th>\n",
              "      <th>RADL3.SA</th>\n",
              "      <th>OIBR3.SA</th>\n",
              "      <th>KNRI11.SA</th>\n",
              "      <th>FLMA11.SA</th>\n",
              "      <th>BOVA11.SA</th>\n",
              "      <th>SMAL11.SA</th>\n",
              "      <th>AAPL34.SA</th>\n",
              "      <th>IVVB11.SA</th>\n",
              "      <th>ETH-BRL</th>\n",
              "      <th>PL Total</th>\n",
              "    </tr>\n",
              "    <tr>\n",
              "      <th>Date</th>\n",
              "      <th></th>\n",
              "      <th></th>\n",
              "      <th></th>\n",
              "      <th></th>\n",
              "      <th></th>\n",
              "      <th></th>\n",
              "      <th></th>\n",
              "      <th></th>\n",
              "      <th></th>\n",
              "      <th></th>\n",
              "      <th></th>\n",
              "      <th></th>\n",
              "      <th></th>\n",
              "    </tr>\n",
              "  </thead>\n",
              "  <tbody>\n",
              "    <tr>\n",
              "      <th>2020-05-04</th>\n",
              "      <td>1000.000000</td>\n",
              "      <td>700.000000</td>\n",
              "      <td>1500.000000</td>\n",
              "      <td>700.000000</td>\n",
              "      <td>200.000000</td>\n",
              "      <td>700.000000</td>\n",
              "      <td>700.000000</td>\n",
              "      <td>1500.000000</td>\n",
              "      <td>1500.000000</td>\n",
              "      <td>2000.000000</td>\n",
              "      <td>1500.000000</td>\n",
              "      <td>200.000000</td>\n",
              "      <td>12200.000000</td>\n",
              "    </tr>\n",
              "    <tr>\n",
              "      <th>2020-05-05</th>\n",
              "      <td>1032.220974</td>\n",
              "      <td>696.335095</td>\n",
              "      <td>1468.749818</td>\n",
              "      <td>696.987459</td>\n",
              "      <td>205.882347</td>\n",
              "      <td>702.685449</td>\n",
              "      <td>739.622642</td>\n",
              "      <td>1508.672847</td>\n",
              "      <td>1479.377360</td>\n",
              "      <td>2059.369280</td>\n",
              "      <td>1526.950431</td>\n",
              "      <td>200.962154</td>\n",
              "      <td>12317.815855</td>\n",
              "    </tr>\n",
              "    <tr>\n",
              "      <th>2020-05-06</th>\n",
              "      <td>994.246332</td>\n",
              "      <td>706.373804</td>\n",
              "      <td>1461.972996</td>\n",
              "      <td>693.037541</td>\n",
              "      <td>205.882347</td>\n",
              "      <td>717.231486</td>\n",
              "      <td>748.427673</td>\n",
              "      <td>1501.971061</td>\n",
              "      <td>1462.333842</td>\n",
              "      <td>2137.167589</td>\n",
              "      <td>1548.315577</td>\n",
              "      <td>199.662245</td>\n",
              "      <td>12376.622494</td>\n",
              "    </tr>\n",
              "    <tr>\n",
              "      <th>2020-05-07</th>\n",
              "      <td>1003.452213</td>\n",
              "      <td>733.781033</td>\n",
              "      <td>1471.761933</td>\n",
              "      <td>694.175651</td>\n",
              "      <td>197.058826</td>\n",
              "      <td>716.112560</td>\n",
              "      <td>748.427673</td>\n",
              "      <td>1486.202425</td>\n",
              "      <td>1431.655459</td>\n",
              "      <td>2199.999886</td>\n",
              "      <td>1622.340455</td>\n",
              "      <td>212.823946</td>\n",
              "      <td>12517.792059</td>\n",
              "    </tr>\n",
              "    <tr>\n",
              "      <th>2020-05-08</th>\n",
              "      <td>1063.291071</td>\n",
              "      <td>778.397436</td>\n",
              "      <td>1439.759159</td>\n",
              "      <td>700.803383</td>\n",
              "      <td>202.941174</td>\n",
              "      <td>727.301819</td>\n",
              "      <td>726.415094</td>\n",
              "      <td>1526.215543</td>\n",
              "      <td>1433.359785</td>\n",
              "      <td>2220.108617</td>\n",
              "      <td>1602.393646</td>\n",
              "      <td>217.769114</td>\n",
              "      <td>12638.755839</td>\n",
              "    </tr>\n",
              "  </tbody>\n",
              "</table>\n",
              "</div>"
            ],
            "text/plain": [
              "               PETR4.SA    VALE3.SA  ...     ETH-BRL      PL Total\n",
              "Date                                 ...                          \n",
              "2020-05-04  1000.000000  700.000000  ...  200.000000  12200.000000\n",
              "2020-05-05  1032.220974  696.335095  ...  200.962154  12317.815855\n",
              "2020-05-06   994.246332  706.373804  ...  199.662245  12376.622494\n",
              "2020-05-07  1003.452213  733.781033  ...  212.823946  12517.792059\n",
              "2020-05-08  1063.291071  778.397436  ...  217.769114  12638.755839\n",
              "\n",
              "[5 rows x 13 columns]"
            ]
          },
          "metadata": {},
          "execution_count": 188
        }
      ]
    },
    {
      "cell_type": "code",
      "metadata": {
        "colab": {
          "base_uri": "https://localhost:8080/",
          "height": 230
        },
        "id": "rHCGTJpgnMIQ",
        "outputId": "b19d692b-9439-4130-ea27-f7dbcf417e49"
      },
      "source": [
        "PL.tail()"
      ],
      "execution_count": 189,
      "outputs": [
        {
          "output_type": "execute_result",
          "data": {
            "text/html": [
              "<div>\n",
              "<style scoped>\n",
              "    .dataframe tbody tr th:only-of-type {\n",
              "        vertical-align: middle;\n",
              "    }\n",
              "\n",
              "    .dataframe tbody tr th {\n",
              "        vertical-align: top;\n",
              "    }\n",
              "\n",
              "    .dataframe thead th {\n",
              "        text-align: right;\n",
              "    }\n",
              "</style>\n",
              "<table border=\"1\" class=\"dataframe\">\n",
              "  <thead>\n",
              "    <tr style=\"text-align: right;\">\n",
              "      <th></th>\n",
              "      <th>PETR4.SA</th>\n",
              "      <th>VALE3.SA</th>\n",
              "      <th>WEGE3.SA</th>\n",
              "      <th>RADL3.SA</th>\n",
              "      <th>OIBR3.SA</th>\n",
              "      <th>KNRI11.SA</th>\n",
              "      <th>FLMA11.SA</th>\n",
              "      <th>BOVA11.SA</th>\n",
              "      <th>SMAL11.SA</th>\n",
              "      <th>AAPL34.SA</th>\n",
              "      <th>IVVB11.SA</th>\n",
              "      <th>ETH-BRL</th>\n",
              "      <th>PL Total</th>\n",
              "    </tr>\n",
              "    <tr>\n",
              "      <th>Date</th>\n",
              "      <th></th>\n",
              "      <th></th>\n",
              "      <th></th>\n",
              "      <th></th>\n",
              "      <th></th>\n",
              "      <th></th>\n",
              "      <th></th>\n",
              "      <th></th>\n",
              "      <th></th>\n",
              "      <th></th>\n",
              "      <th></th>\n",
              "      <th></th>\n",
              "      <th></th>\n",
              "    </tr>\n",
              "  </thead>\n",
              "  <tbody>\n",
              "    <tr>\n",
              "      <th>2021-10-27</th>\n",
              "      <td>1807.968787</td>\n",
              "      <td>1453.910226</td>\n",
              "      <td>2994.063471</td>\n",
              "      <td>773.908011</td>\n",
              "      <td>276.470585</td>\n",
              "      <td>614.961634</td>\n",
              "      <td>581.748425</td>\n",
              "      <td>2018.396917</td>\n",
              "      <td>1977.218486</td>\n",
              "      <td>4145.138307</td>\n",
              "      <td>2439.716464</td>\n",
              "      <td>3836.465126</td>\n",
              "      <td>22919.966437</td>\n",
              "    </tr>\n",
              "    <tr>\n",
              "      <th>2021-10-28</th>\n",
              "      <td>1824.983389</td>\n",
              "      <td>1439.263716</td>\n",
              "      <td>2889.424091</td>\n",
              "      <td>764.815081</td>\n",
              "      <td>264.705873</td>\n",
              "      <td>613.171379</td>\n",
              "      <td>579.767306</td>\n",
              "      <td>1983.114375</td>\n",
              "      <td>1931.030570</td>\n",
              "      <td>4268.186890</td>\n",
              "      <td>2499.113466</td>\n",
              "      <td>4162.594651</td>\n",
              "      <td>23220.170788</td>\n",
              "    </tr>\n",
              "    <tr>\n",
              "      <th>2021-10-29</th>\n",
              "      <td>1710.921957</td>\n",
              "      <td>1398.448844</td>\n",
              "      <td>2826.029241</td>\n",
              "      <td>783.000940</td>\n",
              "      <td>261.764699</td>\n",
              "      <td>607.308219</td>\n",
              "      <td>584.433962</td>\n",
              "      <td>1964.783225</td>\n",
              "      <td>1895.239079</td>\n",
              "      <td>4245.177843</td>\n",
              "      <td>2508.865293</td>\n",
              "      <td>4371.422117</td>\n",
              "      <td>23157.395421</td>\n",
              "    </tr>\n",
              "    <tr>\n",
              "      <th>2021-11-01</th>\n",
              "      <td>1764.486758</td>\n",
              "      <td>1412.314190</td>\n",
              "      <td>2822.974005</td>\n",
              "      <td>791.420305</td>\n",
              "      <td>291.176470</td>\n",
              "      <td>606.234025</td>\n",
              "      <td>594.339623</td>\n",
              "      <td>2004.599192</td>\n",
              "      <td>1960.515782</td>\n",
              "      <td>4230.171760</td>\n",
              "      <td>2518.971807</td>\n",
              "      <td>4273.690669</td>\n",
              "      <td>23270.894585</td>\n",
              "    </tr>\n",
              "    <tr>\n",
              "      <th>2021-11-03</th>\n",
              "      <td>1692.016790</td>\n",
              "      <td>1305.101774</td>\n",
              "      <td>2877.967099</td>\n",
              "      <td>803.207429</td>\n",
              "      <td>305.882339</td>\n",
              "      <td>597.506417</td>\n",
              "      <td>572.106905</td>\n",
              "      <td>2010.512524</td>\n",
              "      <td>2012.839375</td>\n",
              "      <td>4224.169250</td>\n",
              "      <td>2511.524760</td>\n",
              "      <td>4589.215761</td>\n",
              "      <td>23502.050423</td>\n",
              "    </tr>\n",
              "  </tbody>\n",
              "</table>\n",
              "</div>"
            ],
            "text/plain": [
              "               PETR4.SA     VALE3.SA  ...      ETH-BRL      PL Total\n",
              "Date                                  ...                           \n",
              "2021-10-27  1807.968787  1453.910226  ...  3836.465126  22919.966437\n",
              "2021-10-28  1824.983389  1439.263716  ...  4162.594651  23220.170788\n",
              "2021-10-29  1710.921957  1398.448844  ...  4371.422117  23157.395421\n",
              "2021-11-01  1764.486758  1412.314190  ...  4273.690669  23270.894585\n",
              "2021-11-03  1692.016790  1305.101774  ...  4589.215761  23502.050423\n",
              "\n",
              "[5 rows x 13 columns]"
            ]
          },
          "metadata": {},
          "execution_count": 189
        }
      ]
    },
    {
      "cell_type": "markdown",
      "metadata": {
        "id": "afKlvwLunPbZ"
      },
      "source": [
        "**Novo Aporte**"
      ]
    },
    {
      "cell_type": "markdown",
      "metadata": {
        "id": "xTtQMZaLnW_q"
      },
      "source": [
        "Data do novo aporte"
      ]
    },
    {
      "cell_type": "code",
      "metadata": {
        "id": "lbeFPueBnUY7"
      },
      "source": [
        "data_aporte = '2020-12-10'"
      ],
      "execution_count": 190,
      "outputs": []
    },
    {
      "cell_type": "markdown",
      "metadata": {
        "id": "PSByi80znguk"
      },
      "source": [
        "Carteira na data do aporte"
      ]
    },
    {
      "cell_type": "code",
      "metadata": {
        "colab": {
          "base_uri": "https://localhost:8080/"
        },
        "id": "q2Kv8nr4nj-V",
        "outputId": "f7b08dbd-35c3-46e3-9410-718e047bc71d"
      },
      "source": [
        "PL.loc[data_aporte]"
      ],
      "execution_count": 191,
      "outputs": [
        {
          "output_type": "execute_result",
          "data": {
            "text/plain": [
              "PETR4.SA      1600.722427\n",
              "VALE3.SA      1411.045970\n",
              "WEGE3.SA      2681.772014\n",
              "RADL3.SA       825.297214\n",
              "OIBR3.SA       714.705894\n",
              "KNRI11.SA      688.766009\n",
              "FLMA11.SA      658.176101\n",
              "BOVA11.SA     2181.997355\n",
              "SMAL11.SA     2241.222534\n",
              "AAPL34.SA     3087.623130\n",
              "IVVB11.SA     1771.276655\n",
              "ETH-BRL        507.533513\n",
              "PL Total     18370.138815\n",
              "Name: 2020-12-10 00:00:00, dtype: float64"
            ]
          },
          "metadata": {},
          "execution_count": 191
        }
      ]
    },
    {
      "cell_type": "markdown",
      "metadata": {
        "id": "C7X-7Qskno1P"
      },
      "source": [
        "Dados do novo aporte"
      ]
    },
    {
      "cell_type": "code",
      "metadata": {
        "id": "N6981QlfnqyZ"
      },
      "source": [
        "segunda_compra = {'VALE3.SA': 2000, 'RADL3.SA': 1000, 'FLMA11.SA': 1000}\n",
        "           \n",
        "segunda_compra_df = pd.Series(data=segunda_compra, index=list(segunda_compra.keys()))"
      ],
      "execution_count": 192,
      "outputs": []
    },
    {
      "cell_type": "code",
      "metadata": {
        "colab": {
          "base_uri": "https://localhost:8080/"
        },
        "id": "lVzN5jD4nvja",
        "outputId": "890e19cf-a624-4f3d-a3af-4dfd214e88fe"
      },
      "source": [
        "segunda_compra_df"
      ],
      "execution_count": 193,
      "outputs": [
        {
          "output_type": "execute_result",
          "data": {
            "text/plain": [
              "VALE3.SA     2000\n",
              "RADL3.SA     1000\n",
              "FLMA11.SA    1000\n",
              "dtype: int64"
            ]
          },
          "metadata": {},
          "execution_count": 193
        }
      ]
    },
    {
      "cell_type": "code",
      "metadata": {
        "colab": {
          "base_uri": "https://localhost:8080/"
        },
        "id": "pS_GRFHhnx2O",
        "outputId": "6fe33459-c01e-4edd-9587-75db23374edb"
      },
      "source": [
        "sum(segunda_compra.values())"
      ],
      "execution_count": 194,
      "outputs": [
        {
          "output_type": "execute_result",
          "data": {
            "text/plain": [
              "4000"
            ]
          },
          "metadata": {},
          "execution_count": 194
        }
      ]
    },
    {
      "cell_type": "code",
      "metadata": {
        "id": "VxqjqXX9n0iZ"
      },
      "source": [
        "precos_segundo_aporte = precos.loc[data_aporte]"
      ],
      "execution_count": 195,
      "outputs": []
    },
    {
      "cell_type": "code",
      "metadata": {
        "colab": {
          "base_uri": "https://localhost:8080/"
        },
        "id": "912TctgUn142",
        "outputId": "3627f65e-5e20-46ac-d16d-5888dbee6fb7"
      },
      "source": [
        "precos_segundo_aporte"
      ],
      "execution_count": 196,
      "outputs": [
        {
          "output_type": "execute_result",
          "data": {
            "text/plain": [
              "PETR4.SA       25.401283\n",
              "VALE3.SA       72.255058\n",
              "WEGE3.SA       35.111301\n",
              "RADL3.SA       24.505922\n",
              "OIBR3.SA        2.430000\n",
              "KNRI11.SA     153.889999\n",
              "FLMA11.SA     149.500000\n",
              "BOVA11.SA     110.699997\n",
              "SMAL11.SA     131.500000\n",
              "AAPL34.SA      61.728058\n",
              "IVVB11.SA     199.800003\n",
              "ETH-BRL      2893.370167\n",
              "Name: 2020-12-10 00:00:00, dtype: float64"
            ]
          },
          "metadata": {},
          "execution_count": 196
        }
      ]
    },
    {
      "cell_type": "code",
      "metadata": {
        "id": "aF9xFMWUn-FG"
      },
      "source": [
        "qtd_acoes_segundo = segunda_compra_df/precos_segundo_aporte"
      ],
      "execution_count": 197,
      "outputs": []
    },
    {
      "cell_type": "code",
      "metadata": {
        "colab": {
          "base_uri": "https://localhost:8080/"
        },
        "id": "yrSKHacwn-0I",
        "outputId": "b09b55f3-8cd0-431e-802b-421bb03f2e28"
      },
      "source": [
        "qtd_acoes_segundo"
      ],
      "execution_count": 198,
      "outputs": [
        {
          "output_type": "execute_result",
          "data": {
            "text/plain": [
              "AAPL34.SA          NaN\n",
              "BOVA11.SA          NaN\n",
              "ETH-BRL            NaN\n",
              "FLMA11.SA     6.688963\n",
              "IVVB11.SA          NaN\n",
              "KNRI11.SA          NaN\n",
              "OIBR3.SA           NaN\n",
              "PETR4.SA           NaN\n",
              "RADL3.SA     40.806462\n",
              "SMAL11.SA          NaN\n",
              "VALE3.SA     27.679723\n",
              "WEGE3.SA           NaN\n",
              "dtype: float64"
            ]
          },
          "metadata": {},
          "execution_count": 198
        }
      ]
    },
    {
      "cell_type": "code",
      "metadata": {
        "id": "7MvoiBy6oA4h"
      },
      "source": [
        "novos_PL = pd.DataFrame(data= None, index = precos.index, columns= precos.columns)"
      ],
      "execution_count": 199,
      "outputs": []
    },
    {
      "cell_type": "code",
      "metadata": {
        "colab": {
          "base_uri": "https://localhost:8080/",
          "height": 230
        },
        "id": "xmtfg69loDLq",
        "outputId": "c3ccacb9-59fe-4af4-e563-8a6219403d91"
      },
      "source": [
        "novos_PL.head()"
      ],
      "execution_count": 200,
      "outputs": [
        {
          "output_type": "execute_result",
          "data": {
            "text/html": [
              "<div>\n",
              "<style scoped>\n",
              "    .dataframe tbody tr th:only-of-type {\n",
              "        vertical-align: middle;\n",
              "    }\n",
              "\n",
              "    .dataframe tbody tr th {\n",
              "        vertical-align: top;\n",
              "    }\n",
              "\n",
              "    .dataframe thead th {\n",
              "        text-align: right;\n",
              "    }\n",
              "</style>\n",
              "<table border=\"1\" class=\"dataframe\">\n",
              "  <thead>\n",
              "    <tr style=\"text-align: right;\">\n",
              "      <th></th>\n",
              "      <th>PETR4.SA</th>\n",
              "      <th>VALE3.SA</th>\n",
              "      <th>WEGE3.SA</th>\n",
              "      <th>RADL3.SA</th>\n",
              "      <th>OIBR3.SA</th>\n",
              "      <th>KNRI11.SA</th>\n",
              "      <th>FLMA11.SA</th>\n",
              "      <th>BOVA11.SA</th>\n",
              "      <th>SMAL11.SA</th>\n",
              "      <th>AAPL34.SA</th>\n",
              "      <th>IVVB11.SA</th>\n",
              "      <th>ETH-BRL</th>\n",
              "    </tr>\n",
              "    <tr>\n",
              "      <th>Date</th>\n",
              "      <th></th>\n",
              "      <th></th>\n",
              "      <th></th>\n",
              "      <th></th>\n",
              "      <th></th>\n",
              "      <th></th>\n",
              "      <th></th>\n",
              "      <th></th>\n",
              "      <th></th>\n",
              "      <th></th>\n",
              "      <th></th>\n",
              "      <th></th>\n",
              "    </tr>\n",
              "  </thead>\n",
              "  <tbody>\n",
              "    <tr>\n",
              "      <th>2020-05-04</th>\n",
              "      <td>NaN</td>\n",
              "      <td>NaN</td>\n",
              "      <td>NaN</td>\n",
              "      <td>NaN</td>\n",
              "      <td>NaN</td>\n",
              "      <td>NaN</td>\n",
              "      <td>NaN</td>\n",
              "      <td>NaN</td>\n",
              "      <td>NaN</td>\n",
              "      <td>NaN</td>\n",
              "      <td>NaN</td>\n",
              "      <td>NaN</td>\n",
              "    </tr>\n",
              "    <tr>\n",
              "      <th>2020-05-05</th>\n",
              "      <td>NaN</td>\n",
              "      <td>NaN</td>\n",
              "      <td>NaN</td>\n",
              "      <td>NaN</td>\n",
              "      <td>NaN</td>\n",
              "      <td>NaN</td>\n",
              "      <td>NaN</td>\n",
              "      <td>NaN</td>\n",
              "      <td>NaN</td>\n",
              "      <td>NaN</td>\n",
              "      <td>NaN</td>\n",
              "      <td>NaN</td>\n",
              "    </tr>\n",
              "    <tr>\n",
              "      <th>2020-05-06</th>\n",
              "      <td>NaN</td>\n",
              "      <td>NaN</td>\n",
              "      <td>NaN</td>\n",
              "      <td>NaN</td>\n",
              "      <td>NaN</td>\n",
              "      <td>NaN</td>\n",
              "      <td>NaN</td>\n",
              "      <td>NaN</td>\n",
              "      <td>NaN</td>\n",
              "      <td>NaN</td>\n",
              "      <td>NaN</td>\n",
              "      <td>NaN</td>\n",
              "    </tr>\n",
              "    <tr>\n",
              "      <th>2020-05-07</th>\n",
              "      <td>NaN</td>\n",
              "      <td>NaN</td>\n",
              "      <td>NaN</td>\n",
              "      <td>NaN</td>\n",
              "      <td>NaN</td>\n",
              "      <td>NaN</td>\n",
              "      <td>NaN</td>\n",
              "      <td>NaN</td>\n",
              "      <td>NaN</td>\n",
              "      <td>NaN</td>\n",
              "      <td>NaN</td>\n",
              "      <td>NaN</td>\n",
              "    </tr>\n",
              "    <tr>\n",
              "      <th>2020-05-08</th>\n",
              "      <td>NaN</td>\n",
              "      <td>NaN</td>\n",
              "      <td>NaN</td>\n",
              "      <td>NaN</td>\n",
              "      <td>NaN</td>\n",
              "      <td>NaN</td>\n",
              "      <td>NaN</td>\n",
              "      <td>NaN</td>\n",
              "      <td>NaN</td>\n",
              "      <td>NaN</td>\n",
              "      <td>NaN</td>\n",
              "      <td>NaN</td>\n",
              "    </tr>\n",
              "  </tbody>\n",
              "</table>\n",
              "</div>"
            ],
            "text/plain": [
              "           PETR4.SA VALE3.SA WEGE3.SA  ... AAPL34.SA IVVB11.SA ETH-BRL\n",
              "Date                                   ...                            \n",
              "2020-05-04      NaN      NaN      NaN  ...       NaN       NaN     NaN\n",
              "2020-05-05      NaN      NaN      NaN  ...       NaN       NaN     NaN\n",
              "2020-05-06      NaN      NaN      NaN  ...       NaN       NaN     NaN\n",
              "2020-05-07      NaN      NaN      NaN  ...       NaN       NaN     NaN\n",
              "2020-05-08      NaN      NaN      NaN  ...       NaN       NaN     NaN\n",
              "\n",
              "[5 rows x 12 columns]"
            ]
          },
          "metadata": {},
          "execution_count": 200
        }
      ]
    },
    {
      "cell_type": "code",
      "metadata": {
        "colab": {
          "base_uri": "https://localhost:8080/",
          "height": 440
        },
        "id": "Ic_sah-HoGzX",
        "outputId": "51171250-055e-4362-ef05-313d02d950d9"
      },
      "source": [
        "novos_PL = precos*qtd_acoes_segundo\n",
        "novos_PL = novos_PL.fillna(0)\n",
        "novos_PL[novos_PL.index < data_aporte] = 0\n",
        "novos_PL"
      ],
      "execution_count": 201,
      "outputs": [
        {
          "output_type": "execute_result",
          "data": {
            "text/html": [
              "<div>\n",
              "<style scoped>\n",
              "    .dataframe tbody tr th:only-of-type {\n",
              "        vertical-align: middle;\n",
              "    }\n",
              "\n",
              "    .dataframe tbody tr th {\n",
              "        vertical-align: top;\n",
              "    }\n",
              "\n",
              "    .dataframe thead th {\n",
              "        text-align: right;\n",
              "    }\n",
              "</style>\n",
              "<table border=\"1\" class=\"dataframe\">\n",
              "  <thead>\n",
              "    <tr style=\"text-align: right;\">\n",
              "      <th></th>\n",
              "      <th>AAPL34.SA</th>\n",
              "      <th>BOVA11.SA</th>\n",
              "      <th>ETH-BRL</th>\n",
              "      <th>FLMA11.SA</th>\n",
              "      <th>IVVB11.SA</th>\n",
              "      <th>KNRI11.SA</th>\n",
              "      <th>OIBR3.SA</th>\n",
              "      <th>PETR4.SA</th>\n",
              "      <th>RADL3.SA</th>\n",
              "      <th>SMAL11.SA</th>\n",
              "      <th>VALE3.SA</th>\n",
              "      <th>WEGE3.SA</th>\n",
              "    </tr>\n",
              "    <tr>\n",
              "      <th>Date</th>\n",
              "      <th></th>\n",
              "      <th></th>\n",
              "      <th></th>\n",
              "      <th></th>\n",
              "      <th></th>\n",
              "      <th></th>\n",
              "      <th></th>\n",
              "      <th></th>\n",
              "      <th></th>\n",
              "      <th></th>\n",
              "      <th></th>\n",
              "      <th></th>\n",
              "    </tr>\n",
              "  </thead>\n",
              "  <tbody>\n",
              "    <tr>\n",
              "      <th>2020-05-04</th>\n",
              "      <td>0.0</td>\n",
              "      <td>0.0</td>\n",
              "      <td>0.0</td>\n",
              "      <td>0.000000</td>\n",
              "      <td>0.0</td>\n",
              "      <td>0.0</td>\n",
              "      <td>0.0</td>\n",
              "      <td>0.0</td>\n",
              "      <td>0.000000</td>\n",
              "      <td>0.0</td>\n",
              "      <td>0.000000</td>\n",
              "      <td>0.0</td>\n",
              "    </tr>\n",
              "    <tr>\n",
              "      <th>2020-05-05</th>\n",
              "      <td>0.0</td>\n",
              "      <td>0.0</td>\n",
              "      <td>0.0</td>\n",
              "      <td>0.000000</td>\n",
              "      <td>0.0</td>\n",
              "      <td>0.0</td>\n",
              "      <td>0.0</td>\n",
              "      <td>0.0</td>\n",
              "      <td>0.000000</td>\n",
              "      <td>0.0</td>\n",
              "      <td>0.000000</td>\n",
              "      <td>0.0</td>\n",
              "    </tr>\n",
              "    <tr>\n",
              "      <th>2020-05-06</th>\n",
              "      <td>0.0</td>\n",
              "      <td>0.0</td>\n",
              "      <td>0.0</td>\n",
              "      <td>0.000000</td>\n",
              "      <td>0.0</td>\n",
              "      <td>0.0</td>\n",
              "      <td>0.0</td>\n",
              "      <td>0.0</td>\n",
              "      <td>0.000000</td>\n",
              "      <td>0.0</td>\n",
              "      <td>0.000000</td>\n",
              "      <td>0.0</td>\n",
              "    </tr>\n",
              "    <tr>\n",
              "      <th>2020-05-07</th>\n",
              "      <td>0.0</td>\n",
              "      <td>0.0</td>\n",
              "      <td>0.0</td>\n",
              "      <td>0.000000</td>\n",
              "      <td>0.0</td>\n",
              "      <td>0.0</td>\n",
              "      <td>0.0</td>\n",
              "      <td>0.0</td>\n",
              "      <td>0.000000</td>\n",
              "      <td>0.0</td>\n",
              "      <td>0.000000</td>\n",
              "      <td>0.0</td>\n",
              "    </tr>\n",
              "    <tr>\n",
              "      <th>2020-05-08</th>\n",
              "      <td>0.0</td>\n",
              "      <td>0.0</td>\n",
              "      <td>0.0</td>\n",
              "      <td>0.000000</td>\n",
              "      <td>0.0</td>\n",
              "      <td>0.0</td>\n",
              "      <td>0.0</td>\n",
              "      <td>0.0</td>\n",
              "      <td>0.000000</td>\n",
              "      <td>0.0</td>\n",
              "      <td>0.000000</td>\n",
              "      <td>0.0</td>\n",
              "    </tr>\n",
              "    <tr>\n",
              "      <th>...</th>\n",
              "      <td>...</td>\n",
              "      <td>...</td>\n",
              "      <td>...</td>\n",
              "      <td>...</td>\n",
              "      <td>...</td>\n",
              "      <td>...</td>\n",
              "      <td>...</td>\n",
              "      <td>...</td>\n",
              "      <td>...</td>\n",
              "      <td>...</td>\n",
              "      <td>...</td>\n",
              "      <td>...</td>\n",
              "    </tr>\n",
              "    <tr>\n",
              "      <th>2021-10-27</th>\n",
              "      <td>0.0</td>\n",
              "      <td>0.0</td>\n",
              "      <td>0.0</td>\n",
              "      <td>883.879595</td>\n",
              "      <td>0.0</td>\n",
              "      <td>0.0</td>\n",
              "      <td>0.0</td>\n",
              "      <td>0.0</td>\n",
              "      <td>937.732489</td>\n",
              "      <td>0.0</td>\n",
              "      <td>2060.755294</td>\n",
              "      <td>0.0</td>\n",
              "    </tr>\n",
              "    <tr>\n",
              "      <th>2021-10-28</th>\n",
              "      <td>0.0</td>\n",
              "      <td>0.0</td>\n",
              "      <td>0.0</td>\n",
              "      <td>880.869582</td>\n",
              "      <td>0.0</td>\n",
              "      <td>0.0</td>\n",
              "      <td>0.0</td>\n",
              "      <td>0.0</td>\n",
              "      <td>926.714726</td>\n",
              "      <td>0.0</td>\n",
              "      <td>2039.995502</td>\n",
              "      <td>0.0</td>\n",
              "    </tr>\n",
              "    <tr>\n",
              "      <th>2021-10-29</th>\n",
              "      <td>0.0</td>\n",
              "      <td>0.0</td>\n",
              "      <td>0.0</td>\n",
              "      <td>887.959866</td>\n",
              "      <td>0.0</td>\n",
              "      <td>0.0</td>\n",
              "      <td>0.0</td>\n",
              "      <td>0.0</td>\n",
              "      <td>948.750253</td>\n",
              "      <td>0.0</td>\n",
              "      <td>1982.144982</td>\n",
              "      <td>0.0</td>\n",
              "    </tr>\n",
              "    <tr>\n",
              "      <th>2021-11-01</th>\n",
              "      <td>0.0</td>\n",
              "      <td>0.0</td>\n",
              "      <td>0.0</td>\n",
              "      <td>903.010033</td>\n",
              "      <td>0.0</td>\n",
              "      <td>0.0</td>\n",
              "      <td>0.0</td>\n",
              "      <td>0.0</td>\n",
              "      <td>958.951869</td>\n",
              "      <td>0.0</td>\n",
              "      <td>2001.797560</td>\n",
              "      <td>0.0</td>\n",
              "    </tr>\n",
              "    <tr>\n",
              "      <th>2021-11-03</th>\n",
              "      <td>0.0</td>\n",
              "      <td>0.0</td>\n",
              "      <td>0.0</td>\n",
              "      <td>869.230749</td>\n",
              "      <td>0.0</td>\n",
              "      <td>0.0</td>\n",
              "      <td>0.0</td>\n",
              "      <td>0.0</td>\n",
              "      <td>973.234146</td>\n",
              "      <td>0.0</td>\n",
              "      <td>1849.835940</td>\n",
              "      <td>0.0</td>\n",
              "    </tr>\n",
              "  </tbody>\n",
              "</table>\n",
              "<p>371 rows × 12 columns</p>\n",
              "</div>"
            ],
            "text/plain": [
              "            AAPL34.SA  BOVA11.SA  ETH-BRL  ...  SMAL11.SA     VALE3.SA  WEGE3.SA\n",
              "Date                                       ...                                  \n",
              "2020-05-04        0.0        0.0      0.0  ...        0.0     0.000000       0.0\n",
              "2020-05-05        0.0        0.0      0.0  ...        0.0     0.000000       0.0\n",
              "2020-05-06        0.0        0.0      0.0  ...        0.0     0.000000       0.0\n",
              "2020-05-07        0.0        0.0      0.0  ...        0.0     0.000000       0.0\n",
              "2020-05-08        0.0        0.0      0.0  ...        0.0     0.000000       0.0\n",
              "...               ...        ...      ...  ...        ...          ...       ...\n",
              "2021-10-27        0.0        0.0      0.0  ...        0.0  2060.755294       0.0\n",
              "2021-10-28        0.0        0.0      0.0  ...        0.0  2039.995502       0.0\n",
              "2021-10-29        0.0        0.0      0.0  ...        0.0  1982.144982       0.0\n",
              "2021-11-01        0.0        0.0      0.0  ...        0.0  2001.797560       0.0\n",
              "2021-11-03        0.0        0.0      0.0  ...        0.0  1849.835940       0.0\n",
              "\n",
              "[371 rows x 12 columns]"
            ]
          },
          "metadata": {},
          "execution_count": 201
        }
      ]
    },
    {
      "cell_type": "markdown",
      "metadata": {
        "id": "rAd3wVQ0oS7A"
      },
      "source": [
        "Juntando carteira original com o que foi aportado"
      ]
    },
    {
      "cell_type": "code",
      "metadata": {
        "id": "jwUCYrbUoYG9"
      },
      "source": [
        "carteira_full = pd.concat([PL, novos_PL], axis = 1)"
      ],
      "execution_count": 202,
      "outputs": []
    },
    {
      "cell_type": "code",
      "metadata": {
        "colab": {
          "base_uri": "https://localhost:8080/",
          "height": 618
        },
        "id": "iqhbJCpVoZWt",
        "outputId": "1197e682-e6bf-45e1-899a-ff6b608e8ea3"
      },
      "source": [
        "\n",
        "carteira_full"
      ],
      "execution_count": 203,
      "outputs": [
        {
          "output_type": "execute_result",
          "data": {
            "text/html": [
              "<div>\n",
              "<style scoped>\n",
              "    .dataframe tbody tr th:only-of-type {\n",
              "        vertical-align: middle;\n",
              "    }\n",
              "\n",
              "    .dataframe tbody tr th {\n",
              "        vertical-align: top;\n",
              "    }\n",
              "\n",
              "    .dataframe thead th {\n",
              "        text-align: right;\n",
              "    }\n",
              "</style>\n",
              "<table border=\"1\" class=\"dataframe\">\n",
              "  <thead>\n",
              "    <tr style=\"text-align: right;\">\n",
              "      <th></th>\n",
              "      <th>PETR4.SA</th>\n",
              "      <th>VALE3.SA</th>\n",
              "      <th>WEGE3.SA</th>\n",
              "      <th>RADL3.SA</th>\n",
              "      <th>OIBR3.SA</th>\n",
              "      <th>KNRI11.SA</th>\n",
              "      <th>FLMA11.SA</th>\n",
              "      <th>BOVA11.SA</th>\n",
              "      <th>SMAL11.SA</th>\n",
              "      <th>AAPL34.SA</th>\n",
              "      <th>IVVB11.SA</th>\n",
              "      <th>ETH-BRL</th>\n",
              "      <th>PL Total</th>\n",
              "      <th>AAPL34.SA</th>\n",
              "      <th>BOVA11.SA</th>\n",
              "      <th>ETH-BRL</th>\n",
              "      <th>FLMA11.SA</th>\n",
              "      <th>IVVB11.SA</th>\n",
              "      <th>KNRI11.SA</th>\n",
              "      <th>OIBR3.SA</th>\n",
              "      <th>PETR4.SA</th>\n",
              "      <th>RADL3.SA</th>\n",
              "      <th>SMAL11.SA</th>\n",
              "      <th>VALE3.SA</th>\n",
              "      <th>WEGE3.SA</th>\n",
              "    </tr>\n",
              "    <tr>\n",
              "      <th>Date</th>\n",
              "      <th></th>\n",
              "      <th></th>\n",
              "      <th></th>\n",
              "      <th></th>\n",
              "      <th></th>\n",
              "      <th></th>\n",
              "      <th></th>\n",
              "      <th></th>\n",
              "      <th></th>\n",
              "      <th></th>\n",
              "      <th></th>\n",
              "      <th></th>\n",
              "      <th></th>\n",
              "      <th></th>\n",
              "      <th></th>\n",
              "      <th></th>\n",
              "      <th></th>\n",
              "      <th></th>\n",
              "      <th></th>\n",
              "      <th></th>\n",
              "      <th></th>\n",
              "      <th></th>\n",
              "      <th></th>\n",
              "      <th></th>\n",
              "      <th></th>\n",
              "    </tr>\n",
              "  </thead>\n",
              "  <tbody>\n",
              "    <tr>\n",
              "      <th>2020-05-04</th>\n",
              "      <td>1000.000000</td>\n",
              "      <td>700.000000</td>\n",
              "      <td>1500.000000</td>\n",
              "      <td>700.000000</td>\n",
              "      <td>200.000000</td>\n",
              "      <td>700.000000</td>\n",
              "      <td>700.000000</td>\n",
              "      <td>1500.000000</td>\n",
              "      <td>1500.000000</td>\n",
              "      <td>2000.000000</td>\n",
              "      <td>1500.000000</td>\n",
              "      <td>200.000000</td>\n",
              "      <td>12200.000000</td>\n",
              "      <td>0.0</td>\n",
              "      <td>0.0</td>\n",
              "      <td>0.0</td>\n",
              "      <td>0.000000</td>\n",
              "      <td>0.0</td>\n",
              "      <td>0.0</td>\n",
              "      <td>0.0</td>\n",
              "      <td>0.0</td>\n",
              "      <td>0.000000</td>\n",
              "      <td>0.0</td>\n",
              "      <td>0.000000</td>\n",
              "      <td>0.0</td>\n",
              "    </tr>\n",
              "    <tr>\n",
              "      <th>2020-05-05</th>\n",
              "      <td>1032.220974</td>\n",
              "      <td>696.335095</td>\n",
              "      <td>1468.749818</td>\n",
              "      <td>696.987459</td>\n",
              "      <td>205.882347</td>\n",
              "      <td>702.685449</td>\n",
              "      <td>739.622642</td>\n",
              "      <td>1508.672847</td>\n",
              "      <td>1479.377360</td>\n",
              "      <td>2059.369280</td>\n",
              "      <td>1526.950431</td>\n",
              "      <td>200.962154</td>\n",
              "      <td>12317.815855</td>\n",
              "      <td>0.0</td>\n",
              "      <td>0.0</td>\n",
              "      <td>0.0</td>\n",
              "      <td>0.000000</td>\n",
              "      <td>0.0</td>\n",
              "      <td>0.0</td>\n",
              "      <td>0.0</td>\n",
              "      <td>0.0</td>\n",
              "      <td>0.000000</td>\n",
              "      <td>0.0</td>\n",
              "      <td>0.000000</td>\n",
              "      <td>0.0</td>\n",
              "    </tr>\n",
              "    <tr>\n",
              "      <th>2020-05-06</th>\n",
              "      <td>994.246332</td>\n",
              "      <td>706.373804</td>\n",
              "      <td>1461.972996</td>\n",
              "      <td>693.037541</td>\n",
              "      <td>205.882347</td>\n",
              "      <td>717.231486</td>\n",
              "      <td>748.427673</td>\n",
              "      <td>1501.971061</td>\n",
              "      <td>1462.333842</td>\n",
              "      <td>2137.167589</td>\n",
              "      <td>1548.315577</td>\n",
              "      <td>199.662245</td>\n",
              "      <td>12376.622494</td>\n",
              "      <td>0.0</td>\n",
              "      <td>0.0</td>\n",
              "      <td>0.0</td>\n",
              "      <td>0.000000</td>\n",
              "      <td>0.0</td>\n",
              "      <td>0.0</td>\n",
              "      <td>0.0</td>\n",
              "      <td>0.0</td>\n",
              "      <td>0.000000</td>\n",
              "      <td>0.0</td>\n",
              "      <td>0.000000</td>\n",
              "      <td>0.0</td>\n",
              "    </tr>\n",
              "    <tr>\n",
              "      <th>2020-05-07</th>\n",
              "      <td>1003.452213</td>\n",
              "      <td>733.781033</td>\n",
              "      <td>1471.761933</td>\n",
              "      <td>694.175651</td>\n",
              "      <td>197.058826</td>\n",
              "      <td>716.112560</td>\n",
              "      <td>748.427673</td>\n",
              "      <td>1486.202425</td>\n",
              "      <td>1431.655459</td>\n",
              "      <td>2199.999886</td>\n",
              "      <td>1622.340455</td>\n",
              "      <td>212.823946</td>\n",
              "      <td>12517.792059</td>\n",
              "      <td>0.0</td>\n",
              "      <td>0.0</td>\n",
              "      <td>0.0</td>\n",
              "      <td>0.000000</td>\n",
              "      <td>0.0</td>\n",
              "      <td>0.0</td>\n",
              "      <td>0.0</td>\n",
              "      <td>0.0</td>\n",
              "      <td>0.000000</td>\n",
              "      <td>0.0</td>\n",
              "      <td>0.000000</td>\n",
              "      <td>0.0</td>\n",
              "    </tr>\n",
              "    <tr>\n",
              "      <th>2020-05-08</th>\n",
              "      <td>1063.291071</td>\n",
              "      <td>778.397436</td>\n",
              "      <td>1439.759159</td>\n",
              "      <td>700.803383</td>\n",
              "      <td>202.941174</td>\n",
              "      <td>727.301819</td>\n",
              "      <td>726.415094</td>\n",
              "      <td>1526.215543</td>\n",
              "      <td>1433.359785</td>\n",
              "      <td>2220.108617</td>\n",
              "      <td>1602.393646</td>\n",
              "      <td>217.769114</td>\n",
              "      <td>12638.755839</td>\n",
              "      <td>0.0</td>\n",
              "      <td>0.0</td>\n",
              "      <td>0.0</td>\n",
              "      <td>0.000000</td>\n",
              "      <td>0.0</td>\n",
              "      <td>0.0</td>\n",
              "      <td>0.0</td>\n",
              "      <td>0.0</td>\n",
              "      <td>0.000000</td>\n",
              "      <td>0.0</td>\n",
              "      <td>0.000000</td>\n",
              "      <td>0.0</td>\n",
              "    </tr>\n",
              "    <tr>\n",
              "      <th>...</th>\n",
              "      <td>...</td>\n",
              "      <td>...</td>\n",
              "      <td>...</td>\n",
              "      <td>...</td>\n",
              "      <td>...</td>\n",
              "      <td>...</td>\n",
              "      <td>...</td>\n",
              "      <td>...</td>\n",
              "      <td>...</td>\n",
              "      <td>...</td>\n",
              "      <td>...</td>\n",
              "      <td>...</td>\n",
              "      <td>...</td>\n",
              "      <td>...</td>\n",
              "      <td>...</td>\n",
              "      <td>...</td>\n",
              "      <td>...</td>\n",
              "      <td>...</td>\n",
              "      <td>...</td>\n",
              "      <td>...</td>\n",
              "      <td>...</td>\n",
              "      <td>...</td>\n",
              "      <td>...</td>\n",
              "      <td>...</td>\n",
              "      <td>...</td>\n",
              "    </tr>\n",
              "    <tr>\n",
              "      <th>2021-10-27</th>\n",
              "      <td>1807.968787</td>\n",
              "      <td>1453.910226</td>\n",
              "      <td>2994.063471</td>\n",
              "      <td>773.908011</td>\n",
              "      <td>276.470585</td>\n",
              "      <td>614.961634</td>\n",
              "      <td>581.748425</td>\n",
              "      <td>2018.396917</td>\n",
              "      <td>1977.218486</td>\n",
              "      <td>4145.138307</td>\n",
              "      <td>2439.716464</td>\n",
              "      <td>3836.465126</td>\n",
              "      <td>22919.966437</td>\n",
              "      <td>0.0</td>\n",
              "      <td>0.0</td>\n",
              "      <td>0.0</td>\n",
              "      <td>883.879595</td>\n",
              "      <td>0.0</td>\n",
              "      <td>0.0</td>\n",
              "      <td>0.0</td>\n",
              "      <td>0.0</td>\n",
              "      <td>937.732489</td>\n",
              "      <td>0.0</td>\n",
              "      <td>2060.755294</td>\n",
              "      <td>0.0</td>\n",
              "    </tr>\n",
              "    <tr>\n",
              "      <th>2021-10-28</th>\n",
              "      <td>1824.983389</td>\n",
              "      <td>1439.263716</td>\n",
              "      <td>2889.424091</td>\n",
              "      <td>764.815081</td>\n",
              "      <td>264.705873</td>\n",
              "      <td>613.171379</td>\n",
              "      <td>579.767306</td>\n",
              "      <td>1983.114375</td>\n",
              "      <td>1931.030570</td>\n",
              "      <td>4268.186890</td>\n",
              "      <td>2499.113466</td>\n",
              "      <td>4162.594651</td>\n",
              "      <td>23220.170788</td>\n",
              "      <td>0.0</td>\n",
              "      <td>0.0</td>\n",
              "      <td>0.0</td>\n",
              "      <td>880.869582</td>\n",
              "      <td>0.0</td>\n",
              "      <td>0.0</td>\n",
              "      <td>0.0</td>\n",
              "      <td>0.0</td>\n",
              "      <td>926.714726</td>\n",
              "      <td>0.0</td>\n",
              "      <td>2039.995502</td>\n",
              "      <td>0.0</td>\n",
              "    </tr>\n",
              "    <tr>\n",
              "      <th>2021-10-29</th>\n",
              "      <td>1710.921957</td>\n",
              "      <td>1398.448844</td>\n",
              "      <td>2826.029241</td>\n",
              "      <td>783.000940</td>\n",
              "      <td>261.764699</td>\n",
              "      <td>607.308219</td>\n",
              "      <td>584.433962</td>\n",
              "      <td>1964.783225</td>\n",
              "      <td>1895.239079</td>\n",
              "      <td>4245.177843</td>\n",
              "      <td>2508.865293</td>\n",
              "      <td>4371.422117</td>\n",
              "      <td>23157.395421</td>\n",
              "      <td>0.0</td>\n",
              "      <td>0.0</td>\n",
              "      <td>0.0</td>\n",
              "      <td>887.959866</td>\n",
              "      <td>0.0</td>\n",
              "      <td>0.0</td>\n",
              "      <td>0.0</td>\n",
              "      <td>0.0</td>\n",
              "      <td>948.750253</td>\n",
              "      <td>0.0</td>\n",
              "      <td>1982.144982</td>\n",
              "      <td>0.0</td>\n",
              "    </tr>\n",
              "    <tr>\n",
              "      <th>2021-11-01</th>\n",
              "      <td>1764.486758</td>\n",
              "      <td>1412.314190</td>\n",
              "      <td>2822.974005</td>\n",
              "      <td>791.420305</td>\n",
              "      <td>291.176470</td>\n",
              "      <td>606.234025</td>\n",
              "      <td>594.339623</td>\n",
              "      <td>2004.599192</td>\n",
              "      <td>1960.515782</td>\n",
              "      <td>4230.171760</td>\n",
              "      <td>2518.971807</td>\n",
              "      <td>4273.690669</td>\n",
              "      <td>23270.894585</td>\n",
              "      <td>0.0</td>\n",
              "      <td>0.0</td>\n",
              "      <td>0.0</td>\n",
              "      <td>903.010033</td>\n",
              "      <td>0.0</td>\n",
              "      <td>0.0</td>\n",
              "      <td>0.0</td>\n",
              "      <td>0.0</td>\n",
              "      <td>958.951869</td>\n",
              "      <td>0.0</td>\n",
              "      <td>2001.797560</td>\n",
              "      <td>0.0</td>\n",
              "    </tr>\n",
              "    <tr>\n",
              "      <th>2021-11-03</th>\n",
              "      <td>1692.016790</td>\n",
              "      <td>1305.101774</td>\n",
              "      <td>2877.967099</td>\n",
              "      <td>803.207429</td>\n",
              "      <td>305.882339</td>\n",
              "      <td>597.506417</td>\n",
              "      <td>572.106905</td>\n",
              "      <td>2010.512524</td>\n",
              "      <td>2012.839375</td>\n",
              "      <td>4224.169250</td>\n",
              "      <td>2511.524760</td>\n",
              "      <td>4589.215761</td>\n",
              "      <td>23502.050423</td>\n",
              "      <td>0.0</td>\n",
              "      <td>0.0</td>\n",
              "      <td>0.0</td>\n",
              "      <td>869.230749</td>\n",
              "      <td>0.0</td>\n",
              "      <td>0.0</td>\n",
              "      <td>0.0</td>\n",
              "      <td>0.0</td>\n",
              "      <td>973.234146</td>\n",
              "      <td>0.0</td>\n",
              "      <td>1849.835940</td>\n",
              "      <td>0.0</td>\n",
              "    </tr>\n",
              "  </tbody>\n",
              "</table>\n",
              "<p>371 rows × 25 columns</p>\n",
              "</div>"
            ],
            "text/plain": [
              "               PETR4.SA     VALE3.SA  ...     VALE3.SA  WEGE3.SA\n",
              "Date                                  ...                       \n",
              "2020-05-04  1000.000000   700.000000  ...     0.000000       0.0\n",
              "2020-05-05  1032.220974   696.335095  ...     0.000000       0.0\n",
              "2020-05-06   994.246332   706.373804  ...     0.000000       0.0\n",
              "2020-05-07  1003.452213   733.781033  ...     0.000000       0.0\n",
              "2020-05-08  1063.291071   778.397436  ...     0.000000       0.0\n",
              "...                 ...          ...  ...          ...       ...\n",
              "2021-10-27  1807.968787  1453.910226  ...  2060.755294       0.0\n",
              "2021-10-28  1824.983389  1439.263716  ...  2039.995502       0.0\n",
              "2021-10-29  1710.921957  1398.448844  ...  1982.144982       0.0\n",
              "2021-11-01  1764.486758  1412.314190  ...  2001.797560       0.0\n",
              "2021-11-03  1692.016790  1305.101774  ...  1849.835940       0.0\n",
              "\n",
              "[371 rows x 25 columns]"
            ]
          },
          "metadata": {},
          "execution_count": 203
        }
      ]
    },
    {
      "cell_type": "code",
      "metadata": {
        "colab": {
          "base_uri": "https://localhost:8080/"
        },
        "id": "32fXbxnhohL6",
        "outputId": "0f6f1c25-7dae-4e31-9747-b80a2b9245ee"
      },
      "source": [
        "carteira_full.columns"
      ],
      "execution_count": 204,
      "outputs": [
        {
          "output_type": "execute_result",
          "data": {
            "text/plain": [
              "Index(['PETR4.SA', 'VALE3.SA', 'WEGE3.SA', 'RADL3.SA', 'OIBR3.SA', 'KNRI11.SA',\n",
              "       'FLMA11.SA', 'BOVA11.SA', 'SMAL11.SA', 'AAPL34.SA', 'IVVB11.SA',\n",
              "       'ETH-BRL', 'PL Total', 'AAPL34.SA', 'BOVA11.SA', 'ETH-BRL', 'FLMA11.SA',\n",
              "       'IVVB11.SA', 'KNRI11.SA', 'OIBR3.SA', 'PETR4.SA', 'RADL3.SA',\n",
              "       'SMAL11.SA', 'VALE3.SA', 'WEGE3.SA'],\n",
              "      dtype='object')"
            ]
          },
          "metadata": {},
          "execution_count": 204
        }
      ]
    },
    {
      "cell_type": "code",
      "metadata": {
        "colab": {
          "base_uri": "https://localhost:8080/"
        },
        "id": "o-s8MmlCoj9x",
        "outputId": "9d2e0a65-1215-46c4-d11a-95f3de2eae7c"
      },
      "source": [
        "carteira_full = carteira_full.groupby(lambda x:x, axis=1).sum()\n",
        "carteira_full.columns"
      ],
      "execution_count": 205,
      "outputs": [
        {
          "output_type": "execute_result",
          "data": {
            "text/plain": [
              "Index(['AAPL34.SA', 'BOVA11.SA', 'ETH-BRL', 'FLMA11.SA', 'IVVB11.SA',\n",
              "       'KNRI11.SA', 'OIBR3.SA', 'PETR4.SA', 'PL Total', 'RADL3.SA',\n",
              "       'SMAL11.SA', 'VALE3.SA', 'WEGE3.SA'],\n",
              "      dtype='object')"
            ]
          },
          "metadata": {},
          "execution_count": 205
        }
      ]
    },
    {
      "cell_type": "markdown",
      "metadata": {
        "id": "W1xmO7qkoqdE"
      },
      "source": [
        "Visualisando apenas os papéis que foram aportados"
      ]
    },
    {
      "cell_type": "code",
      "metadata": {
        "colab": {
          "base_uri": "https://localhost:8080/",
          "height": 277
        },
        "id": "iZ_x0-bjoufH",
        "outputId": "61473c80-65fe-4a3e-972e-8964ac7016f4"
      },
      "source": [
        "carteira_full[['FLMA11.SA']].plot();"
      ],
      "execution_count": 206,
      "outputs": [
        {
          "output_type": "display_data",
          "data": {
            "image/png": "[encoded data removed]",
            "text/plain": [
              "<Figure size 432x288 with 1 Axes>"
            ]
          },
          "metadata": {
            "needs_background": "light"
          }
        }
      ]
    },
    {
      "cell_type": "code",
      "metadata": {
        "colab": {
          "base_uri": "https://localhost:8080/",
          "height": 277
        },
        "id": "vF0vPzJXoy6A",
        "outputId": "e501d92c-3a8f-486b-fcb2-f08b325ff14d"
      },
      "source": [
        "carteira_full[['VALE3.SA']].plot();"
      ],
      "execution_count": 207,
      "outputs": [
        {
          "output_type": "display_data",
          "data": {
            "image/png": "[encoded data removed]",
            "text/plain": [
              "<Figure size 432x288 with 1 Axes>"
            ]
          },
          "metadata": {
            "needs_background": "light"
          }
        }
      ]
    },
    {
      "cell_type": "code",
      "metadata": {
        "colab": {
          "base_uri": "https://localhost:8080/",
          "height": 277
        },
        "id": "Tdu6REW7ozVe",
        "outputId": "62ee7295-0e93-4e03-ba12-64a34a363774"
      },
      "source": [
        "carteira_full[['RADL3.SA']].plot();"
      ],
      "execution_count": 208,
      "outputs": [
        {
          "output_type": "display_data",
          "data": {
            "image/png": "[encoded data removed]",
            "text/plain": [
              "<Figure size 432x288 with 1 Axes>"
            ]
          },
          "metadata": {
            "needs_background": "light"
          }
        }
      ]
    },
    {
      "cell_type": "code",
      "metadata": {
        "id": "rR_H91aPo2H5"
      },
      "source": [
        "carteira_full.drop('PL Total', axis= 1, inplace = True)"
      ],
      "execution_count": 209,
      "outputs": []
    },
    {
      "cell_type": "code",
      "metadata": {
        "id": "VENiiWnpo3_3"
      },
      "source": [
        "carteira_full['PL Total'] = carteira_full.iloc[:].sum(axis = 1)"
      ],
      "execution_count": 210,
      "outputs": []
    },
    {
      "cell_type": "code",
      "metadata": {
        "colab": {
          "base_uri": "https://localhost:8080/",
          "height": 277
        },
        "id": "b49r6hyxo5n0",
        "outputId": "c20d0c98-dfb1-4ffa-aeab-28122b1c9e7b"
      },
      "source": [
        "carteira_full[['PL Total']].plot();"
      ],
      "execution_count": 211,
      "outputs": [
        {
          "output_type": "display_data",
          "data": {
            "image/png": "[encoded data removed]",
            "text/plain": [
              "<Figure size 432x288 with 1 Axes>"
            ]
          },
          "metadata": {
            "needs_background": "light"
          }
        }
      ]
    },
    {
      "cell_type": "code",
      "metadata": {
        "id": "x_kf5Dy4o9oO"
      },
      "source": [
        "carteira_full.drop(['PL Total'], axis = 1, inplace = True)"
      ],
      "execution_count": 212,
      "outputs": []
    },
    {
      "cell_type": "markdown",
      "metadata": {
        "id": "9fn2b6JqpESu"
      },
      "source": [
        "Dividindo o cálculo de rentavilidade entre antes e depois do aporte"
      ]
    },
    {
      "cell_type": "markdown",
      "metadata": {
        "id": "mUVDx30KpLzz"
      },
      "source": [
        "Antes"
      ]
    },
    {
      "cell_type": "code",
      "metadata": {
        "id": "aPiceJGvpNCP"
      },
      "source": [
        "antes_aporte = carteira_full[carteira_full.index<data_aporte]\n",
        "depois_aporte = carteira_full[carteira_full.index>=data_aporte]"
      ],
      "execution_count": 213,
      "outputs": []
    },
    {
      "cell_type": "code",
      "metadata": {
        "colab": {
          "base_uri": "https://localhost:8080/"
        },
        "id": "XBr0ypDppVKN",
        "outputId": "fe5ff3d5-d434-475b-e3e7-87123cf1611d"
      },
      "source": [
        "antes_aporte['PL Total'] = antes_aporte.iloc[:].sum(axis = 1)\n",
        "depois_aporte['PL Total'] = depois_aporte.iloc[:].sum(axis = 1)"
      ],
      "execution_count": 214,
      "outputs": [
        {
          "output_type": "stream",
          "name": "stderr",
          "text": [
            "/usr/local/lib/python3.7/dist-packages/ipykernel_launcher.py:1: SettingWithCopyWarning: \n",
            "A value is trying to be set on a copy of a slice from a DataFrame.\n",
            "Try using .loc[row_indexer,col_indexer] = value instead\n",
            "\n",
            "See the caveats in the documentation: https://pandas.pydata.org/pandas-docs/stable/user_guide/indexing.html#returning-a-view-versus-a-copy\n",
            "  \"\"\"Entry point for launching an IPython kernel.\n",
            "/usr/local/lib/python3.7/dist-packages/ipykernel_launcher.py:2: SettingWithCopyWarning: \n",
            "A value is trying to be set on a copy of a slice from a DataFrame.\n",
            "Try using .loc[row_indexer,col_indexer] = value instead\n",
            "\n",
            "See the caveats in the documentation: https://pandas.pydata.org/pandas-docs/stable/user_guide/indexing.html#returning-a-view-versus-a-copy\n",
            "  \n"
          ]
        }
      ]
    },
    {
      "cell_type": "code",
      "metadata": {
        "colab": {
          "base_uri": "https://localhost:8080/",
          "height": 230
        },
        "id": "cWfBDJCupe5q",
        "outputId": "e290ff73-8c9a-4fe6-9a9a-c64b52364934"
      },
      "source": [
        "antes_aporte.tail()"
      ],
      "execution_count": 215,
      "outputs": [
        {
          "output_type": "execute_result",
          "data": {
            "text/html": [
              "<div>\n",
              "<style scoped>\n",
              "    .dataframe tbody tr th:only-of-type {\n",
              "        vertical-align: middle;\n",
              "    }\n",
              "\n",
              "    .dataframe tbody tr th {\n",
              "        vertical-align: top;\n",
              "    }\n",
              "\n",
              "    .dataframe thead th {\n",
              "        text-align: right;\n",
              "    }\n",
              "</style>\n",
              "<table border=\"1\" class=\"dataframe\">\n",
              "  <thead>\n",
              "    <tr style=\"text-align: right;\">\n",
              "      <th></th>\n",
              "      <th>AAPL34.SA</th>\n",
              "      <th>BOVA11.SA</th>\n",
              "      <th>ETH-BRL</th>\n",
              "      <th>FLMA11.SA</th>\n",
              "      <th>IVVB11.SA</th>\n",
              "      <th>KNRI11.SA</th>\n",
              "      <th>OIBR3.SA</th>\n",
              "      <th>PETR4.SA</th>\n",
              "      <th>RADL3.SA</th>\n",
              "      <th>SMAL11.SA</th>\n",
              "      <th>VALE3.SA</th>\n",
              "      <th>WEGE3.SA</th>\n",
              "      <th>PL Total</th>\n",
              "    </tr>\n",
              "    <tr>\n",
              "      <th>Date</th>\n",
              "      <th></th>\n",
              "      <th></th>\n",
              "      <th></th>\n",
              "      <th></th>\n",
              "      <th></th>\n",
              "      <th></th>\n",
              "      <th></th>\n",
              "      <th></th>\n",
              "      <th></th>\n",
              "      <th></th>\n",
              "      <th></th>\n",
              "      <th></th>\n",
              "      <th></th>\n",
              "    </tr>\n",
              "  </thead>\n",
              "  <tbody>\n",
              "    <tr>\n",
              "      <th>2020-12-03</th>\n",
              "      <td>3140.394764</td>\n",
              "      <td>2131.734633</td>\n",
              "      <td>564.291347</td>\n",
              "      <td>666.981132</td>\n",
              "      <td>1817.375919</td>\n",
              "      <td>705.907961</td>\n",
              "      <td>635.294136</td>\n",
              "      <td>1532.827003</td>\n",
              "      <td>815.899748</td>\n",
              "      <td>2237.813882</td>\n",
              "      <td>1310.778667</td>\n",
              "      <td>2792.442033</td>\n",
              "      <td>18351.741226</td>\n",
              "    </tr>\n",
              "    <tr>\n",
              "      <th>2020-12-04</th>\n",
              "      <td>3114.008947</td>\n",
              "      <td>2156.964570</td>\n",
              "      <td>514.440079</td>\n",
              "      <td>662.578616</td>\n",
              "      <td>1825.354589</td>\n",
              "      <td>703.043514</td>\n",
              "      <td>652.941178</td>\n",
              "      <td>1584.036320</td>\n",
              "      <td>825.968466</td>\n",
              "      <td>2241.222534</td>\n",
              "      <td>1360.912393</td>\n",
              "      <td>2711.989021</td>\n",
              "      <td>18353.460227</td>\n",
              "    </tr>\n",
              "    <tr>\n",
              "      <th>2020-12-07</th>\n",
              "      <td>3150.351434</td>\n",
              "      <td>2154.599207</td>\n",
              "      <td>535.113158</td>\n",
              "      <td>660.377358</td>\n",
              "      <td>1804.964626</td>\n",
              "      <td>699.104873</td>\n",
              "      <td>664.705873</td>\n",
              "      <td>1553.540882</td>\n",
              "      <td>811.201047</td>\n",
              "      <td>2250.937464</td>\n",
              "      <td>1377.014705</td>\n",
              "      <td>2704.812449</td>\n",
              "      <td>18366.723075</td>\n",
              "    </tr>\n",
              "    <tr>\n",
              "      <th>2020-12-08</th>\n",
              "      <td>3171.260806</td>\n",
              "      <td>2157.161721</td>\n",
              "      <td>496.185755</td>\n",
              "      <td>644.968553</td>\n",
              "      <td>1820.921965</td>\n",
              "      <td>697.583150</td>\n",
              "      <td>685.294088</td>\n",
              "      <td>1533.977641</td>\n",
              "      <td>813.886055</td>\n",
              "      <td>2246.846926</td>\n",
              "      <td>1376.184819</td>\n",
              "      <td>2745.983264</td>\n",
              "      <td>18390.254743</td>\n",
              "    </tr>\n",
              "    <tr>\n",
              "      <th>2020-12-09</th>\n",
              "      <td>3143.381517</td>\n",
              "      <td>2143.955299</td>\n",
              "      <td>515.018524</td>\n",
              "      <td>658.176101</td>\n",
              "      <td>1814.716318</td>\n",
              "      <td>695.076767</td>\n",
              "      <td>720.588242</td>\n",
              "      <td>1550.088609</td>\n",
              "      <td>813.886055</td>\n",
              "      <td>2215.657258</td>\n",
              "      <td>1372.864830</td>\n",
              "      <td>2681.772014</td>\n",
              "      <td>18325.181532</td>\n",
              "    </tr>\n",
              "  </tbody>\n",
              "</table>\n",
              "</div>"
            ],
            "text/plain": [
              "              AAPL34.SA    BOVA11.SA  ...     WEGE3.SA      PL Total\n",
              "Date                                  ...                           \n",
              "2020-12-03  3140.394764  2131.734633  ...  2792.442033  18351.741226\n",
              "2020-12-04  3114.008947  2156.964570  ...  2711.989021  18353.460227\n",
              "2020-12-07  3150.351434  2154.599207  ...  2704.812449  18366.723075\n",
              "2020-12-08  3171.260806  2157.161721  ...  2745.983264  18390.254743\n",
              "2020-12-09  3143.381517  2143.955299  ...  2681.772014  18325.181532\n",
              "\n",
              "[5 rows x 13 columns]"
            ]
          },
          "metadata": {},
          "execution_count": 215
        }
      ]
    },
    {
      "cell_type": "code",
      "metadata": {
        "colab": {
          "base_uri": "https://localhost:8080/",
          "height": 230
        },
        "id": "JMuMQD-VpjSr",
        "outputId": "edbd27bc-7758-4358-8127-d402808ae9e7"
      },
      "source": [
        "depois_aporte.head()"
      ],
      "execution_count": 216,
      "outputs": [
        {
          "output_type": "execute_result",
          "data": {
            "text/html": [
              "<div>\n",
              "<style scoped>\n",
              "    .dataframe tbody tr th:only-of-type {\n",
              "        vertical-align: middle;\n",
              "    }\n",
              "\n",
              "    .dataframe tbody tr th {\n",
              "        vertical-align: top;\n",
              "    }\n",
              "\n",
              "    .dataframe thead th {\n",
              "        text-align: right;\n",
              "    }\n",
              "</style>\n",
              "<table border=\"1\" class=\"dataframe\">\n",
              "  <thead>\n",
              "    <tr style=\"text-align: right;\">\n",
              "      <th></th>\n",
              "      <th>AAPL34.SA</th>\n",
              "      <th>BOVA11.SA</th>\n",
              "      <th>ETH-BRL</th>\n",
              "      <th>FLMA11.SA</th>\n",
              "      <th>IVVB11.SA</th>\n",
              "      <th>KNRI11.SA</th>\n",
              "      <th>OIBR3.SA</th>\n",
              "      <th>PETR4.SA</th>\n",
              "      <th>RADL3.SA</th>\n",
              "      <th>SMAL11.SA</th>\n",
              "      <th>VALE3.SA</th>\n",
              "      <th>WEGE3.SA</th>\n",
              "      <th>PL Total</th>\n",
              "    </tr>\n",
              "    <tr>\n",
              "      <th>Date</th>\n",
              "      <th></th>\n",
              "      <th></th>\n",
              "      <th></th>\n",
              "      <th></th>\n",
              "      <th></th>\n",
              "      <th></th>\n",
              "      <th></th>\n",
              "      <th></th>\n",
              "      <th></th>\n",
              "      <th></th>\n",
              "      <th></th>\n",
              "      <th></th>\n",
              "      <th></th>\n",
              "    </tr>\n",
              "  </thead>\n",
              "  <tbody>\n",
              "    <tr>\n",
              "      <th>2020-12-10</th>\n",
              "      <td>3087.623130</td>\n",
              "      <td>2181.997355</td>\n",
              "      <td>507.533513</td>\n",
              "      <td>1658.176101</td>\n",
              "      <td>1771.276655</td>\n",
              "      <td>688.766009</td>\n",
              "      <td>714.705894</td>\n",
              "      <td>1600.722427</td>\n",
              "      <td>1825.297214</td>\n",
              "      <td>2241.222534</td>\n",
              "      <td>3411.045970</td>\n",
              "      <td>2681.772014</td>\n",
              "      <td>22370.138815</td>\n",
              "    </tr>\n",
              "    <tr>\n",
              "      <th>2020-12-11</th>\n",
              "      <td>3083.640156</td>\n",
              "      <td>2183.771415</td>\n",
              "      <td>481.015504</td>\n",
              "      <td>1658.176101</td>\n",
              "      <td>1778.812035</td>\n",
              "      <td>687.602350</td>\n",
              "      <td>694.117609</td>\n",
              "      <td>1586.337836</td>\n",
              "      <td>1840.885352</td>\n",
              "      <td>2254.857400</td>\n",
              "      <td>3405.427654</td>\n",
              "      <td>2681.772014</td>\n",
              "      <td>22336.415426</td>\n",
              "    </tr>\n",
              "    <tr>\n",
              "      <th>2020-12-14</th>\n",
              "      <td>3123.965618</td>\n",
              "      <td>2172.141902</td>\n",
              "      <td>520.567992</td>\n",
              "      <td>1669.267580</td>\n",
              "      <td>1783.687948</td>\n",
              "      <td>693.734042</td>\n",
              "      <td>647.058831</td>\n",
              "      <td>1589.214850</td>\n",
              "      <td>1864.638638</td>\n",
              "      <td>2254.857400</td>\n",
              "      <td>3352.857737</td>\n",
              "      <td>2664.774747</td>\n",
              "      <td>22336.767285</td>\n",
              "    </tr>\n",
              "    <tr>\n",
              "      <th>2020-12-15</th>\n",
              "      <td>3235.980406</td>\n",
              "      <td>2202.891019</td>\n",
              "      <td>529.069792</td>\n",
              "      <td>1658.176101</td>\n",
              "      <td>1801.418445</td>\n",
              "      <td>706.176493</td>\n",
              "      <td>691.176435</td>\n",
              "      <td>1602.448683</td>\n",
              "      <td>1869.834874</td>\n",
              "      <td>2257.584425</td>\n",
              "      <td>3390.981173</td>\n",
              "      <td>2747.871590</td>\n",
              "      <td>22693.609437</td>\n",
              "    </tr>\n",
              "    <tr>\n",
              "      <th>2020-12-16</th>\n",
              "      <td>3228.512855</td>\n",
              "      <td>2234.231289</td>\n",
              "      <td>566.774479</td>\n",
              "      <td>1658.176101</td>\n",
              "      <td>1802.305024</td>\n",
              "      <td>708.548610</td>\n",
              "      <td>685.294088</td>\n",
              "      <td>1622.011684</td>\n",
              "      <td>1889.134507</td>\n",
              "      <td>2290.648630</td>\n",
              "      <td>3460.004807</td>\n",
              "      <td>2768.646093</td>\n",
              "      <td>22914.288168</td>\n",
              "    </tr>\n",
              "  </tbody>\n",
              "</table>\n",
              "</div>"
            ],
            "text/plain": [
              "              AAPL34.SA    BOVA11.SA  ...     WEGE3.SA      PL Total\n",
              "Date                                  ...                           \n",
              "2020-12-10  3087.623130  2181.997355  ...  2681.772014  22370.138815\n",
              "2020-12-11  3083.640156  2183.771415  ...  2681.772014  22336.415426\n",
              "2020-12-14  3123.965618  2172.141902  ...  2664.774747  22336.767285\n",
              "2020-12-15  3235.980406  2202.891019  ...  2747.871590  22693.609437\n",
              "2020-12-16  3228.512855  2234.231289  ...  2768.646093  22914.288168\n",
              "\n",
              "[5 rows x 13 columns]"
            ]
          },
          "metadata": {},
          "execution_count": 216
        }
      ]
    },
    {
      "cell_type": "code",
      "metadata": {
        "id": "EoaKIh2Npl4U"
      },
      "source": [
        "from datetime import datetime, timedelta"
      ],
      "execution_count": 217,
      "outputs": []
    },
    {
      "cell_type": "code",
      "metadata": {
        "id": "8Yg6Y2W0pn5L"
      },
      "source": [
        "dia_antes_aporte = (datetime.strptime(data_aporte, '%Y-%m-%d')- timedelta(1)).strftime('%Y-%m-%d')"
      ],
      "execution_count": 218,
      "outputs": []
    },
    {
      "cell_type": "code",
      "metadata": {
        "colab": {
          "base_uri": "https://localhost:8080/"
        },
        "id": "zHrI70ANpq-G",
        "outputId": "0b1acdaa-ed92-4591-b917-4c1b3122a40c"
      },
      "source": [
        "antes_aporte.loc[dia_antes_aporte]"
      ],
      "execution_count": 219,
      "outputs": [
        {
          "output_type": "execute_result",
          "data": {
            "text/plain": [
              "AAPL34.SA     3143.381517\n",
              "BOVA11.SA     2143.955299\n",
              "ETH-BRL        515.018524\n",
              "FLMA11.SA      658.176101\n",
              "IVVB11.SA     1814.716318\n",
              "KNRI11.SA      695.076767\n",
              "OIBR3.SA       720.588242\n",
              "PETR4.SA      1550.088609\n",
              "RADL3.SA       813.886055\n",
              "SMAL11.SA     2215.657258\n",
              "VALE3.SA      1372.864830\n",
              "WEGE3.SA      2681.772014\n",
              "PL Total     18325.181532\n",
              "Name: 2020-12-09 00:00:00, dtype: float64"
            ]
          },
          "metadata": {},
          "execution_count": 219
        }
      ]
    },
    {
      "cell_type": "code",
      "metadata": {
        "colab": {
          "base_uri": "https://localhost:8080/",
          "height": 78
        },
        "id": "mSKnjx99puzN",
        "outputId": "133e2c3f-3227-46df-b0f9-6aed07222661"
      },
      "source": [
        "pd.DataFrame(antes_aporte.loc[dia_antes_aporte]).T"
      ],
      "execution_count": 220,
      "outputs": [
        {
          "output_type": "execute_result",
          "data": {
            "text/html": [
              "<div>\n",
              "<style scoped>\n",
              "    .dataframe tbody tr th:only-of-type {\n",
              "        vertical-align: middle;\n",
              "    }\n",
              "\n",
              "    .dataframe tbody tr th {\n",
              "        vertical-align: top;\n",
              "    }\n",
              "\n",
              "    .dataframe thead th {\n",
              "        text-align: right;\n",
              "    }\n",
              "</style>\n",
              "<table border=\"1\" class=\"dataframe\">\n",
              "  <thead>\n",
              "    <tr style=\"text-align: right;\">\n",
              "      <th></th>\n",
              "      <th>AAPL34.SA</th>\n",
              "      <th>BOVA11.SA</th>\n",
              "      <th>ETH-BRL</th>\n",
              "      <th>FLMA11.SA</th>\n",
              "      <th>IVVB11.SA</th>\n",
              "      <th>KNRI11.SA</th>\n",
              "      <th>OIBR3.SA</th>\n",
              "      <th>PETR4.SA</th>\n",
              "      <th>RADL3.SA</th>\n",
              "      <th>SMAL11.SA</th>\n",
              "      <th>VALE3.SA</th>\n",
              "      <th>WEGE3.SA</th>\n",
              "      <th>PL Total</th>\n",
              "    </tr>\n",
              "  </thead>\n",
              "  <tbody>\n",
              "    <tr>\n",
              "      <th>2020-12-09</th>\n",
              "      <td>3143.381517</td>\n",
              "      <td>2143.955299</td>\n",
              "      <td>515.018524</td>\n",
              "      <td>658.176101</td>\n",
              "      <td>1814.716318</td>\n",
              "      <td>695.076767</td>\n",
              "      <td>720.588242</td>\n",
              "      <td>1550.088609</td>\n",
              "      <td>813.886055</td>\n",
              "      <td>2215.657258</td>\n",
              "      <td>1372.86483</td>\n",
              "      <td>2681.772014</td>\n",
              "      <td>18325.181532</td>\n",
              "    </tr>\n",
              "  </tbody>\n",
              "</table>\n",
              "</div>"
            ],
            "text/plain": [
              "              AAPL34.SA    BOVA11.SA  ...     WEGE3.SA      PL Total\n",
              "2020-12-09  3143.381517  2143.955299  ...  2681.772014  18325.181532\n",
              "\n",
              "[1 rows x 13 columns]"
            ]
          },
          "metadata": {},
          "execution_count": 220
        }
      ]
    },
    {
      "cell_type": "code",
      "metadata": {
        "colab": {
          "base_uri": "https://localhost:8080/",
          "height": 78
        },
        "id": "VyKVjPPcpwBq",
        "outputId": "053840d9-0936-46fc-eb51-c5684527da33"
      },
      "source": [
        "pd.DataFrame(segunda_compra_df,columns = [dia_antes_aporte]).T"
      ],
      "execution_count": 221,
      "outputs": [
        {
          "output_type": "execute_result",
          "data": {
            "text/html": [
              "<div>\n",
              "<style scoped>\n",
              "    .dataframe tbody tr th:only-of-type {\n",
              "        vertical-align: middle;\n",
              "    }\n",
              "\n",
              "    .dataframe tbody tr th {\n",
              "        vertical-align: top;\n",
              "    }\n",
              "\n",
              "    .dataframe thead th {\n",
              "        text-align: right;\n",
              "    }\n",
              "</style>\n",
              "<table border=\"1\" class=\"dataframe\">\n",
              "  <thead>\n",
              "    <tr style=\"text-align: right;\">\n",
              "      <th></th>\n",
              "      <th>VALE3.SA</th>\n",
              "      <th>RADL3.SA</th>\n",
              "      <th>FLMA11.SA</th>\n",
              "    </tr>\n",
              "  </thead>\n",
              "  <tbody>\n",
              "    <tr>\n",
              "      <th>2020-12-09</th>\n",
              "      <td>2000</td>\n",
              "      <td>1000</td>\n",
              "      <td>1000</td>\n",
              "    </tr>\n",
              "  </tbody>\n",
              "</table>\n",
              "</div>"
            ],
            "text/plain": [
              "            VALE3.SA  RADL3.SA  FLMA11.SA\n",
              "2020-12-09      2000      1000       1000"
            ]
          },
          "metadata": {},
          "execution_count": 221
        }
      ]
    },
    {
      "cell_type": "code",
      "metadata": {
        "colab": {
          "base_uri": "https://localhost:8080/",
          "height": 78
        },
        "id": "C-PSiiExp27O",
        "outputId": "e1061ce6-562c-49c5-de1c-8ae14c2fc2d7"
      },
      "source": [
        "pd.concat([(pd.DataFrame(antes_aporte.loc[dia_antes_aporte]).T),(pd.DataFrame(segunda_compra_df,columns = [dia_antes_aporte])).T], axis = 1)"
      ],
      "execution_count": 222,
      "outputs": [
        {
          "output_type": "execute_result",
          "data": {
            "text/html": [
              "<div>\n",
              "<style scoped>\n",
              "    .dataframe tbody tr th:only-of-type {\n",
              "        vertical-align: middle;\n",
              "    }\n",
              "\n",
              "    .dataframe tbody tr th {\n",
              "        vertical-align: top;\n",
              "    }\n",
              "\n",
              "    .dataframe thead th {\n",
              "        text-align: right;\n",
              "    }\n",
              "</style>\n",
              "<table border=\"1\" class=\"dataframe\">\n",
              "  <thead>\n",
              "    <tr style=\"text-align: right;\">\n",
              "      <th></th>\n",
              "      <th>AAPL34.SA</th>\n",
              "      <th>BOVA11.SA</th>\n",
              "      <th>ETH-BRL</th>\n",
              "      <th>FLMA11.SA</th>\n",
              "      <th>IVVB11.SA</th>\n",
              "      <th>KNRI11.SA</th>\n",
              "      <th>OIBR3.SA</th>\n",
              "      <th>PETR4.SA</th>\n",
              "      <th>RADL3.SA</th>\n",
              "      <th>SMAL11.SA</th>\n",
              "      <th>VALE3.SA</th>\n",
              "      <th>WEGE3.SA</th>\n",
              "      <th>PL Total</th>\n",
              "      <th>VALE3.SA</th>\n",
              "      <th>RADL3.SA</th>\n",
              "      <th>FLMA11.SA</th>\n",
              "    </tr>\n",
              "  </thead>\n",
              "  <tbody>\n",
              "    <tr>\n",
              "      <th>2020-12-09</th>\n",
              "      <td>3143.381517</td>\n",
              "      <td>2143.955299</td>\n",
              "      <td>515.018524</td>\n",
              "      <td>658.176101</td>\n",
              "      <td>1814.716318</td>\n",
              "      <td>695.076767</td>\n",
              "      <td>720.588242</td>\n",
              "      <td>1550.088609</td>\n",
              "      <td>813.886055</td>\n",
              "      <td>2215.657258</td>\n",
              "      <td>1372.86483</td>\n",
              "      <td>2681.772014</td>\n",
              "      <td>18325.181532</td>\n",
              "      <td>2000</td>\n",
              "      <td>1000</td>\n",
              "      <td>1000</td>\n",
              "    </tr>\n",
              "  </tbody>\n",
              "</table>\n",
              "</div>"
            ],
            "text/plain": [
              "              AAPL34.SA    BOVA11.SA     ETH-BRL  ...  VALE3.SA  RADL3.SA  FLMA11.SA\n",
              "2020-12-09  3143.381517  2143.955299  515.018524  ...      2000      1000       1000\n",
              "\n",
              "[1 rows x 16 columns]"
            ]
          },
          "metadata": {},
          "execution_count": 222
        }
      ]
    },
    {
      "cell_type": "code",
      "metadata": {
        "colab": {
          "base_uri": "https://localhost:8080/",
          "height": 78
        },
        "id": "PKy3cJcgp-vW",
        "outputId": "259b3c60-22ab-4e01-f500-67dcb3312edd"
      },
      "source": [
        "operations = pd.concat([(pd.DataFrame(antes_aporte.loc[dia_antes_aporte]).T),(pd.DataFrame(segunda_compra_df,columns = [dia_antes_aporte])).T], axis = 1)\n",
        "\n",
        "operations = operations.groupby(lambda x:x, axis=1).sum()\n",
        "operations.drop(['PL Total'], axis=1, inplace=True)\n",
        "operations['PL Total'] = operations.sum(axis = 1)\n",
        "\n",
        "operations"
      ],
      "execution_count": 223,
      "outputs": [
        {
          "output_type": "execute_result",
          "data": {
            "text/html": [
              "<div>\n",
              "<style scoped>\n",
              "    .dataframe tbody tr th:only-of-type {\n",
              "        vertical-align: middle;\n",
              "    }\n",
              "\n",
              "    .dataframe tbody tr th {\n",
              "        vertical-align: top;\n",
              "    }\n",
              "\n",
              "    .dataframe thead th {\n",
              "        text-align: right;\n",
              "    }\n",
              "</style>\n",
              "<table border=\"1\" class=\"dataframe\">\n",
              "  <thead>\n",
              "    <tr style=\"text-align: right;\">\n",
              "      <th></th>\n",
              "      <th>AAPL34.SA</th>\n",
              "      <th>BOVA11.SA</th>\n",
              "      <th>ETH-BRL</th>\n",
              "      <th>FLMA11.SA</th>\n",
              "      <th>IVVB11.SA</th>\n",
              "      <th>KNRI11.SA</th>\n",
              "      <th>OIBR3.SA</th>\n",
              "      <th>PETR4.SA</th>\n",
              "      <th>RADL3.SA</th>\n",
              "      <th>SMAL11.SA</th>\n",
              "      <th>VALE3.SA</th>\n",
              "      <th>WEGE3.SA</th>\n",
              "      <th>PL Total</th>\n",
              "    </tr>\n",
              "  </thead>\n",
              "  <tbody>\n",
              "    <tr>\n",
              "      <th>2020-12-09</th>\n",
              "      <td>3143.381517</td>\n",
              "      <td>2143.955299</td>\n",
              "      <td>515.018524</td>\n",
              "      <td>1658.176101</td>\n",
              "      <td>1814.716318</td>\n",
              "      <td>695.076767</td>\n",
              "      <td>720.588242</td>\n",
              "      <td>1550.088609</td>\n",
              "      <td>1813.886055</td>\n",
              "      <td>2215.657258</td>\n",
              "      <td>3372.86483</td>\n",
              "      <td>2681.772014</td>\n",
              "      <td>22325.181532</td>\n",
              "    </tr>\n",
              "  </tbody>\n",
              "</table>\n",
              "</div>"
            ],
            "text/plain": [
              "              AAPL34.SA    BOVA11.SA  ...     WEGE3.SA      PL Total\n",
              "2020-12-09  3143.381517  2143.955299  ...  2681.772014  22325.181532\n",
              "\n",
              "[1 rows x 13 columns]"
            ]
          },
          "metadata": {},
          "execution_count": 223
        }
      ]
    },
    {
      "cell_type": "markdown",
      "metadata": {
        "id": "_d201eFFqDEU"
      },
      "source": [
        "\n",
        "Compare 'operations' com a útlima linha antes do aporte! Precisamos anexá-la ao dataframe do após aporte"
      ]
    },
    {
      "cell_type": "code",
      "metadata": {
        "id": "geZjBCfRqEbP"
      },
      "source": [
        "depois_aporte = pd.concat([operations, depois_aporte], axis = 0)"
      ],
      "execution_count": 224,
      "outputs": []
    },
    {
      "cell_type": "code",
      "metadata": {
        "colab": {
          "base_uri": "https://localhost:8080/",
          "height": 200
        },
        "id": "M4QuJjutqHn-",
        "outputId": "a324e809-60b7-4499-e01f-5889ac5a74b0"
      },
      "source": [
        "depois_aporte.head()"
      ],
      "execution_count": 225,
      "outputs": [
        {
          "output_type": "execute_result",
          "data": {
            "text/html": [
              "<div>\n",
              "<style scoped>\n",
              "    .dataframe tbody tr th:only-of-type {\n",
              "        vertical-align: middle;\n",
              "    }\n",
              "\n",
              "    .dataframe tbody tr th {\n",
              "        vertical-align: top;\n",
              "    }\n",
              "\n",
              "    .dataframe thead th {\n",
              "        text-align: right;\n",
              "    }\n",
              "</style>\n",
              "<table border=\"1\" class=\"dataframe\">\n",
              "  <thead>\n",
              "    <tr style=\"text-align: right;\">\n",
              "      <th></th>\n",
              "      <th>AAPL34.SA</th>\n",
              "      <th>BOVA11.SA</th>\n",
              "      <th>ETH-BRL</th>\n",
              "      <th>FLMA11.SA</th>\n",
              "      <th>IVVB11.SA</th>\n",
              "      <th>KNRI11.SA</th>\n",
              "      <th>OIBR3.SA</th>\n",
              "      <th>PETR4.SA</th>\n",
              "      <th>RADL3.SA</th>\n",
              "      <th>SMAL11.SA</th>\n",
              "      <th>VALE3.SA</th>\n",
              "      <th>WEGE3.SA</th>\n",
              "      <th>PL Total</th>\n",
              "    </tr>\n",
              "  </thead>\n",
              "  <tbody>\n",
              "    <tr>\n",
              "      <th>2020-12-09</th>\n",
              "      <td>3143.381517</td>\n",
              "      <td>2143.955299</td>\n",
              "      <td>515.018524</td>\n",
              "      <td>1658.176101</td>\n",
              "      <td>1814.716318</td>\n",
              "      <td>695.076767</td>\n",
              "      <td>720.588242</td>\n",
              "      <td>1550.088609</td>\n",
              "      <td>1813.886055</td>\n",
              "      <td>2215.657258</td>\n",
              "      <td>3372.864830</td>\n",
              "      <td>2681.772014</td>\n",
              "      <td>22325.181532</td>\n",
              "    </tr>\n",
              "    <tr>\n",
              "      <th>2020-12-10</th>\n",
              "      <td>3087.623130</td>\n",
              "      <td>2181.997355</td>\n",
              "      <td>507.533513</td>\n",
              "      <td>1658.176101</td>\n",
              "      <td>1771.276655</td>\n",
              "      <td>688.766009</td>\n",
              "      <td>714.705894</td>\n",
              "      <td>1600.722427</td>\n",
              "      <td>1825.297214</td>\n",
              "      <td>2241.222534</td>\n",
              "      <td>3411.045970</td>\n",
              "      <td>2681.772014</td>\n",
              "      <td>22370.138815</td>\n",
              "    </tr>\n",
              "    <tr>\n",
              "      <th>2020-12-11</th>\n",
              "      <td>3083.640156</td>\n",
              "      <td>2183.771415</td>\n",
              "      <td>481.015504</td>\n",
              "      <td>1658.176101</td>\n",
              "      <td>1778.812035</td>\n",
              "      <td>687.602350</td>\n",
              "      <td>694.117609</td>\n",
              "      <td>1586.337836</td>\n",
              "      <td>1840.885352</td>\n",
              "      <td>2254.857400</td>\n",
              "      <td>3405.427654</td>\n",
              "      <td>2681.772014</td>\n",
              "      <td>22336.415426</td>\n",
              "    </tr>\n",
              "    <tr>\n",
              "      <th>2020-12-14</th>\n",
              "      <td>3123.965618</td>\n",
              "      <td>2172.141902</td>\n",
              "      <td>520.567992</td>\n",
              "      <td>1669.267580</td>\n",
              "      <td>1783.687948</td>\n",
              "      <td>693.734042</td>\n",
              "      <td>647.058831</td>\n",
              "      <td>1589.214850</td>\n",
              "      <td>1864.638638</td>\n",
              "      <td>2254.857400</td>\n",
              "      <td>3352.857737</td>\n",
              "      <td>2664.774747</td>\n",
              "      <td>22336.767285</td>\n",
              "    </tr>\n",
              "    <tr>\n",
              "      <th>2020-12-15</th>\n",
              "      <td>3235.980406</td>\n",
              "      <td>2202.891019</td>\n",
              "      <td>529.069792</td>\n",
              "      <td>1658.176101</td>\n",
              "      <td>1801.418445</td>\n",
              "      <td>706.176493</td>\n",
              "      <td>691.176435</td>\n",
              "      <td>1602.448683</td>\n",
              "      <td>1869.834874</td>\n",
              "      <td>2257.584425</td>\n",
              "      <td>3390.981173</td>\n",
              "      <td>2747.871590</td>\n",
              "      <td>22693.609437</td>\n",
              "    </tr>\n",
              "  </tbody>\n",
              "</table>\n",
              "</div>"
            ],
            "text/plain": [
              "              AAPL34.SA    BOVA11.SA  ...     WEGE3.SA      PL Total\n",
              "2020-12-09  3143.381517  2143.955299  ...  2681.772014  22325.181532\n",
              "2020-12-10  3087.623130  2181.997355  ...  2681.772014  22370.138815\n",
              "2020-12-11  3083.640156  2183.771415  ...  2681.772014  22336.415426\n",
              "2020-12-14  3123.965618  2172.141902  ...  2664.774747  22336.767285\n",
              "2020-12-15  3235.980406  2202.891019  ...  2747.871590  22693.609437\n",
              "\n",
              "[5 rows x 13 columns]"
            ]
          },
          "metadata": {},
          "execution_count": 225
        }
      ]
    },
    {
      "cell_type": "code",
      "metadata": {
        "colab": {
          "base_uri": "https://localhost:8080/",
          "height": 200
        },
        "id": "ZclVKLbzqJLR",
        "outputId": "e20cfa8c-b534-4977-d2f2-cbd71fd38611"
      },
      "source": [
        "depois_aporte.tail()"
      ],
      "execution_count": 226,
      "outputs": [
        {
          "output_type": "execute_result",
          "data": {
            "text/html": [
              "<div>\n",
              "<style scoped>\n",
              "    .dataframe tbody tr th:only-of-type {\n",
              "        vertical-align: middle;\n",
              "    }\n",
              "\n",
              "    .dataframe tbody tr th {\n",
              "        vertical-align: top;\n",
              "    }\n",
              "\n",
              "    .dataframe thead th {\n",
              "        text-align: right;\n",
              "    }\n",
              "</style>\n",
              "<table border=\"1\" class=\"dataframe\">\n",
              "  <thead>\n",
              "    <tr style=\"text-align: right;\">\n",
              "      <th></th>\n",
              "      <th>AAPL34.SA</th>\n",
              "      <th>BOVA11.SA</th>\n",
              "      <th>ETH-BRL</th>\n",
              "      <th>FLMA11.SA</th>\n",
              "      <th>IVVB11.SA</th>\n",
              "      <th>KNRI11.SA</th>\n",
              "      <th>OIBR3.SA</th>\n",
              "      <th>PETR4.SA</th>\n",
              "      <th>RADL3.SA</th>\n",
              "      <th>SMAL11.SA</th>\n",
              "      <th>VALE3.SA</th>\n",
              "      <th>WEGE3.SA</th>\n",
              "      <th>PL Total</th>\n",
              "    </tr>\n",
              "  </thead>\n",
              "  <tbody>\n",
              "    <tr>\n",
              "      <th>2021-10-27</th>\n",
              "      <td>4145.138307</td>\n",
              "      <td>2018.396917</td>\n",
              "      <td>3836.465126</td>\n",
              "      <td>1465.628020</td>\n",
              "      <td>2439.716464</td>\n",
              "      <td>614.961634</td>\n",
              "      <td>276.470585</td>\n",
              "      <td>1807.968787</td>\n",
              "      <td>1711.640500</td>\n",
              "      <td>1977.218486</td>\n",
              "      <td>3514.665520</td>\n",
              "      <td>2994.063471</td>\n",
              "      <td>26802.333815</td>\n",
              "    </tr>\n",
              "    <tr>\n",
              "      <th>2021-10-28</th>\n",
              "      <td>4268.186890</td>\n",
              "      <td>1983.114375</td>\n",
              "      <td>4162.594651</td>\n",
              "      <td>1460.636888</td>\n",
              "      <td>2499.113466</td>\n",
              "      <td>613.171379</td>\n",
              "      <td>264.705873</td>\n",
              "      <td>1824.983389</td>\n",
              "      <td>1691.529807</td>\n",
              "      <td>1931.030570</td>\n",
              "      <td>3479.259217</td>\n",
              "      <td>2889.424091</td>\n",
              "      <td>27067.750597</td>\n",
              "    </tr>\n",
              "    <tr>\n",
              "      <th>2021-10-29</th>\n",
              "      <td>4245.177843</td>\n",
              "      <td>1964.783225</td>\n",
              "      <td>4371.422117</td>\n",
              "      <td>1472.393828</td>\n",
              "      <td>2508.865293</td>\n",
              "      <td>607.308219</td>\n",
              "      <td>261.764699</td>\n",
              "      <td>1710.921957</td>\n",
              "      <td>1731.751193</td>\n",
              "      <td>1895.239079</td>\n",
              "      <td>3380.593826</td>\n",
              "      <td>2826.029241</td>\n",
              "      <td>26976.250523</td>\n",
              "    </tr>\n",
              "    <tr>\n",
              "      <th>2021-11-01</th>\n",
              "      <td>4230.171760</td>\n",
              "      <td>2004.599192</td>\n",
              "      <td>4273.690669</td>\n",
              "      <td>1497.349656</td>\n",
              "      <td>2518.971807</td>\n",
              "      <td>606.234025</td>\n",
              "      <td>291.176470</td>\n",
              "      <td>1764.486758</td>\n",
              "      <td>1750.372174</td>\n",
              "      <td>1960.515782</td>\n",
              "      <td>3414.111750</td>\n",
              "      <td>2822.974005</td>\n",
              "      <td>27134.654047</td>\n",
              "    </tr>\n",
              "    <tr>\n",
              "      <th>2021-11-03</th>\n",
              "      <td>4224.169250</td>\n",
              "      <td>2010.512524</td>\n",
              "      <td>4589.215761</td>\n",
              "      <td>1441.337654</td>\n",
              "      <td>2511.524760</td>\n",
              "      <td>597.506417</td>\n",
              "      <td>305.882339</td>\n",
              "      <td>1692.016790</td>\n",
              "      <td>1776.441575</td>\n",
              "      <td>2012.839375</td>\n",
              "      <td>3154.937714</td>\n",
              "      <td>2877.967099</td>\n",
              "      <td>27194.351258</td>\n",
              "    </tr>\n",
              "  </tbody>\n",
              "</table>\n",
              "</div>"
            ],
            "text/plain": [
              "              AAPL34.SA    BOVA11.SA  ...     WEGE3.SA      PL Total\n",
              "2021-10-27  4145.138307  2018.396917  ...  2994.063471  26802.333815\n",
              "2021-10-28  4268.186890  1983.114375  ...  2889.424091  27067.750597\n",
              "2021-10-29  4245.177843  1964.783225  ...  2826.029241  26976.250523\n",
              "2021-11-01  4230.171760  2004.599192  ...  2822.974005  27134.654047\n",
              "2021-11-03  4224.169250  2010.512524  ...  2877.967099  27194.351258\n",
              "\n",
              "[5 rows x 13 columns]"
            ]
          },
          "metadata": {},
          "execution_count": 226
        }
      ]
    },
    {
      "cell_type": "code",
      "metadata": {
        "id": "A0qpruIlqLV5"
      },
      "source": [
        "rentabilidade_antes_aporte = antes_aporte.pct_change()\n",
        "rentabilidade_depois_aporte = depois_aporte.pct_change()"
      ],
      "execution_count": 227,
      "outputs": []
    },
    {
      "cell_type": "code",
      "metadata": {
        "colab": {
          "base_uri": "https://localhost:8080/",
          "height": 230
        },
        "id": "MDlue-5JqMnw",
        "outputId": "ffd7c973-1c36-4e81-b894-905dcc2e44b3"
      },
      "source": [
        "rentabilidade_antes_aporte.tail()"
      ],
      "execution_count": 228,
      "outputs": [
        {
          "output_type": "execute_result",
          "data": {
            "text/html": [
              "<div>\n",
              "<style scoped>\n",
              "    .dataframe tbody tr th:only-of-type {\n",
              "        vertical-align: middle;\n",
              "    }\n",
              "\n",
              "    .dataframe tbody tr th {\n",
              "        vertical-align: top;\n",
              "    }\n",
              "\n",
              "    .dataframe thead th {\n",
              "        text-align: right;\n",
              "    }\n",
              "</style>\n",
              "<table border=\"1\" class=\"dataframe\">\n",
              "  <thead>\n",
              "    <tr style=\"text-align: right;\">\n",
              "      <th></th>\n",
              "      <th>AAPL34.SA</th>\n",
              "      <th>BOVA11.SA</th>\n",
              "      <th>ETH-BRL</th>\n",
              "      <th>FLMA11.SA</th>\n",
              "      <th>IVVB11.SA</th>\n",
              "      <th>KNRI11.SA</th>\n",
              "      <th>OIBR3.SA</th>\n",
              "      <th>PETR4.SA</th>\n",
              "      <th>RADL3.SA</th>\n",
              "      <th>SMAL11.SA</th>\n",
              "      <th>VALE3.SA</th>\n",
              "      <th>WEGE3.SA</th>\n",
              "      <th>PL Total</th>\n",
              "    </tr>\n",
              "    <tr>\n",
              "      <th>Date</th>\n",
              "      <th></th>\n",
              "      <th></th>\n",
              "      <th></th>\n",
              "      <th></th>\n",
              "      <th></th>\n",
              "      <th></th>\n",
              "      <th></th>\n",
              "      <th></th>\n",
              "      <th></th>\n",
              "      <th></th>\n",
              "      <th></th>\n",
              "      <th></th>\n",
              "      <th></th>\n",
              "    </tr>\n",
              "  </thead>\n",
              "  <tbody>\n",
              "    <tr>\n",
              "      <th>2020-12-03</th>\n",
              "      <td>-0.022470</td>\n",
              "      <td>0.003712</td>\n",
              "      <td>0.032936</td>\n",
              "      <td>0.003311</td>\n",
              "      <td>-0.011334</td>\n",
              "      <td>-0.000507</td>\n",
              "      <td>0.000000</td>\n",
              "      <td>0.028174</td>\n",
              "      <td>-0.000822</td>\n",
              "      <td>0.015468</td>\n",
              "      <td>-0.011022</td>\n",
              "      <td>0.009559</td>\n",
              "      <td>0.001198</td>\n",
              "    </tr>\n",
              "    <tr>\n",
              "      <th>2020-12-04</th>\n",
              "      <td>-0.008402</td>\n",
              "      <td>0.011835</td>\n",
              "      <td>-0.088343</td>\n",
              "      <td>-0.006601</td>\n",
              "      <td>0.004390</td>\n",
              "      <td>-0.004058</td>\n",
              "      <td>0.027778</td>\n",
              "      <td>0.033408</td>\n",
              "      <td>0.012341</td>\n",
              "      <td>0.001523</td>\n",
              "      <td>0.038247</td>\n",
              "      <td>-0.028811</td>\n",
              "      <td>0.000094</td>\n",
              "    </tr>\n",
              "    <tr>\n",
              "      <th>2020-12-07</th>\n",
              "      <td>0.011671</td>\n",
              "      <td>-0.001097</td>\n",
              "      <td>0.040186</td>\n",
              "      <td>-0.003322</td>\n",
              "      <td>-0.011170</td>\n",
              "      <td>-0.005602</td>\n",
              "      <td>0.018018</td>\n",
              "      <td>-0.019252</td>\n",
              "      <td>-0.017879</td>\n",
              "      <td>0.004335</td>\n",
              "      <td>0.011832</td>\n",
              "      <td>-0.002646</td>\n",
              "      <td>0.000723</td>\n",
              "    </tr>\n",
              "    <tr>\n",
              "      <th>2020-12-08</th>\n",
              "      <td>0.006637</td>\n",
              "      <td>0.001189</td>\n",
              "      <td>-0.072746</td>\n",
              "      <td>-0.023333</td>\n",
              "      <td>0.008841</td>\n",
              "      <td>-0.002177</td>\n",
              "      <td>0.030973</td>\n",
              "      <td>-0.012593</td>\n",
              "      <td>0.003310</td>\n",
              "      <td>-0.001817</td>\n",
              "      <td>-0.000603</td>\n",
              "      <td>0.015221</td>\n",
              "      <td>0.001281</td>\n",
              "    </tr>\n",
              "    <tr>\n",
              "      <th>2020-12-09</th>\n",
              "      <td>-0.008791</td>\n",
              "      <td>-0.006122</td>\n",
              "      <td>0.037955</td>\n",
              "      <td>0.020478</td>\n",
              "      <td>-0.003408</td>\n",
              "      <td>-0.003593</td>\n",
              "      <td>0.051502</td>\n",
              "      <td>0.010503</td>\n",
              "      <td>0.000000</td>\n",
              "      <td>-0.013882</td>\n",
              "      <td>-0.002412</td>\n",
              "      <td>-0.023384</td>\n",
              "      <td>-0.003538</td>\n",
              "    </tr>\n",
              "  </tbody>\n",
              "</table>\n",
              "</div>"
            ],
            "text/plain": [
              "            AAPL34.SA  BOVA11.SA   ETH-BRL  ...  VALE3.SA  WEGE3.SA  PL Total\n",
              "Date                                        ...                              \n",
              "2020-12-03  -0.022470   0.003712  0.032936  ... -0.011022  0.009559  0.001198\n",
              "2020-12-04  -0.008402   0.011835 -0.088343  ...  0.038247 -0.028811  0.000094\n",
              "2020-12-07   0.011671  -0.001097  0.040186  ...  0.011832 -0.002646  0.000723\n",
              "2020-12-08   0.006637   0.001189 -0.072746  ... -0.000603  0.015221  0.001281\n",
              "2020-12-09  -0.008791  -0.006122  0.037955  ... -0.002412 -0.023384 -0.003538\n",
              "\n",
              "[5 rows x 13 columns]"
            ]
          },
          "metadata": {},
          "execution_count": 228
        }
      ]
    },
    {
      "cell_type": "code",
      "metadata": {
        "colab": {
          "base_uri": "https://localhost:8080/",
          "height": 200
        },
        "id": "2gZF5Ah1qOgW",
        "outputId": "20b8f77c-1709-4ada-d910-14ade86ddd51"
      },
      "source": [
        "rentabilidade_depois_aporte.head()"
      ],
      "execution_count": 229,
      "outputs": [
        {
          "output_type": "execute_result",
          "data": {
            "text/html": [
              "<div>\n",
              "<style scoped>\n",
              "    .dataframe tbody tr th:only-of-type {\n",
              "        vertical-align: middle;\n",
              "    }\n",
              "\n",
              "    .dataframe tbody tr th {\n",
              "        vertical-align: top;\n",
              "    }\n",
              "\n",
              "    .dataframe thead th {\n",
              "        text-align: right;\n",
              "    }\n",
              "</style>\n",
              "<table border=\"1\" class=\"dataframe\">\n",
              "  <thead>\n",
              "    <tr style=\"text-align: right;\">\n",
              "      <th></th>\n",
              "      <th>AAPL34.SA</th>\n",
              "      <th>BOVA11.SA</th>\n",
              "      <th>ETH-BRL</th>\n",
              "      <th>FLMA11.SA</th>\n",
              "      <th>IVVB11.SA</th>\n",
              "      <th>KNRI11.SA</th>\n",
              "      <th>OIBR3.SA</th>\n",
              "      <th>PETR4.SA</th>\n",
              "      <th>RADL3.SA</th>\n",
              "      <th>SMAL11.SA</th>\n",
              "      <th>VALE3.SA</th>\n",
              "      <th>WEGE3.SA</th>\n",
              "      <th>PL Total</th>\n",
              "    </tr>\n",
              "  </thead>\n",
              "  <tbody>\n",
              "    <tr>\n",
              "      <th>2020-12-09</th>\n",
              "      <td>NaN</td>\n",
              "      <td>NaN</td>\n",
              "      <td>NaN</td>\n",
              "      <td>NaN</td>\n",
              "      <td>NaN</td>\n",
              "      <td>NaN</td>\n",
              "      <td>NaN</td>\n",
              "      <td>NaN</td>\n",
              "      <td>NaN</td>\n",
              "      <td>NaN</td>\n",
              "      <td>NaN</td>\n",
              "      <td>NaN</td>\n",
              "      <td>NaN</td>\n",
              "    </tr>\n",
              "    <tr>\n",
              "      <th>2020-12-10</th>\n",
              "      <td>-0.017738</td>\n",
              "      <td>0.017744</td>\n",
              "      <td>-0.014533</td>\n",
              "      <td>0.000000</td>\n",
              "      <td>-0.023937</td>\n",
              "      <td>-0.009079</td>\n",
              "      <td>-0.008163</td>\n",
              "      <td>0.032665</td>\n",
              "      <td>0.006291</td>\n",
              "      <td>0.011538</td>\n",
              "      <td>0.011320</td>\n",
              "      <td>0.000000</td>\n",
              "      <td>0.002014</td>\n",
              "    </tr>\n",
              "    <tr>\n",
              "      <th>2020-12-11</th>\n",
              "      <td>-0.001290</td>\n",
              "      <td>0.000813</td>\n",
              "      <td>-0.052249</td>\n",
              "      <td>0.000000</td>\n",
              "      <td>0.004254</td>\n",
              "      <td>-0.001689</td>\n",
              "      <td>-0.028807</td>\n",
              "      <td>-0.008986</td>\n",
              "      <td>0.008540</td>\n",
              "      <td>0.006084</td>\n",
              "      <td>-0.001647</td>\n",
              "      <td>0.000000</td>\n",
              "      <td>-0.001508</td>\n",
              "    </tr>\n",
              "    <tr>\n",
              "      <th>2020-12-14</th>\n",
              "      <td>0.013077</td>\n",
              "      <td>-0.005325</td>\n",
              "      <td>0.082227</td>\n",
              "      <td>0.006689</td>\n",
              "      <td>0.002741</td>\n",
              "      <td>0.008917</td>\n",
              "      <td>-0.067797</td>\n",
              "      <td>0.001814</td>\n",
              "      <td>0.012903</td>\n",
              "      <td>0.000000</td>\n",
              "      <td>-0.015437</td>\n",
              "      <td>-0.006338</td>\n",
              "      <td>0.000016</td>\n",
              "    </tr>\n",
              "    <tr>\n",
              "      <th>2020-12-15</th>\n",
              "      <td>0.035857</td>\n",
              "      <td>0.014156</td>\n",
              "      <td>0.016332</td>\n",
              "      <td>-0.006645</td>\n",
              "      <td>0.009940</td>\n",
              "      <td>0.017935</td>\n",
              "      <td>0.068182</td>\n",
              "      <td>0.008327</td>\n",
              "      <td>0.002787</td>\n",
              "      <td>0.001209</td>\n",
              "      <td>0.011370</td>\n",
              "      <td>0.031183</td>\n",
              "      <td>0.015976</td>\n",
              "    </tr>\n",
              "  </tbody>\n",
              "</table>\n",
              "</div>"
            ],
            "text/plain": [
              "            AAPL34.SA  BOVA11.SA   ETH-BRL  ...  VALE3.SA  WEGE3.SA  PL Total\n",
              "2020-12-09        NaN        NaN       NaN  ...       NaN       NaN       NaN\n",
              "2020-12-10  -0.017738   0.017744 -0.014533  ...  0.011320  0.000000  0.002014\n",
              "2020-12-11  -0.001290   0.000813 -0.052249  ... -0.001647  0.000000 -0.001508\n",
              "2020-12-14   0.013077  -0.005325  0.082227  ... -0.015437 -0.006338  0.000016\n",
              "2020-12-15   0.035857   0.014156  0.016332  ...  0.011370  0.031183  0.015976\n",
              "\n",
              "[5 rows x 13 columns]"
            ]
          },
          "metadata": {},
          "execution_count": 229
        }
      ]
    },
    {
      "cell_type": "code",
      "metadata": {
        "id": "z0ir_y6FqRLV"
      },
      "source": [
        "rentabilidade_antes_aporte = rentabilidade_antes_aporte.dropna()\n",
        "rentabilidade_depois_aporte = rentabilidade_depois_aporte.dropna()"
      ],
      "execution_count": 230,
      "outputs": []
    },
    {
      "cell_type": "code",
      "metadata": {
        "id": "OGpldJAAqSAs"
      },
      "source": [
        "rentabilidade_total = pd.concat([rentabilidade_antes_aporte, rentabilidade_depois_aporte], axis = 0)"
      ],
      "execution_count": 231,
      "outputs": []
    },
    {
      "cell_type": "code",
      "metadata": {
        "colab": {
          "base_uri": "https://localhost:8080/",
          "height": 557
        },
        "id": "lB9yiuBLqUbU",
        "outputId": "e53e6e74-f437-4a28-ce18-d16791b44e52"
      },
      "source": [
        "rentabilidade_total.plot(figsize = (10,10));"
      ],
      "execution_count": 232,
      "outputs": [
        {
          "output_type": "display_data",
          "data": {
            "image/png": "[encoded data removed]",
            "text/plain": [
              "<Figure size 720x720 with 1 Axes>"
            ]
          },
          "metadata": {
            "needs_background": "light"
          }
        }
      ]
    },
    {
      "cell_type": "code",
      "metadata": {
        "id": "BEagBs7PqV6A"
      },
      "source": [
        "cum_daily_return = (1 + rentabilidade_total).cumprod()"
      ],
      "execution_count": 233,
      "outputs": []
    },
    {
      "cell_type": "code",
      "metadata": {
        "colab": {
          "base_uri": "https://localhost:8080/",
          "height": 557
        },
        "id": "jNRHgBkNqXNj",
        "outputId": "5e87f29a-1ea8-4158-8822-254fa5a8f39e"
      },
      "source": [
        "cum_daily_return[['PL Total', 'BOVA11.SA']].plot(figsize = (10,10));"
      ],
      "execution_count": 234,
      "outputs": [
        {
          "output_type": "display_data",
          "data": {
            "image/png": "[encoded data removed]",
            "text/plain": [
              "<Figure size 720x720 with 1 Axes>"
            ]
          },
          "metadata": {
            "needs_background": "light"
          }
        }
      ]
    },
    {
      "cell_type": "code",
      "metadata": {
        "colab": {
          "base_uri": "https://localhost:8080/",
          "height": 200
        },
        "id": "oASDpPukqY_k",
        "outputId": "62573919-e64b-4319-ba20-c78435150956"
      },
      "source": [
        "cum_daily_return.tail()"
      ],
      "execution_count": 235,
      "outputs": [
        {
          "output_type": "execute_result",
          "data": {
            "text/html": [
              "<div>\n",
              "<style scoped>\n",
              "    .dataframe tbody tr th:only-of-type {\n",
              "        vertical-align: middle;\n",
              "    }\n",
              "\n",
              "    .dataframe tbody tr th {\n",
              "        vertical-align: top;\n",
              "    }\n",
              "\n",
              "    .dataframe thead th {\n",
              "        text-align: right;\n",
              "    }\n",
              "</style>\n",
              "<table border=\"1\" class=\"dataframe\">\n",
              "  <thead>\n",
              "    <tr style=\"text-align: right;\">\n",
              "      <th></th>\n",
              "      <th>AAPL34.SA</th>\n",
              "      <th>BOVA11.SA</th>\n",
              "      <th>ETH-BRL</th>\n",
              "      <th>FLMA11.SA</th>\n",
              "      <th>IVVB11.SA</th>\n",
              "      <th>KNRI11.SA</th>\n",
              "      <th>OIBR3.SA</th>\n",
              "      <th>PETR4.SA</th>\n",
              "      <th>RADL3.SA</th>\n",
              "      <th>SMAL11.SA</th>\n",
              "      <th>VALE3.SA</th>\n",
              "      <th>WEGE3.SA</th>\n",
              "      <th>PL Total</th>\n",
              "    </tr>\n",
              "  </thead>\n",
              "  <tbody>\n",
              "    <tr>\n",
              "      <th>2021-10-27</th>\n",
              "      <td>2.072569</td>\n",
              "      <td>1.345598</td>\n",
              "      <td>19.182326</td>\n",
              "      <td>0.831069</td>\n",
              "      <td>1.626478</td>\n",
              "      <td>0.878517</td>\n",
              "      <td>1.382353</td>\n",
              "      <td>1.807969</td>\n",
              "      <td>1.097155</td>\n",
              "      <td>1.318146</td>\n",
              "      <td>2.043689</td>\n",
              "      <td>1.996042</td>\n",
              "      <td>1.803292</td>\n",
              "    </tr>\n",
              "    <tr>\n",
              "      <th>2021-10-28</th>\n",
              "      <td>2.134093</td>\n",
              "      <td>1.322076</td>\n",
              "      <td>20.812973</td>\n",
              "      <td>0.828239</td>\n",
              "      <td>1.666076</td>\n",
              "      <td>0.875959</td>\n",
              "      <td>1.323529</td>\n",
              "      <td>1.824983</td>\n",
              "      <td>1.084264</td>\n",
              "      <td>1.287354</td>\n",
              "      <td>2.023101</td>\n",
              "      <td>1.926283</td>\n",
              "      <td>1.821150</td>\n",
              "    </tr>\n",
              "    <tr>\n",
              "      <th>2021-10-29</th>\n",
              "      <td>2.122589</td>\n",
              "      <td>1.309855</td>\n",
              "      <td>21.857111</td>\n",
              "      <td>0.834906</td>\n",
              "      <td>1.672577</td>\n",
              "      <td>0.867583</td>\n",
              "      <td>1.308823</td>\n",
              "      <td>1.710922</td>\n",
              "      <td>1.110046</td>\n",
              "      <td>1.263493</td>\n",
              "      <td>1.965730</td>\n",
              "      <td>1.884019</td>\n",
              "      <td>1.814993</td>\n",
              "    </tr>\n",
              "    <tr>\n",
              "      <th>2021-11-01</th>\n",
              "      <td>2.115086</td>\n",
              "      <td>1.336399</td>\n",
              "      <td>21.368453</td>\n",
              "      <td>0.849057</td>\n",
              "      <td>1.679315</td>\n",
              "      <td>0.866049</td>\n",
              "      <td>1.455882</td>\n",
              "      <td>1.764487</td>\n",
              "      <td>1.121982</td>\n",
              "      <td>1.307011</td>\n",
              "      <td>1.985220</td>\n",
              "      <td>1.881983</td>\n",
              "      <td>1.825651</td>\n",
              "    </tr>\n",
              "    <tr>\n",
              "      <th>2021-11-03</th>\n",
              "      <td>2.112085</td>\n",
              "      <td>1.340342</td>\n",
              "      <td>22.946079</td>\n",
              "      <td>0.817296</td>\n",
              "      <td>1.674350</td>\n",
              "      <td>0.853581</td>\n",
              "      <td>1.529412</td>\n",
              "      <td>1.692017</td>\n",
              "      <td>1.138693</td>\n",
              "      <td>1.341893</td>\n",
              "      <td>1.834516</td>\n",
              "      <td>1.918645</td>\n",
              "      <td>1.829667</td>\n",
              "    </tr>\n",
              "  </tbody>\n",
              "</table>\n",
              "</div>"
            ],
            "text/plain": [
              "            AAPL34.SA  BOVA11.SA    ETH-BRL  ...  VALE3.SA  WEGE3.SA  PL Total\n",
              "2021-10-27   2.072569   1.345598  19.182326  ...  2.043689  1.996042  1.803292\n",
              "2021-10-28   2.134093   1.322076  20.812973  ...  2.023101  1.926283  1.821150\n",
              "2021-10-29   2.122589   1.309855  21.857111  ...  1.965730  1.884019  1.814993\n",
              "2021-11-01   2.115086   1.336399  21.368453  ...  1.985220  1.881983  1.825651\n",
              "2021-11-03   2.112085   1.340342  22.946079  ...  1.834516  1.918645  1.829667\n",
              "\n",
              "[5 rows x 13 columns]"
            ]
          },
          "metadata": {},
          "execution_count": 235
        }
      ]
    },
    {
      "cell_type": "markdown",
      "metadata": {
        "id": "FIhh5Uy5qbTY"
      },
      "source": [
        "**Considerando pesos do último dia como os oficiais**"
      ]
    },
    {
      "cell_type": "code",
      "metadata": {
        "colab": {
          "base_uri": "https://localhost:8080/"
        },
        "id": "_fC49Q8Pqtdw",
        "outputId": "4b9847e3-7dc1-4878-d281-9a6a25d27996"
      },
      "source": [
        "carteira_full.shape"
      ],
      "execution_count": 236,
      "outputs": [
        {
          "output_type": "execute_result",
          "data": {
            "text/plain": [
              "(371, 12)"
            ]
          },
          "metadata": {},
          "execution_count": 236
        }
      ]
    },
    {
      "cell_type": "code",
      "metadata": {
        "colab": {
          "base_uri": "https://localhost:8080/"
        },
        "id": "pK6iljl6qv9K",
        "outputId": "4bc68c16-b521-4437-b19c-479a49c8a526"
      },
      "source": [
        "carteira_full.iloc[321]"
      ],
      "execution_count": 237,
      "outputs": [
        {
          "output_type": "execute_result",
          "data": {
            "text/plain": [
              "AAPL34.SA    4037.095425\n",
              "BOVA11.SA    2228.318107\n",
              "ETH-BRL      3131.866252\n",
              "FLMA11.SA    1445.774347\n",
              "IVVB11.SA    2332.358166\n",
              "KNRI11.SA     623.196980\n",
              "OIBR3.SA      338.235284\n",
              "PETR4.SA     1702.729750\n",
              "RADL3.SA     1973.823941\n",
              "SMAL11.SA    2316.213906\n",
              "VALE3.SA     4114.088206\n",
              "WEGE3.SA     2729.187621\n",
              "Name: 2021-08-23 00:00:00, dtype: float64"
            ]
          },
          "metadata": {},
          "execution_count": 237
        }
      ]
    },
    {
      "cell_type": "code",
      "metadata": {
        "colab": {
          "base_uri": "https://localhost:8080/"
        },
        "id": "nXPig8ZLqzCT",
        "outputId": "7f34fe1a-53af-45b0-ddf4-b0ec74c5a525"
      },
      "source": [
        "sum(carteira_full.iloc[321])"
      ],
      "execution_count": 238,
      "outputs": [
        {
          "output_type": "execute_result",
          "data": {
            "text/plain": [
              "26972.887984008034"
            ]
          },
          "metadata": {},
          "execution_count": 238
        }
      ]
    },
    {
      "cell_type": "code",
      "metadata": {
        "id": "EG-clvUrq0T8"
      },
      "source": [
        "pesos = carteira_full.iloc[321]/sum(carteira_full.iloc[321])"
      ],
      "execution_count": 239,
      "outputs": []
    },
    {
      "cell_type": "code",
      "metadata": {
        "colab": {
          "base_uri": "https://localhost:8080/"
        },
        "id": "P_j5OVJ5q1zB",
        "outputId": "33f56e79-8a04-4c94-a0d9-ccacf1c842a2"
      },
      "source": [
        "type(pesos)"
      ],
      "execution_count": 240,
      "outputs": [
        {
          "output_type": "execute_result",
          "data": {
            "text/plain": [
              "pandas.core.series.Series"
            ]
          },
          "metadata": {},
          "execution_count": 240
        }
      ]
    },
    {
      "cell_type": "code",
      "metadata": {
        "colab": {
          "base_uri": "https://localhost:8080/"
        },
        "id": "ex9iwz6Xq3YB",
        "outputId": "4399125b-a764-45fa-8d56-5701768e9902"
      },
      "source": [
        "pesos_novo = np.array(pesos.T)\n",
        "pesos_novo"
      ],
      "execution_count": 241,
      "outputs": [
        {
          "output_type": "execute_result",
          "data": {
            "text/plain": [
              "array([0.14967235, 0.08261326, 0.11611164, 0.05360102, 0.08647046,\n",
              "       0.02310457, 0.01253982, 0.06312745, 0.07317807, 0.08587193,\n",
              "       0.1525268 , 0.10118263])"
            ]
          },
          "metadata": {},
          "execution_count": 241
        }
      ]
    },
    {
      "cell_type": "code",
      "metadata": {
        "id": "o0hRK9nbq5TU"
      },
      "source": [
        "rentabilidades_diarias = rentabilidade_total*pesos"
      ],
      "execution_count": 242,
      "outputs": []
    },
    {
      "cell_type": "markdown",
      "metadata": {
        "id": "x1H-d53hq7sc"
      },
      "source": [
        "**Otimização de Risco - Portfólio de Mínima Variância**"
      ]
    },
    {
      "cell_type": "markdown",
      "metadata": {
        "id": "yXDs2njYq8_N"
      },
      "source": [
        "Instalar PyPortfolio"
      ]
    },
    {
      "cell_type": "code",
      "metadata": {
        "colab": {
          "base_uri": "https://localhost:8080/"
        },
        "id": "WpimkE06rAJG",
        "outputId": "9dd84462-48ed-479c-a6d5-0552e74ba0fd"
      },
      "source": [
        "pip install git+https://github.com/robertmartin8/PyPortfolioOpt"
      ],
      "execution_count": 243,
      "outputs": [
        {
          "output_type": "stream",
          "name": "stdout",
          "text": [
            "Collecting git+https://github.com/robertmartin8/PyPortfolioOpt\n",
            "  Cloning https://github.com/robertmartin8/PyPortfolioOpt to /tmp/pip-req-build-x8zepyj0\n",
            "  Running command git clone -q https://github.com/robertmartin8/PyPortfolioOpt /tmp/pip-req-build-x8zepyj0\n",
            "  Installing build dependencies ... \u001b[?25l\u001b[?25hdone\n",
            "  Getting requirements to build wheel ... \u001b[?25l\u001b[?25hdone\n",
            "    Preparing wheel metadata ... \u001b[?25l\u001b[?25hdone\n",
            "Requirement already satisfied: numpy<2.0,>=1.12 in /usr/local/lib/python3.7/dist-packages (from pyportfolioopt==1.5.1) (1.19.5)\n",
            "Collecting cvxpy<2.0.0,>=1.1.10\n",
            "  Downloading cvxpy-1.1.17-cp37-cp37m-manylinux_2_24_x86_64.whl (2.8 MB)\n",
            "\u001b[K     |████████████████████████████████| 2.8 MB 30.9 MB/s \n",
            "\u001b[?25hRequirement already satisfied: scipy<2.0,>=1.3 in /usr/local/lib/python3.7/dist-packages (from pyportfolioopt==1.5.1) (1.4.1)\n",
            "Requirement already satisfied: pandas>=0.19 in /usr/local/lib/python3.7/dist-packages (from pyportfolioopt==1.5.1) (1.1.5)\n",
            "Requirement already satisfied: osqp>=0.4.1 in /usr/local/lib/python3.7/dist-packages (from cvxpy<2.0.0,>=1.1.10->pyportfolioopt==1.5.1) (0.6.2.post0)\n",
            "Requirement already satisfied: scs>=1.1.6 in /usr/local/lib/python3.7/dist-packages (from cvxpy<2.0.0,>=1.1.10->pyportfolioopt==1.5.1) (2.1.4)\n",
            "Requirement already satisfied: ecos>=2 in /usr/local/lib/python3.7/dist-packages (from cvxpy<2.0.0,>=1.1.10->pyportfolioopt==1.5.1) (2.0.7.post1)\n",
            "Requirement already satisfied: qdldl in /usr/local/lib/python3.7/dist-packages (from osqp>=0.4.1->cvxpy<2.0.0,>=1.1.10->pyportfolioopt==1.5.1) (0.1.5.post0)\n",
            "Requirement already satisfied: python-dateutil>=2.7.3 in /usr/local/lib/python3.7/dist-packages (from pandas>=0.19->pyportfolioopt==1.5.1) (2.8.2)\n",
            "Requirement already satisfied: pytz>=2017.2 in /usr/local/lib/python3.7/dist-packages (from pandas>=0.19->pyportfolioopt==1.5.1) (2018.9)\n",
            "Requirement already satisfied: six>=1.5 in /usr/local/lib/python3.7/dist-packages (from python-dateutil>=2.7.3->pandas>=0.19->pyportfolioopt==1.5.1) (1.15.0)\n",
            "Building wheels for collected packages: pyportfolioopt\n",
            "  Building wheel for pyportfolioopt (PEP 517) ... \u001b[?25l\u001b[?25hdone\n",
            "  Created wheel for pyportfolioopt: filename=PyPortfolioOpt-1.5.1-py3-none-any.whl size=61313 sha256=94c12cec08c37a99f00bcdda99a5c44885353914f1f07061ea01990ea10cb8fc\n",
            "  Stored in directory: /tmp/pip-ephem-wheel-cache-pg1udhmh/wheels/cd/d3/75/98b790a90e1312874fc303d02cef66fda52219f521652b70c9\n",
            "Successfully built pyportfolioopt\n",
            "Installing collected packages: cvxpy, pyportfolioopt\n",
            "  Attempting uninstall: cvxpy\n",
            "    Found existing installation: cvxpy 1.0.31\n",
            "    Uninstalling cvxpy-1.0.31:\n",
            "      Successfully uninstalled cvxpy-1.0.31\n",
            "Successfully installed cvxpy-1.1.17 pyportfolioopt-1.5.1\n"
          ]
        }
      ]
    },
    {
      "cell_type": "code",
      "metadata": {
        "colab": {
          "base_uri": "https://localhost:8080/",
          "height": 411
        },
        "id": "6pN3RoMqrDAJ",
        "outputId": "143aba9d-3880-46c7-986a-eeb87bff5006"
      },
      "source": [
        "rentabilidade_precos = precos.pct_change()\n",
        "cov_matrix = rentabilidade_precos.cov()\n",
        "cov_matrix"
      ],
      "execution_count": 244,
      "outputs": [
        {
          "output_type": "execute_result",
          "data": {
            "text/html": [
              "<div>\n",
              "<style scoped>\n",
              "    .dataframe tbody tr th:only-of-type {\n",
              "        vertical-align: middle;\n",
              "    }\n",
              "\n",
              "    .dataframe tbody tr th {\n",
              "        vertical-align: top;\n",
              "    }\n",
              "\n",
              "    .dataframe thead th {\n",
              "        text-align: right;\n",
              "    }\n",
              "</style>\n",
              "<table border=\"1\" class=\"dataframe\">\n",
              "  <thead>\n",
              "    <tr style=\"text-align: right;\">\n",
              "      <th></th>\n",
              "      <th>PETR4.SA</th>\n",
              "      <th>VALE3.SA</th>\n",
              "      <th>WEGE3.SA</th>\n",
              "      <th>RADL3.SA</th>\n",
              "      <th>OIBR3.SA</th>\n",
              "      <th>KNRI11.SA</th>\n",
              "      <th>FLMA11.SA</th>\n",
              "      <th>BOVA11.SA</th>\n",
              "      <th>SMAL11.SA</th>\n",
              "      <th>AAPL34.SA</th>\n",
              "      <th>IVVB11.SA</th>\n",
              "      <th>ETH-BRL</th>\n",
              "    </tr>\n",
              "  </thead>\n",
              "  <tbody>\n",
              "    <tr>\n",
              "      <th>PETR4.SA</th>\n",
              "      <td>7.386793e-04</td>\n",
              "      <td>0.000224</td>\n",
              "      <td>1.406734e-04</td>\n",
              "      <td>0.000148</td>\n",
              "      <td>0.000307</td>\n",
              "      <td>0.000013</td>\n",
              "      <td>0.000018</td>\n",
              "      <td>0.000278</td>\n",
              "      <td>0.000250</td>\n",
              "      <td>-0.000026</td>\n",
              "      <td>2.219464e-07</td>\n",
              "      <td>0.000224</td>\n",
              "    </tr>\n",
              "    <tr>\n",
              "      <th>VALE3.SA</th>\n",
              "      <td>2.244091e-04</td>\n",
              "      <td>0.000465</td>\n",
              "      <td>7.116564e-05</td>\n",
              "      <td>0.000018</td>\n",
              "      <td>0.000114</td>\n",
              "      <td>0.000009</td>\n",
              "      <td>0.000021</td>\n",
              "      <td>0.000152</td>\n",
              "      <td>0.000106</td>\n",
              "      <td>0.000057</td>\n",
              "      <td>5.463198e-05</td>\n",
              "      <td>0.000273</td>\n",
              "    </tr>\n",
              "    <tr>\n",
              "      <th>WEGE3.SA</th>\n",
              "      <td>1.406734e-04</td>\n",
              "      <td>0.000071</td>\n",
              "      <td>5.881605e-04</td>\n",
              "      <td>0.000176</td>\n",
              "      <td>0.000155</td>\n",
              "      <td>0.000012</td>\n",
              "      <td>0.000014</td>\n",
              "      <td>0.000164</td>\n",
              "      <td>0.000174</td>\n",
              "      <td>0.000067</td>\n",
              "      <td>6.772696e-07</td>\n",
              "      <td>0.000183</td>\n",
              "    </tr>\n",
              "    <tr>\n",
              "      <th>RADL3.SA</th>\n",
              "      <td>1.482563e-04</td>\n",
              "      <td>0.000018</td>\n",
              "      <td>1.757061e-04</td>\n",
              "      <td>0.000422</td>\n",
              "      <td>0.000113</td>\n",
              "      <td>0.000004</td>\n",
              "      <td>-0.000006</td>\n",
              "      <td>0.000142</td>\n",
              "      <td>0.000164</td>\n",
              "      <td>0.000002</td>\n",
              "      <td>-3.056464e-05</td>\n",
              "      <td>0.000219</td>\n",
              "    </tr>\n",
              "    <tr>\n",
              "      <th>OIBR3.SA</th>\n",
              "      <td>3.073824e-04</td>\n",
              "      <td>0.000114</td>\n",
              "      <td>1.547293e-04</td>\n",
              "      <td>0.000113</td>\n",
              "      <td>0.001544</td>\n",
              "      <td>0.000029</td>\n",
              "      <td>-0.000003</td>\n",
              "      <td>0.000223</td>\n",
              "      <td>0.000272</td>\n",
              "      <td>0.000012</td>\n",
              "      <td>-4.175322e-05</td>\n",
              "      <td>0.000195</td>\n",
              "    </tr>\n",
              "    <tr>\n",
              "      <th>KNRI11.SA</th>\n",
              "      <td>1.334204e-05</td>\n",
              "      <td>0.000009</td>\n",
              "      <td>1.182560e-05</td>\n",
              "      <td>0.000004</td>\n",
              "      <td>0.000029</td>\n",
              "      <td>0.000072</td>\n",
              "      <td>0.000010</td>\n",
              "      <td>0.000008</td>\n",
              "      <td>0.000013</td>\n",
              "      <td>0.000012</td>\n",
              "      <td>4.854706e-06</td>\n",
              "      <td>0.000011</td>\n",
              "    </tr>\n",
              "    <tr>\n",
              "      <th>FLMA11.SA</th>\n",
              "      <td>1.791651e-05</td>\n",
              "      <td>0.000021</td>\n",
              "      <td>1.444210e-05</td>\n",
              "      <td>-0.000006</td>\n",
              "      <td>-0.000003</td>\n",
              "      <td>0.000010</td>\n",
              "      <td>0.000148</td>\n",
              "      <td>0.000009</td>\n",
              "      <td>0.000005</td>\n",
              "      <td>0.000024</td>\n",
              "      <td>9.075227e-06</td>\n",
              "      <td>0.000079</td>\n",
              "    </tr>\n",
              "    <tr>\n",
              "      <th>BOVA11.SA</th>\n",
              "      <td>2.780358e-04</td>\n",
              "      <td>0.000152</td>\n",
              "      <td>1.644299e-04</td>\n",
              "      <td>0.000142</td>\n",
              "      <td>0.000223</td>\n",
              "      <td>0.000008</td>\n",
              "      <td>0.000009</td>\n",
              "      <td>0.000204</td>\n",
              "      <td>0.000209</td>\n",
              "      <td>0.000002</td>\n",
              "      <td>-9.079861e-06</td>\n",
              "      <td>0.000154</td>\n",
              "    </tr>\n",
              "    <tr>\n",
              "      <th>SMAL11.SA</th>\n",
              "      <td>2.498966e-04</td>\n",
              "      <td>0.000106</td>\n",
              "      <td>1.742617e-04</td>\n",
              "      <td>0.000164</td>\n",
              "      <td>0.000272</td>\n",
              "      <td>0.000013</td>\n",
              "      <td>0.000005</td>\n",
              "      <td>0.000209</td>\n",
              "      <td>0.000293</td>\n",
              "      <td>-0.000030</td>\n",
              "      <td>-2.853395e-05</td>\n",
              "      <td>0.000104</td>\n",
              "    </tr>\n",
              "    <tr>\n",
              "      <th>AAPL34.SA</th>\n",
              "      <td>-2.551347e-05</td>\n",
              "      <td>0.000057</td>\n",
              "      <td>6.708342e-05</td>\n",
              "      <td>0.000002</td>\n",
              "      <td>0.000012</td>\n",
              "      <td>0.000012</td>\n",
              "      <td>0.000024</td>\n",
              "      <td>0.000002</td>\n",
              "      <td>-0.000030</td>\n",
              "      <td>0.000469</td>\n",
              "      <td>1.809242e-04</td>\n",
              "      <td>0.000141</td>\n",
              "    </tr>\n",
              "    <tr>\n",
              "      <th>IVVB11.SA</th>\n",
              "      <td>2.219464e-07</td>\n",
              "      <td>0.000055</td>\n",
              "      <td>6.772696e-07</td>\n",
              "      <td>-0.000031</td>\n",
              "      <td>-0.000042</td>\n",
              "      <td>0.000005</td>\n",
              "      <td>0.000009</td>\n",
              "      <td>-0.000009</td>\n",
              "      <td>-0.000029</td>\n",
              "      <td>0.000181</td>\n",
              "      <td>1.679106e-04</td>\n",
              "      <td>0.000089</td>\n",
              "    </tr>\n",
              "    <tr>\n",
              "      <th>ETH-BRL</th>\n",
              "      <td>2.243604e-04</td>\n",
              "      <td>0.000273</td>\n",
              "      <td>1.831394e-04</td>\n",
              "      <td>0.000219</td>\n",
              "      <td>0.000195</td>\n",
              "      <td>0.000011</td>\n",
              "      <td>0.000079</td>\n",
              "      <td>0.000154</td>\n",
              "      <td>0.000104</td>\n",
              "      <td>0.000141</td>\n",
              "      <td>8.851037e-05</td>\n",
              "      <td>0.004596</td>\n",
              "    </tr>\n",
              "  </tbody>\n",
              "</table>\n",
              "</div>"
            ],
            "text/plain": [
              "               PETR4.SA  VALE3.SA  ...     IVVB11.SA   ETH-BRL\n",
              "PETR4.SA   7.386793e-04  0.000224  ...  2.219464e-07  0.000224\n",
              "VALE3.SA   2.244091e-04  0.000465  ...  5.463198e-05  0.000273\n",
              "WEGE3.SA   1.406734e-04  0.000071  ...  6.772696e-07  0.000183\n",
              "RADL3.SA   1.482563e-04  0.000018  ... -3.056464e-05  0.000219\n",
              "OIBR3.SA   3.073824e-04  0.000114  ... -4.175322e-05  0.000195\n",
              "KNRI11.SA  1.334204e-05  0.000009  ...  4.854706e-06  0.000011\n",
              "FLMA11.SA  1.791651e-05  0.000021  ...  9.075227e-06  0.000079\n",
              "BOVA11.SA  2.780358e-04  0.000152  ... -9.079861e-06  0.000154\n",
              "SMAL11.SA  2.498966e-04  0.000106  ... -2.853395e-05  0.000104\n",
              "AAPL34.SA -2.551347e-05  0.000057  ...  1.809242e-04  0.000141\n",
              "IVVB11.SA  2.219464e-07  0.000055  ...  1.679106e-04  0.000089\n",
              "ETH-BRL    2.243604e-04  0.000273  ...  8.851037e-05  0.004596\n",
              "\n",
              "[12 rows x 12 columns]"
            ]
          },
          "metadata": {},
          "execution_count": 244
        }
      ]
    },
    {
      "cell_type": "markdown",
      "metadata": {
        "id": "55P3irpfrEs0"
      },
      "source": [
        "Calculando a volatilidade"
      ]
    },
    {
      "cell_type": "code",
      "metadata": {
        "colab": {
          "base_uri": "https://localhost:8080/"
        },
        "id": "Y9SzodIurKzk",
        "outputId": "bae7c067-6de4-4fb5-f7bb-459c095c7c23"
      },
      "source": [
        "vol_atual = np.sqrt(np.dot(pesos_novo.T, np.dot(cov_matrix,pesos_novo)))\n",
        "vol_atual = vol_atual*np.sqrt(252)\n",
        "vol_atual"
      ],
      "execution_count": 245,
      "outputs": [
        {
          "output_type": "execute_result",
          "data": {
            "text/plain": [
              "0.22040167804166197"
            ]
          },
          "metadata": {},
          "execution_count": 245
        }
      ]
    },
    {
      "cell_type": "markdown",
      "metadata": {
        "id": "Rpxn0sBNrVSY"
      },
      "source": [
        "Framework de Otimização - Matriz de Covariancia Estimada"
      ]
    },
    {
      "cell_type": "code",
      "metadata": {
        "id": "H0A_zGjorWw9"
      },
      "source": [
        "from pypfopt import risk_models\n",
        "sample_cov = risk_models.CovarianceShrinkage(precos).ledoit_wolf()"
      ],
      "execution_count": 246,
      "outputs": []
    },
    {
      "cell_type": "markdown",
      "metadata": {
        "id": "np3XVnpwrbel"
      },
      "source": [
        "Retorno Médio Estimado"
      ]
    },
    {
      "cell_type": "code",
      "metadata": {
        "id": "ijLVp5HwrdLX"
      },
      "source": [
        "from pypfopt import expected_returns"
      ],
      "execution_count": 247,
      "outputs": []
    },
    {
      "cell_type": "code",
      "metadata": {
        "id": "onBN8KCorezP"
      },
      "source": [
        "retorno_medio = expected_returns.mean_historical_return(precos)"
      ],
      "execution_count": 248,
      "outputs": []
    },
    {
      "cell_type": "markdown",
      "metadata": {
        "id": "irWT995xriFc"
      },
      "source": [
        "Construindo o objeto de otimização"
      ]
    },
    {
      "cell_type": "code",
      "metadata": {
        "id": "7zf-eq_mrkmy"
      },
      "source": [
        "from pypfopt import EfficientFrontier"
      ],
      "execution_count": 249,
      "outputs": []
    },
    {
      "cell_type": "code",
      "metadata": {
        "id": "cEgFpXtNrm1M"
      },
      "source": [
        "mv = EfficientFrontier(retorno_medio, sample_cov)"
      ],
      "execution_count": 250,
      "outputs": []
    },
    {
      "cell_type": "code",
      "metadata": {
        "colab": {
          "base_uri": "https://localhost:8080/"
        },
        "id": "cdJlnIbPrpQy",
        "outputId": "8a81a2ff-0fb1-48df-aeb7-c98a9a71f71e"
      },
      "source": [
        "mv.min_volatility()\n",
        "pesos_vol = mv.clean_weights()\n",
        "pesos_vol"
      ],
      "execution_count": 251,
      "outputs": [
        {
          "output_type": "execute_result",
          "data": {
            "text/plain": [
              "OrderedDict([('PETR4.SA', 0.0),\n",
              "             ('VALE3.SA', 0.00853),\n",
              "             ('WEGE3.SA', 0.00288),\n",
              "             ('RADL3.SA', 0.06595),\n",
              "             ('OIBR3.SA', 0.00188),\n",
              "             ('KNRI11.SA', 0.37734),\n",
              "             ('FLMA11.SA', 0.20381),\n",
              "             ('BOVA11.SA', 0.08655),\n",
              "             ('SMAL11.SA', 0.03698),\n",
              "             ('AAPL34.SA', 0.0),\n",
              "             ('IVVB11.SA', 0.21606),\n",
              "             ('ETH-BRL', 0.0)])"
            ]
          },
          "metadata": {},
          "execution_count": 251
        }
      ]
    },
    {
      "cell_type": "markdown",
      "metadata": {
        "id": "S-4mdYUhrqSH"
      },
      "source": [
        "Extraindo os pesos"
      ]
    },
    {
      "cell_type": "code",
      "metadata": {
        "colab": {
          "base_uri": "https://localhost:8080/"
        },
        "id": "2uoz_MaIrsFI",
        "outputId": "2bef4189-67f3-4f51-e890-b9865de032c8"
      },
      "source": [
        "pesos_vol = pesos_vol.values()\n",
        "pesos_vol = list(pesos_vol)\n",
        "pesos_vol = np.array(pesos_vol)\n",
        "pesos_vol"
      ],
      "execution_count": 252,
      "outputs": [
        {
          "output_type": "execute_result",
          "data": {
            "text/plain": [
              "array([0.     , 0.00853, 0.00288, 0.06595, 0.00188, 0.37734, 0.20381,\n",
              "       0.08655, 0.03698, 0.     , 0.21606, 0.     ])"
            ]
          },
          "metadata": {},
          "execution_count": 252
        }
      ]
    },
    {
      "cell_type": "markdown",
      "metadata": {
        "id": "H-0fBzkcruG6"
      },
      "source": [
        "Calculando a Volatilidade Pós-Otimização"
      ]
    },
    {
      "cell_type": "code",
      "metadata": {
        "colab": {
          "base_uri": "https://localhost:8080/"
        },
        "id": "4suUz-2QrxZ2",
        "outputId": "416d8762-208f-4b43-b3b9-e0089e88e64b"
      },
      "source": [
        "vol_otimizada = np.sqrt(np.dot(pesos_vol.T, np.dot(cov_matrix, pesos_vol)))\n",
        "vol_otimizada = vol_otimizada * np.sqrt(252)\n",
        "vol_otimizada"
      ],
      "execution_count": 253,
      "outputs": [
        {
          "output_type": "execute_result",
          "data": {
            "text/plain": [
              "0.09487387829254895"
            ]
          },
          "metadata": {},
          "execution_count": 253
        }
      ]
    },
    {
      "cell_type": "markdown",
      "metadata": {
        "id": "0cTweSXgrzv7"
      },
      "source": [
        "**Comparando desempenho das carteiras vs Ibov**"
      ]
    },
    {
      "cell_type": "code",
      "metadata": {
        "id": "1RJjcL4zr5DY"
      },
      "source": [
        "renta_carteira_antes = (rentabilidade_precos * pesos_novo).sum(axis=1)\n",
        "renta_carteira_depois = (rentabilidade_precos * pesos_vol).sum(axis=1)"
      ],
      "execution_count": 254,
      "outputs": []
    },
    {
      "cell_type": "code",
      "metadata": {
        "id": "xizbSGtbr7aI"
      },
      "source": [
        "carteira_antes_acm = (1+renta_carteira_antes).cumprod()\n",
        "carteira_depois_acm = (1+renta_carteira_depois).cumprod()"
      ],
      "execution_count": 255,
      "outputs": []
    },
    {
      "cell_type": "code",
      "metadata": {
        "colab": {
          "base_uri": "https://localhost:8080/"
        },
        "id": "ij6_jsIqr91g",
        "outputId": "64ebcf35-db91-44f4-a319-2432e2988fd7"
      },
      "source": [
        "ibov = yf.download('^BVSP', start=inicio, end=fim)['Adj Close']\n",
        "ibov_retornos = ibov.pct_change()\n",
        "ibov_acm = (1+ibov_retornos).cumprod()"
      ],
      "execution_count": 256,
      "outputs": [
        {
          "output_type": "stream",
          "name": "stdout",
          "text": [
            "\r[*********************100%***********************]  1 of 1 completed\n"
          ]
        }
      ]
    },
    {
      "cell_type": "code",
      "metadata": {
        "colab": {
          "base_uri": "https://localhost:8080/",
          "height": 542
        },
        "id": "LP9wdkoLsCP9",
        "outputId": "a3295918-6507-4e44-d5d5-937aaf269393"
      },
      "source": [
        "import plotly.graph_objects as go\n",
        "\n",
        "fig = go.Figure()\n",
        "fig.add_trace(go.Scatter(name='IBOV', x=ibov_acm.index, y=ibov_acm))\n",
        "fig.add_trace(go.Scatter(name='Carteira Normal', x=carteira_antes_acm.index, y=carteira_antes_acm))\n",
        "fig.add_trace(go.Scatter(name='Carteira MV', x=carteira_depois_acm.index, y=carteira_depois_acm))\n",
        "fig.update_layout(title_text='Comparação Carteira')\n",
        "fig.show()"
      ],
      "execution_count": 257,
      "outputs": [
        {
          "output_type": "display_data",
          "data": {
            "text/html": [
              "<html>\n",
              "<head><meta charset=\"utf-8\" /></head>\n",
              "<body>\n",
              "    <div>\n",
              "            <script src=\"https://cdnjs.cloudflare.com/ajax/libs/mathjax/2.7.5/MathJax.js?config=TeX-AMS-MML_SVG\"></script><script type=\"text/javascript\">if (window.MathJax) {MathJax.Hub.Config({SVG: {font: \"STIX-Web\"}});}</script>\n",
              "                <script type=\"text/javascript\">window.PlotlyConfig = {MathJaxConfig: 'local'};</script>\n",
              "        <script src=\"https://cdn.plot.ly/plotly-latest.min.js\"></script>    \n",
              "            <div id=\"f568d832-1f61-4b31-abb8-2cfcc6d7f51d\" class=\"plotly-graph-div\" style=\"height:525px; width:100%;\"></div>\n",
              "            <script type=\"text/javascript\">\n",
              "                \n",
              "                    window.PLOTLYENV=window.PLOTLYENV || {};\n",
              "                    \n",
              "                if (document.getElementById(\"f568d832-1f61-4b31-abb8-2cfcc6d7f51d\")) {\n",
              "                    Plotly.newPlot(\n",
              "                        'f568d832-1f61-4b31-abb8-2cfcc6d7f51d',\n",
              "                        [{\"name\": \"IBOV\", \"type\": \"scatter\", \"x\": [\"2020-05-04T00:00:00\", \"2020-05-05T00:00:00\", \"2020-05-06T00:00:00\", \"2020-05-07T00:00:00\", \"2020-05-08T00:00:00\", \"2020-05-11T00:00:00\", \"2020-05-12T00:00:00\", \"2020-05-13T00:00:00\", \"2020-05-14T00:00:00\", \"2020-05-15T00:00:00\", \"2020-05-18T00:00:00\", \"2020-05-19T00:00:00\", \"2020-05-20T00:00:00\", \"2020-05-21T00:00:00\", \"2020-05-22T00:00:00\", \"2020-05-25T00:00:00\", \"2020-05-26T00:00:00\", \"2020-05-27T00:00:00\", \"2020-05-28T00:00:00\", \"2020-05-29T00:00:00\", \"2020-06-01T00:00:00\", \"2020-06-02T00:00:00\", \"2020-06-03T00:00:00\", \"2020-06-04T00:00:00\", \"2020-06-05T00:00:00\", \"2020-06-08T00:00:00\", \"2020-06-09T00:00:00\", \"2020-06-10T00:00:00\", \"2020-06-12T00:00:00\", \"2020-06-15T00:00:00\", \"2020-06-16T00:00:00\", \"2020-06-17T00:00:00\", \"2020-06-18T00:00:00\", \"2020-06-19T00:00:00\", \"2020-06-22T00:00:00\", \"2020-06-23T00:00:00\", \"2020-06-24T00:00:00\", \"2020-06-25T00:00:00\", \"2020-06-26T00:00:00\", \"2020-06-29T00:00:00\", \"2020-06-30T00:00:00\", \"2020-07-01T00:00:00\", \"2020-07-02T00:00:00\", \"2020-07-03T00:00:00\", \"2020-07-06T00:00:00\", \"2020-07-07T00:00:00\", \"2020-07-08T00:00:00\", \"2020-07-09T00:00:00\", \"2020-07-10T00:00:00\", \"2020-07-13T00:00:00\", \"2020-07-14T00:00:00\", \"2020-07-15T00:00:00\", \"2020-07-16T00:00:00\", \"2020-07-17T00:00:00\", \"2020-07-20T00:00:00\", \"2020-07-21T00:00:00\", \"2020-07-22T00:00:00\", \"2020-07-23T00:00:00\", \"2020-07-24T00:00:00\", \"2020-07-27T00:00:00\", \"2020-07-28T00:00:00\", \"2020-07-29T00:00:00\", \"2020-07-30T00:00:00\", \"2020-07-31T00:00:00\", \"2020-08-03T00:00:00\", \"2020-08-04T00:00:00\", \"2020-08-05T00:00:00\", \"2020-08-06T00:00:00\", \"2020-08-07T00:00:00\", \"2020-08-10T00:00:00\", \"2020-08-11T00:00:00\", \"2020-08-12T00:00:00\", \"2020-08-13T00:00:00\", \"2020-08-14T00:00:00\", \"2020-08-17T00:00:00\", \"2020-08-18T00:00:00\", \"2020-08-19T00:00:00\", \"2020-08-20T00:00:00\", \"2020-08-21T00:00:00\", \"2020-08-24T00:00:00\", \"2020-08-25T00:00:00\", \"2020-08-26T00:00:00\", \"2020-08-27T00:00:00\", \"2020-08-28T00:00:00\", \"2020-08-31T00:00:00\", \"2020-09-01T00:00:00\", \"2020-09-02T00:00:00\", \"2020-09-03T00:00:00\", \"2020-09-04T00:00:00\", \"2020-09-08T00:00:00\", \"2020-09-09T00:00:00\", \"2020-09-10T00:00:00\", \"2020-09-11T00:00:00\", \"2020-09-14T00:00:00\", \"2020-09-15T00:00:00\", \"2020-09-16T00:00:00\", \"2020-09-17T00:00:00\", \"2020-09-18T00:00:00\", \"2020-09-21T00:00:00\", \"2020-09-22T00:00:00\", \"2020-09-23T00:00:00\", \"2020-09-24T00:00:00\", \"2020-09-25T00:00:00\", \"2020-09-28T00:00:00\", \"2020-09-29T00:00:00\", \"2020-09-30T00:00:00\", \"2020-10-01T00:00:00\", \"2020-10-02T00:00:00\", \"2020-10-05T00:00:00\", \"2020-10-06T00:00:00\", \"2020-10-07T00:00:00\", \"2020-10-08T00:00:00\", \"2020-10-09T00:00:00\", \"2020-10-13T00:00:00\", \"2020-10-14T00:00:00\", \"2020-10-15T00:00:00\", \"2020-10-16T00:00:00\", \"2020-10-19T00:00:00\", \"2020-10-20T00:00:00\", \"2020-10-21T00:00:00\", \"2020-10-22T00:00:00\", \"2020-10-23T00:00:00\", \"2020-10-26T00:00:00\", \"2020-10-27T00:00:00\", \"2020-10-28T00:00:00\", \"2020-10-29T00:00:00\", \"2020-10-30T00:00:00\", \"2020-11-03T00:00:00\", \"2020-11-04T00:00:00\", \"2020-11-05T00:00:00\", \"2020-11-06T00:00:00\", \"2020-11-09T00:00:00\", \"2020-11-10T00:00:00\", \"2020-11-11T00:00:00\", \"2020-11-12T00:00:00\", \"2020-11-13T00:00:00\", \"2020-11-16T00:00:00\", \"2020-11-17T00:00:00\", \"2020-11-18T00:00:00\", \"2020-11-19T00:00:00\", \"2020-11-23T00:00:00\", \"2020-11-24T00:00:00\", \"2020-11-25T00:00:00\", \"2020-11-26T00:00:00\", \"2020-11-27T00:00:00\", \"2020-11-30T00:00:00\", \"2020-12-01T00:00:00\", \"2020-12-02T00:00:00\", \"2020-12-03T00:00:00\", \"2020-12-04T00:00:00\", \"2020-12-07T00:00:00\", \"2020-12-08T00:00:00\", \"2020-12-09T00:00:00\", \"2020-12-10T00:00:00\", \"2020-12-11T00:00:00\", \"2020-12-14T00:00:00\", \"2020-12-15T00:00:00\", \"2020-12-16T00:00:00\", \"2020-12-17T00:00:00\", \"2020-12-18T00:00:00\", \"2020-12-21T00:00:00\", \"2020-12-22T00:00:00\", \"2020-12-23T00:00:00\", \"2020-12-28T00:00:00\", \"2020-12-29T00:00:00\", \"2020-12-30T00:00:00\", \"2021-01-04T00:00:00\", \"2021-01-05T00:00:00\", \"2021-01-06T00:00:00\", \"2021-01-07T00:00:00\", \"2021-01-08T00:00:00\", \"2021-01-11T00:00:00\", \"2021-01-12T00:00:00\", \"2021-01-13T00:00:00\", \"2021-01-14T00:00:00\", \"2021-01-15T00:00:00\", \"2021-01-18T00:00:00\", \"2021-01-19T00:00:00\", \"2021-01-20T00:00:00\", \"2021-01-21T00:00:00\", \"2021-01-22T00:00:00\", \"2021-01-26T00:00:00\", \"2021-01-27T00:00:00\", \"2021-01-28T00:00:00\", \"2021-01-29T00:00:00\", \"2021-02-01T00:00:00\", \"2021-02-02T00:00:00\", \"2021-02-03T00:00:00\", \"2021-02-04T00:00:00\", \"2021-02-05T00:00:00\", \"2021-02-08T00:00:00\", \"2021-02-09T00:00:00\", \"2021-02-10T00:00:00\", \"2021-02-11T00:00:00\", \"2021-02-12T00:00:00\", \"2021-02-18T00:00:00\", \"2021-02-19T00:00:00\", \"2021-02-22T00:00:00\", \"2021-02-23T00:00:00\", \"2021-02-24T00:00:00\", \"2021-02-25T00:00:00\", \"2021-02-26T00:00:00\", \"2021-03-01T00:00:00\", \"2021-03-02T00:00:00\", \"2021-03-03T00:00:00\", \"2021-03-04T00:00:00\", \"2021-03-05T00:00:00\", \"2021-03-08T00:00:00\", \"2021-03-09T00:00:00\", \"2021-03-10T00:00:00\", \"2021-03-11T00:00:00\", \"2021-03-12T00:00:00\", \"2021-03-15T00:00:00\", \"2021-03-16T00:00:00\", \"2021-03-17T00:00:00\", \"2021-03-18T00:00:00\", \"2021-03-19T00:00:00\", \"2021-03-22T00:00:00\", \"2021-03-23T00:00:00\", \"2021-03-24T00:00:00\", \"2021-03-25T00:00:00\", \"2021-03-26T00:00:00\", \"2021-03-29T00:00:00\", \"2021-03-30T00:00:00\", \"2021-03-31T00:00:00\", \"2021-04-01T00:00:00\", \"2021-04-05T00:00:00\", \"2021-04-06T00:00:00\", \"2021-04-07T00:00:00\", \"2021-04-08T00:00:00\", \"2021-04-09T00:00:00\", \"2021-04-12T00:00:00\", \"2021-04-13T00:00:00\", \"2021-04-14T00:00:00\", \"2021-04-15T00:00:00\", \"2021-04-16T00:00:00\", \"2021-04-19T00:00:00\", \"2021-04-20T00:00:00\", \"2021-04-22T00:00:00\", \"2021-04-23T00:00:00\", \"2021-04-26T00:00:00\", \"2021-04-27T00:00:00\", \"2021-04-28T00:00:00\", \"2021-04-29T00:00:00\", \"2021-04-30T00:00:00\", \"2021-05-03T00:00:00\", \"2021-05-04T00:00:00\", \"2021-05-05T00:00:00\", \"2021-05-06T00:00:00\", \"2021-05-07T00:00:00\", \"2021-05-10T00:00:00\", \"2021-05-11T00:00:00\", \"2021-05-12T00:00:00\", \"2021-05-13T00:00:00\", \"2021-05-14T00:00:00\", \"2021-05-17T00:00:00\", \"2021-05-18T00:00:00\", \"2021-05-19T00:00:00\", \"2021-05-20T00:00:00\", \"2021-05-21T00:00:00\", \"2021-05-24T00:00:00\", \"2021-05-25T00:00:00\", \"2021-05-26T00:00:00\", \"2021-05-27T00:00:00\", \"2021-05-28T00:00:00\", \"2021-05-31T00:00:00\", \"2021-06-01T00:00:00\", \"2021-06-02T00:00:00\", \"2021-06-04T00:00:00\", \"2021-06-07T00:00:00\", \"2021-06-08T00:00:00\", \"2021-06-09T00:00:00\", \"2021-06-10T00:00:00\", \"2021-06-11T00:00:00\", \"2021-06-14T00:00:00\", \"2021-06-15T00:00:00\", \"2021-06-16T00:00:00\", \"2021-06-17T00:00:00\", \"2021-06-18T00:00:00\", \"2021-06-21T00:00:00\", \"2021-06-22T00:00:00\", \"2021-06-23T00:00:00\", \"2021-06-24T00:00:00\", \"2021-06-25T00:00:00\", \"2021-06-28T00:00:00\", \"2021-06-29T00:00:00\", \"2021-06-30T00:00:00\", \"2021-07-01T00:00:00\", \"2021-07-02T00:00:00\", \"2021-07-05T00:00:00\", \"2021-07-06T00:00:00\", \"2021-07-07T00:00:00\", \"2021-07-08T00:00:00\", \"2021-07-12T00:00:00\", \"2021-07-13T00:00:00\", \"2021-07-14T00:00:00\", \"2021-07-15T00:00:00\", \"2021-07-16T00:00:00\", \"2021-07-19T00:00:00\", \"2021-07-20T00:00:00\", \"2021-07-21T00:00:00\", \"2021-07-22T00:00:00\", \"2021-07-23T00:00:00\", \"2021-07-26T00:00:00\", \"2021-07-27T00:00:00\", \"2021-07-28T00:00:00\", \"2021-07-29T00:00:00\", \"2021-07-30T00:00:00\", \"2021-08-02T00:00:00\", \"2021-08-03T00:00:00\", \"2021-08-04T00:00:00\", \"2021-08-05T00:00:00\", \"2021-08-06T00:00:00\", \"2021-08-09T00:00:00\", \"2021-08-10T00:00:00\", \"2021-08-11T00:00:00\", \"2021-08-12T00:00:00\", \"2021-08-13T00:00:00\", \"2021-08-16T00:00:00\", \"2021-08-17T00:00:00\", \"2021-08-18T00:00:00\", \"2021-08-19T00:00:00\", \"2021-08-20T00:00:00\", \"2021-08-23T00:00:00\", \"2021-08-24T00:00:00\", \"2021-08-25T00:00:00\", \"2021-08-26T00:00:00\", \"2021-08-27T00:00:00\", \"2021-08-30T00:00:00\", \"2021-08-31T00:00:00\", \"2021-09-01T00:00:00\", \"2021-09-02T00:00:00\", \"2021-09-03T00:00:00\", \"2021-09-06T00:00:00\", \"2021-09-08T00:00:00\", \"2021-09-09T00:00:00\", \"2021-09-10T00:00:00\", \"2021-09-13T00:00:00\", \"2021-09-14T00:00:00\", \"2021-09-15T00:00:00\", \"2021-09-16T00:00:00\", \"2021-09-17T00:00:00\", \"2021-09-20T00:00:00\", \"2021-09-21T00:00:00\", \"2021-09-22T00:00:00\", \"2021-09-23T00:00:00\", \"2021-09-24T00:00:00\", \"2021-09-27T00:00:00\", \"2021-09-28T00:00:00\", \"2021-09-29T00:00:00\", \"2021-09-30T00:00:00\", \"2021-10-01T00:00:00\", \"2021-10-04T00:00:00\", \"2021-10-05T00:00:00\", \"2021-10-06T00:00:00\", \"2021-10-07T00:00:00\", \"2021-10-08T00:00:00\", \"2021-10-11T00:00:00\", \"2021-10-13T00:00:00\", \"2021-10-14T00:00:00\", \"2021-10-15T00:00:00\", \"2021-10-18T00:00:00\", \"2021-10-19T00:00:00\", \"2021-10-20T00:00:00\", \"2021-10-21T00:00:00\", \"2021-10-22T00:00:00\", \"2021-10-25T00:00:00\", \"2021-10-26T00:00:00\", \"2021-10-27T00:00:00\", \"2021-10-28T00:00:00\", \"2021-10-29T00:00:00\", \"2021-11-01T00:00:00\", \"2021-11-03T00:00:00\", \"2021-11-04T00:00:00\"], \"y\": [null, 1.0075434859779908, 1.0023834880064912, 0.9904026573355648, 1.0175845631117197, 1.0023961661341854, 0.9872711597951215, 0.9860033470257112, 1.001711547238704, 0.9832775495714794, 1.0293878999949289, 1.0236573862771947, 1.0309726659566916, 1.052626908058218, 1.041799787007455, 1.0860464526598712, 1.0835868958872155, 1.1149906181855065, 1.1023505248744867, 1.108106394847609, 1.1235356762513315, 1.1542928140372233, 1.179091231806887, 1.1895760434099094, 1.199819970586744, 1.2379557786906032, 1.2265708200212995, 1.2004411988437549, 1.1764668593742076, 1.1711547238703788, 1.1857979613570666, 1.2113570667883766, 1.2186850245955676, 1.2243521476748314, 1.208681981844921, 1.2167833054414523, 1.196523657386277, 1.216884730463005, 1.1896394340483796, 1.2137405547948676, 1.2051321060905722, 1.2196739185557073, 1.2200796186419187, 1.226799026319793, 1.2543359196713828, 1.2394264415031186, 1.2648968000405698, 1.2571631421471674, 1.2682184694964245, 1.2512931690247981, 1.2733911455956182, 1.2905192961103502, 1.2748237740250516, 1.3044272021907801, 1.3239261625843093, 1.3224554997717934, 1.3222019372179115, 1.2968837162127895, 1.2980120695775645, 1.3245727470967084, 1.3199071961052788, 1.3388736751356556, 1.3313175110299706, 1.3047314772554386, 1.3036918707845222, 1.2832293726862414, 1.3033368832090875, 1.320122724276079, 1.303007251889041, 1.3114762411887013, 1.2953750190171915, 1.2946650438663219, 1.2736573862771947, 1.2849662761803338, 1.2626781276941021, 1.2939931030985343, 1.2786398904609766, 1.2864242608651553, 1.2870962016329426, 1.29694710685126, 1.2946650438663216, 1.2757619554744153, 1.275723921091333, 1.294981997058674, 1.2598128708352347, 1.2952989502510266, 1.2920406714336423, 1.2769536994776607, 1.283559004006288, 1.2684466757949182, 1.284192910390993, 1.253042750646584, 1.2470586743749679, 1.2712992545260913, 1.2715908514630558, 1.2637050560373242, 1.2690552259242354, 1.2461331710532986, 1.22966428317866, 1.233505755869973, 1.2137405547948676, 1.229930523860236, 1.2297657082002127, 1.2001876362898725, 1.1864191896140774, 1.199388914245144, 1.2104949541051773, 1.1919468532887059, 1.2182286119985795, 1.212219179471575, 1.2110908261068, 1.2414422638064804, 1.2359019220041578, 1.2488336122521422, 1.259369136365941, 1.2558192606115923, 1.2463740554794862, 1.2507987220447279, 1.274658958365028, 1.2748110958973573, 1.2921294183275007, 1.2837872103047816, 1.2807064252751148, 1.2628175870987366, 1.209100360058826, 1.224478928951772, 1.1911354531162832, 1.2118641918961401, 1.2400603478878232, 1.2776256402454478, 1.2779425934378004, 1.3174222830772344, 1.3356534307013535, 1.3252700441198837, 1.295387697144885, 1.3250164815660017, 1.3493331304832898, 1.3594629545108774, 1.3500050712510772, 1.3504361275926766, 1.3613646736649927, 1.3918809270246966, 1.39628023733455, 1.3974719813377956, 1.4018839697753431, 1.3804959683553928, 1.4115193468228606, 1.4175921699883356, 1.4316015010903185, 1.4412749125209183, 1.4405522592423545, 1.439867640346873, 1.4291039099345804, 1.4578832598001923, 1.46207972006694, 1.4576677316293924, 1.472513819159186, 1.4953471271362637, 1.4980095339520254, 1.4919493889142446, 1.4708656625589527, 1.4750748009533945, 1.4942060956437948, 1.509343780110553, 1.5147193062528521, 1.512576702672549, 1.5030934631573605, 1.5115244180739382, 1.5194862822658344, 1.5461737410619194, 1.585742177595212, 1.5569628277296004, 1.5720624778132761, 1.547238703788224, 1.5655078857954252, 1.5277397433946949, 1.5371215578883306, 1.5299077032303865, 1.517673310005578, 1.5016354784725388, 1.4855215781733349, 1.4765454637659106, 1.469166793447943, 1.5126781276941017, 1.470751559409706, 1.4879684568182965, 1.4989857497844712, 1.5178888381763773, 1.512006186926314, 1.5204244637151978, 1.51523910948831, 1.514136112378923, 1.501470662812515, 1.5116765556062672, 1.510167858410669, 1.5104721334753273, 1.5055023074192393, 1.4284192910390983, 1.4608626198083057, 1.4664536741214047, 1.4231959024291283, 1.3950377808205274, 1.398841219128758, 1.4141183630001513, 1.409604949541051, 1.4286982098483687, 1.460545666615953, 1.4023530605000243, 1.4114686343120837, 1.4297885288300611, 1.4577818347786387, 1.4473350575586985, 1.456095643795323, 1.44554744155383, 1.4776231046199086, 1.4558927937522177, 1.4734773568639374, 1.4577184441401685, 1.4359500988893952, 1.4207617019118608, 1.442137025204117, 1.4552081748567363, 1.4632968203255732, 1.4814392210558334, 1.4787007454739074, 1.4611922511283524, 1.4899082103554937, 1.4896673259293058, 1.4912520918910686, 1.4999873218723048, 1.491835285764997, 1.5063137075916615, 1.5124625995233012, 1.525115370962015, 1.5302626908058206, 1.5354987575434849, 1.5332166945585466, 1.5221613672092895, 1.5134007809726648, 1.5280947309701292, 1.528918809270246, 1.5136163091434647, 1.5347253917541446, 1.5222120797200658, 1.507353314062578, 1.5113469242862203, 1.4923677671281494, 1.5158476596176267, 1.520373751204421, 1.5472133475328351, 1.545577869060296, 1.5589532937775736, 1.5176986662609653, 1.530326081444291, 1.5452228814848612, 1.5586236624575271, 1.5591561438206794, 1.5547948678939083, 1.5556189461940249, 1.5542370302753676, 1.5724935341548747, 1.559257568842232, 1.5719483746640281, 1.5767407069323987, 1.5918783913991565, 1.6001825650387935, 1.6261854049393971, 1.6430980272833293, 1.6497540443227328, 1.6579948273238991, 1.645456159034432, 1.6469775343577244, 1.6491201379380278, 1.641069526852273, 1.6507936507936494, 1.6493103098534394, 1.6387621076119465, 1.6235229981236357, 1.6279349865611832, 1.638838176378111, 1.6325244687864482, 1.6282265834981475, 1.6419950301739425, 1.61336781784066, 1.61556113393174, 1.6142679649069416, 1.607611947867538, 1.593209594807038, 1.6180080125767018, 1.6091079669354422, 1.5859703838937058, 1.6103631015771585, 1.590192200415842, 1.617653025001267, 1.6249302702976818, 1.6279603428165723, 1.6160555809118102, 1.5969369643491043, 1.5770956945078345, 1.5898498909681011, 1.596543942390587, 1.5993077742279014, 1.5854379025305536, 1.5974948019676445, 1.5798468482174544, 1.6010700339773811, 1.5933236979562848, 1.544208631269333, 1.553273492570616, 1.5667249860540584, 1.544208631269333, 1.542078705816724, 1.5570008621126823, 1.5596505908007499, 1.5492925604746683, 1.5474415538313293, 1.530262690805821, 1.5365130077590134, 1.5109792585830917, 1.4948019676454174, 1.4788148486231547, 1.485432831279476, 1.4966910086718388, 1.4893250164815655, 1.5240504082357111, 1.531746031746031, 1.505198032354581, 1.5299710938688564, 1.5180790100917887, 1.5059206856331446, 1.5137177341650174, 1.4792459049647537, 1.4824915056544437, 1.4943582331761232, 1.4378644961712042, 1.462561488919315, 1.4489325016481553, 1.4757847761042635, 1.4729575536284787, 1.4587834068664725, 1.4426948628226568, 1.4128378721030461, 1.379938130736851, 1.3977635782747586, 1.4235255337491741, 1.4461179573000642, 1.4362163395709704, 1.4400197778792012, 1.396166134185302, 1.4086287337086043, 1.4070059333637592, 1.4313606166641295, 1.3995765505350155, 1.400400628835132, 1.4016937978599304, 1.402010751052283, 1.4305111821086245, 1.4222323647243758, 1.43840965566205, 1.4349738830569483, 1.4535219838734197, 1.4507327957807172, 1.4031264262893637, 1.4045590547187972, 1.3658780871240916, 1.3476342613722787, 1.3783026522643116, 1.3492063492063473, 1.3484836959277835, 1.3401414879050644, 1.3121988944672633, 1.3381890562401728, 1.3390258126679837, 1.3110705411024886]}, {\"name\": \"Carteira Normal\", \"type\": \"scatter\", \"x\": [\"2020-05-04T00:00:00\", \"2020-05-05T00:00:00\", \"2020-05-06T00:00:00\", \"2020-05-07T00:00:00\", \"2020-05-08T00:00:00\", \"2020-05-11T00:00:00\", \"2020-05-12T00:00:00\", \"2020-05-13T00:00:00\", \"2020-05-14T00:00:00\", \"2020-05-15T00:00:00\", \"2020-05-18T00:00:00\", \"2020-05-19T00:00:00\", \"2020-05-20T00:00:00\", \"2020-05-21T00:00:00\", \"2020-05-22T00:00:00\", \"2020-05-25T00:00:00\", \"2020-05-26T00:00:00\", \"2020-05-27T00:00:00\", \"2020-05-28T00:00:00\", \"2020-05-29T00:00:00\", \"2020-06-01T00:00:00\", \"2020-06-02T00:00:00\", \"2020-06-03T00:00:00\", \"2020-06-04T00:00:00\", \"2020-06-05T00:00:00\", \"2020-06-08T00:00:00\", \"2020-06-09T00:00:00\", \"2020-06-10T00:00:00\", \"2020-06-12T00:00:00\", \"2020-06-15T00:00:00\", \"2020-06-16T00:00:00\", \"2020-06-17T00:00:00\", \"2020-06-18T00:00:00\", \"2020-06-19T00:00:00\", \"2020-06-22T00:00:00\", \"2020-06-23T00:00:00\", \"2020-06-24T00:00:00\", \"2020-06-25T00:00:00\", \"2020-06-26T00:00:00\", \"2020-06-29T00:00:00\", \"2020-06-30T00:00:00\", \"2020-07-01T00:00:00\", \"2020-07-02T00:00:00\", \"2020-07-03T00:00:00\", \"2020-07-06T00:00:00\", \"2020-07-07T00:00:00\", \"2020-07-08T00:00:00\", \"2020-07-09T00:00:00\", \"2020-07-10T00:00:00\", \"2020-07-13T00:00:00\", \"2020-07-14T00:00:00\", \"2020-07-15T00:00:00\", \"2020-07-16T00:00:00\", \"2020-07-17T00:00:00\", \"2020-07-20T00:00:00\", \"2020-07-21T00:00:00\", \"2020-07-22T00:00:00\", \"2020-07-23T00:00:00\", \"2020-07-24T00:00:00\", \"2020-07-27T00:00:00\", \"2020-07-28T00:00:00\", \"2020-07-29T00:00:00\", \"2020-07-30T00:00:00\", \"2020-07-31T00:00:00\", \"2020-08-03T00:00:00\", \"2020-08-04T00:00:00\", \"2020-08-05T00:00:00\", \"2020-08-06T00:00:00\", \"2020-08-07T00:00:00\", \"2020-08-10T00:00:00\", \"2020-08-11T00:00:00\", \"2020-08-12T00:00:00\", \"2020-08-13T00:00:00\", \"2020-08-14T00:00:00\", \"2020-08-17T00:00:00\", \"2020-08-18T00:00:00\", \"2020-08-19T00:00:00\", \"2020-08-20T00:00:00\", \"2020-08-21T00:00:00\", \"2020-08-24T00:00:00\", \"2020-08-25T00:00:00\", \"2020-08-26T00:00:00\", \"2020-08-27T00:00:00\", \"2020-08-28T00:00:00\", \"2020-08-31T00:00:00\", \"2020-09-01T00:00:00\", \"2020-09-02T00:00:00\", \"2020-09-03T00:00:00\", \"2020-09-04T00:00:00\", \"2020-09-08T00:00:00\", \"2020-09-09T00:00:00\", \"2020-09-10T00:00:00\", \"2020-09-11T00:00:00\", \"2020-09-14T00:00:00\", \"2020-09-15T00:00:00\", \"2020-09-16T00:00:00\", \"2020-09-17T00:00:00\", \"2020-09-18T00:00:00\", \"2020-09-21T00:00:00\", \"2020-09-22T00:00:00\", \"2020-09-23T00:00:00\", \"2020-09-24T00:00:00\", \"2020-09-25T00:00:00\", \"2020-09-28T00:00:00\", \"2020-09-29T00:00:00\", \"2020-09-30T00:00:00\", \"2020-10-01T00:00:00\", \"2020-10-02T00:00:00\", \"2020-10-05T00:00:00\", \"2020-10-06T00:00:00\", \"2020-10-07T00:00:00\", \"2020-10-08T00:00:00\", \"2020-10-14T00:00:00\", \"2020-10-15T00:00:00\", \"2020-10-16T00:00:00\", \"2020-10-19T00:00:00\", \"2020-10-20T00:00:00\", \"2020-10-21T00:00:00\", \"2020-10-22T00:00:00\", \"2020-10-23T00:00:00\", \"2020-10-26T00:00:00\", \"2020-10-27T00:00:00\", \"2020-10-28T00:00:00\", \"2020-10-29T00:00:00\", \"2020-10-30T00:00:00\", \"2020-11-03T00:00:00\", \"2020-11-04T00:00:00\", \"2020-11-05T00:00:00\", \"2020-11-06T00:00:00\", \"2020-11-09T00:00:00\", \"2020-11-10T00:00:00\", \"2020-11-11T00:00:00\", \"2020-11-12T00:00:00\", \"2020-11-13T00:00:00\", \"2020-11-16T00:00:00\", \"2020-11-17T00:00:00\", \"2020-11-18T00:00:00\", \"2020-11-19T00:00:00\", \"2020-11-23T00:00:00\", \"2020-11-24T00:00:00\", \"2020-11-25T00:00:00\", \"2020-11-26T00:00:00\", \"2020-11-27T00:00:00\", \"2020-11-30T00:00:00\", \"2020-12-01T00:00:00\", \"2020-12-02T00:00:00\", \"2020-12-03T00:00:00\", \"2020-12-04T00:00:00\", \"2020-12-07T00:00:00\", \"2020-12-08T00:00:00\", \"2020-12-09T00:00:00\", \"2020-12-10T00:00:00\", \"2020-12-11T00:00:00\", \"2020-12-14T00:00:00\", \"2020-12-15T00:00:00\", \"2020-12-16T00:00:00\", \"2020-12-17T00:00:00\", \"2020-12-18T00:00:00\", \"2020-12-21T00:00:00\", \"2020-12-22T00:00:00\", \"2020-12-23T00:00:00\", \"2020-12-28T00:00:00\", \"2020-12-29T00:00:00\", \"2020-12-30T00:00:00\", \"2021-01-04T00:00:00\", \"2021-01-05T00:00:00\", \"2021-01-06T00:00:00\", \"2021-01-07T00:00:00\", \"2021-01-08T00:00:00\", \"2021-01-11T00:00:00\", \"2021-01-12T00:00:00\", \"2021-01-13T00:00:00\", \"2021-01-14T00:00:00\", \"2021-01-15T00:00:00\", \"2021-01-18T00:00:00\", \"2021-01-19T00:00:00\", \"2021-01-20T00:00:00\", \"2021-01-21T00:00:00\", \"2021-01-22T00:00:00\", \"2021-01-26T00:00:00\", \"2021-01-27T00:00:00\", \"2021-01-28T00:00:00\", \"2021-01-29T00:00:00\", \"2021-02-01T00:00:00\", \"2021-02-02T00:00:00\", \"2021-02-03T00:00:00\", \"2021-02-04T00:00:00\", \"2021-02-05T00:00:00\", \"2021-02-08T00:00:00\", \"2021-02-09T00:00:00\", \"2021-02-10T00:00:00\", \"2021-02-11T00:00:00\", \"2021-02-12T00:00:00\", \"2021-02-18T00:00:00\", \"2021-02-19T00:00:00\", \"2021-02-22T00:00:00\", \"2021-02-23T00:00:00\", \"2021-02-24T00:00:00\", \"2021-02-25T00:00:00\", \"2021-02-26T00:00:00\", \"2021-03-01T00:00:00\", \"2021-03-02T00:00:00\", \"2021-03-03T00:00:00\", \"2021-03-04T00:00:00\", \"2021-03-05T00:00:00\", \"2021-03-08T00:00:00\", \"2021-03-09T00:00:00\", \"2021-03-10T00:00:00\", \"2021-03-11T00:00:00\", \"2021-03-12T00:00:00\", \"2021-03-15T00:00:00\", \"2021-03-16T00:00:00\", \"2021-03-17T00:00:00\", \"2021-03-18T00:00:00\", \"2021-03-19T00:00:00\", \"2021-03-22T00:00:00\", \"2021-03-23T00:00:00\", \"2021-03-24T00:00:00\", \"2021-03-25T00:00:00\", \"2021-03-26T00:00:00\", \"2021-03-29T00:00:00\", \"2021-03-30T00:00:00\", \"2021-03-31T00:00:00\", \"2021-04-01T00:00:00\", \"2021-04-05T00:00:00\", \"2021-04-06T00:00:00\", \"2021-04-07T00:00:00\", \"2021-04-08T00:00:00\", \"2021-04-09T00:00:00\", \"2021-04-12T00:00:00\", \"2021-04-13T00:00:00\", \"2021-04-14T00:00:00\", \"2021-04-15T00:00:00\", \"2021-04-16T00:00:00\", \"2021-04-19T00:00:00\", \"2021-04-20T00:00:00\", \"2021-04-22T00:00:00\", \"2021-04-23T00:00:00\", \"2021-04-26T00:00:00\", \"2021-04-27T00:00:00\", \"2021-04-28T00:00:00\", \"2021-04-29T00:00:00\", \"2021-04-30T00:00:00\", \"2021-05-03T00:00:00\", \"2021-05-04T00:00:00\", \"2021-05-05T00:00:00\", \"2021-05-06T00:00:00\", \"2021-05-07T00:00:00\", \"2021-05-10T00:00:00\", \"2021-05-11T00:00:00\", \"2021-05-12T00:00:00\", \"2021-05-13T00:00:00\", \"2021-05-14T00:00:00\", \"2021-05-17T00:00:00\", \"2021-05-18T00:00:00\", \"2021-05-19T00:00:00\", \"2021-05-20T00:00:00\", \"2021-05-21T00:00:00\", \"2021-05-24T00:00:00\", \"2021-05-25T00:00:00\", \"2021-05-26T00:00:00\", \"2021-05-27T00:00:00\", \"2021-05-28T00:00:00\", \"2021-05-31T00:00:00\", \"2021-06-01T00:00:00\", \"2021-06-02T00:00:00\", \"2021-06-04T00:00:00\", \"2021-06-07T00:00:00\", \"2021-06-08T00:00:00\", \"2021-06-09T00:00:00\", \"2021-06-10T00:00:00\", \"2021-06-11T00:00:00\", \"2021-06-14T00:00:00\", \"2021-06-15T00:00:00\", \"2021-06-16T00:00:00\", \"2021-06-17T00:00:00\", \"2021-06-18T00:00:00\", \"2021-06-21T00:00:00\", \"2021-06-22T00:00:00\", \"2021-06-23T00:00:00\", \"2021-06-24T00:00:00\", \"2021-06-25T00:00:00\", \"2021-06-28T00:00:00\", \"2021-06-29T00:00:00\", \"2021-06-30T00:00:00\", \"2021-07-01T00:00:00\", \"2021-07-02T00:00:00\", \"2021-07-05T00:00:00\", \"2021-07-06T00:00:00\", \"2021-07-07T00:00:00\", \"2021-07-08T00:00:00\", \"2021-07-12T00:00:00\", \"2021-07-13T00:00:00\", \"2021-07-14T00:00:00\", \"2021-07-15T00:00:00\", \"2021-07-16T00:00:00\", \"2021-07-19T00:00:00\", \"2021-07-20T00:00:00\", \"2021-07-21T00:00:00\", \"2021-07-22T00:00:00\", \"2021-07-23T00:00:00\", \"2021-07-26T00:00:00\", \"2021-07-27T00:00:00\", \"2021-07-28T00:00:00\", \"2021-07-29T00:00:00\", \"2021-07-30T00:00:00\", \"2021-08-02T00:00:00\", \"2021-08-03T00:00:00\", \"2021-08-04T00:00:00\", \"2021-08-05T00:00:00\", \"2021-08-06T00:00:00\", \"2021-08-09T00:00:00\", \"2021-08-10T00:00:00\", \"2021-08-11T00:00:00\", \"2021-08-12T00:00:00\", \"2021-08-13T00:00:00\", \"2021-08-16T00:00:00\", \"2021-08-17T00:00:00\", \"2021-08-18T00:00:00\", \"2021-08-19T00:00:00\", \"2021-08-20T00:00:00\", \"2021-08-23T00:00:00\", \"2021-08-24T00:00:00\", \"2021-08-25T00:00:00\", \"2021-08-26T00:00:00\", \"2021-08-27T00:00:00\", \"2021-08-30T00:00:00\", \"2021-08-31T00:00:00\", \"2021-09-01T00:00:00\", \"2021-09-02T00:00:00\", \"2021-09-03T00:00:00\", \"2021-09-06T00:00:00\", \"2021-09-08T00:00:00\", \"2021-09-09T00:00:00\", \"2021-09-10T00:00:00\", \"2021-09-13T00:00:00\", \"2021-09-14T00:00:00\", \"2021-09-15T00:00:00\", \"2021-09-16T00:00:00\", \"2021-09-17T00:00:00\", \"2021-09-20T00:00:00\", \"2021-09-21T00:00:00\", \"2021-09-22T00:00:00\", \"2021-09-23T00:00:00\", \"2021-09-24T00:00:00\", \"2021-09-27T00:00:00\", \"2021-09-28T00:00:00\", \"2021-09-29T00:00:00\", \"2021-09-30T00:00:00\", \"2021-10-01T00:00:00\", \"2021-10-04T00:00:00\", \"2021-10-05T00:00:00\", \"2021-10-06T00:00:00\", \"2021-10-07T00:00:00\", \"2021-10-08T00:00:00\", \"2021-10-11T00:00:00\", \"2021-10-13T00:00:00\", \"2021-10-14T00:00:00\", \"2021-10-15T00:00:00\", \"2021-10-18T00:00:00\", \"2021-10-19T00:00:00\", \"2021-10-20T00:00:00\", \"2021-10-21T00:00:00\", \"2021-10-22T00:00:00\", \"2021-10-25T00:00:00\", \"2021-10-26T00:00:00\", \"2021-10-27T00:00:00\", \"2021-10-28T00:00:00\", \"2021-10-29T00:00:00\", \"2021-11-01T00:00:00\", \"2021-11-03T00:00:00\"], \"y\": [1.0, 1.0102172587361917, 1.0092807320709503, 1.0254329350542823, 1.0434357306248006, 1.0194252116406066, 1.0180260530179954, 1.012289839257594, 1.0112301071816763, 0.9981050995426027, 1.0412875864896116, 1.0405881545583506, 1.050833753288144, 1.0438202412534667, 1.0374989915222812, 1.0563136884282902, 1.0496837911825236, 1.068981955995409, 1.075932516706859, 1.0964786704383063, 1.1211021393125495, 1.1322313705258658, 1.1326794138607315, 1.1387331957338251, 1.145859229853295, 1.1582872167040064, 1.1562102278183644, 1.1529702682320933, 1.1392457000881606, 1.143168133299283, 1.16907420672832, 1.184023945635538, 1.2032864632303424, 1.1982269166105628, 1.2032246890303058, 1.2088240332162261, 1.19522136061214, 1.2262194404867104, 1.209762859251158, 1.2301889291390986, 1.2329658245952748, 1.2410872519193274, 1.2481999669634674, 1.2506016842547156, 1.2731567693967427, 1.2651479169107855, 1.2820357795818045, 1.2652399030256054, 1.2746684653540032, 1.2687957578640507, 1.2875653527861628, 1.3005780828734035, 1.2832702998800118, 1.303097863502078, 1.3280601943875119, 1.328971054050543, 1.3467498878314392, 1.3598109156826153, 1.3641871323073989, 1.4162675985777375, 1.4160444115500366, 1.4260445079658868, 1.4328930652624763, 1.4373183879236027, 1.4439318249886748, 1.4395915632324445, 1.475326390447629, 1.4824041197607138, 1.470287099141323, 1.4954221175298206, 1.4656999183350385, 1.4852858686179784, 1.5019144398460302, 1.5020728822613463, 1.4919114990221876, 1.5064045510320752, 1.490499042615031, 1.5109877743169948, 1.5208862251574067, 1.534413104601065, 1.5198426077609233, 1.5126246301661563, 1.5015431447552456, 1.5171621473301802, 1.5128115614706585, 1.5655348813117316, 1.5551116391059048, 1.4945442201609058, 1.4985593092457345, 1.4578385698353649, 1.4774029133719, 1.4461937440108898, 1.4478708615326759, 1.47530755402383, 1.4701873816843012, 1.460855037868232, 1.471851653172771, 1.4598686692778546, 1.43042030423852, 1.4513264508742032, 1.425193684198107, 1.4488796219042612, 1.45358500580317, 1.447498722593365, 1.4501622618383025, 1.46810664655044, 1.48003402534277, 1.4541191235905084, 1.4887365812115632, 1.4752646534394573, 1.4892974896417344, 1.513680460970972, 1.549526149507013, 1.5442389354480626, 1.5363789715255018, 1.530775688685892, 1.555123513674811, 1.5530846805146816, 1.5790659111392302, 1.5707133731951246, 1.5526370411382346, 1.5569896268177172, 1.4901304686460153, 1.5196175401412424, 1.4804213216818451, 1.5093630723570692, 1.5445325721184113, 1.5724534251639197, 1.573997631304385, 1.5937840713460132, 1.607061950516051, 1.6221066554574324, 1.598355803631318, 1.6423305569607156, 1.6536556682232735, 1.6629994507083916, 1.6441147142527486, 1.6466701369139225, 1.724386224786482, 1.7387991462283852, 1.737898216446633, 1.7266911174007509, 1.7287293501672378, 1.752198358611789, 1.7533621816271325, 1.7556722362161958, 1.7652276305989936, 1.7644678666294908, 1.7676965246430258, 1.762120290093553, 1.769958399230096, 1.774103881645487, 1.7602564281794397, 1.7653685327966742, 1.7996387521282373, 1.8236445653306321, 1.8309059902776201, 1.8194662341281338, 1.7834876408830813, 1.8085974369437718, 1.808340886279856, 1.8901255318282284, 1.8843450973236984, 1.8887516453094588, 1.9797453959996085, 2.0376416501928043, 2.0610350558306836, 2.118570115042224, 2.14726707127328, 2.106740614936932, 2.100449961903032, 2.0924037178923767, 2.113888640145492, 2.0606876752562675, 2.097693194124051, 2.122878174891265, 2.1080247644841097, 2.05821264490017, 2.087578977623317, 2.091738817667403, 2.0690452269867246, 2.09326208742311, 2.054727338481947, 2.100987674114245, 2.1312752591879085, 2.1685835133437936, 2.1532981062199466, 2.1739134082916136, 2.17137677860035, 2.168015914142635, 2.1611210324034955, 2.172103175300335, 2.1867391815936226, 2.190155460028931, 2.171555473257871, 2.0477983229683585, 2.084631103685927, 2.1008876269674523, 2.0162867739872756, 1.9986100331788428, 2.03223377748242, 2.022518447984462, 2.005609435509062, 2.0044102008861278, 2.052495197114317, 2.026487333736906, 2.062201165543656, 2.0625643289737816, 2.094285776995655, 2.069019562331435, 2.108090044341653, 2.1035151035102375, 2.1320025171853167, 2.077540178323231, 2.0861261435182157, 2.0636589217762786, 2.0376829108672982, 2.0218041461432694, 2.0454390856636397, 2.0855885017471505, 2.12883792327316, 2.149930758195508, 2.1555850976959126, 2.1536802283633527, 2.202844490134931, 2.196095806469593, 2.1802114318251404, 2.209370866062636, 2.20689050102685, 2.224035129583627, 2.24155706865766, 2.2567171785418387, 2.2677917819702578, 2.2485100702384027, 2.2287951980672562, 2.2168011588387744, 2.2142325921507404, 2.2378563171028163, 2.2549759085245, 2.2480168530223184, 2.2673283217083795, 2.244193148818636, 2.239909172411377, 2.297767712099717, 2.2589539164993955, 2.300835805061116, 2.286413470313872, 2.3054440676977817, 2.3200305711394065, 2.341710894072945, 2.272916840328525, 2.269730005135229, 2.323241529630158, 2.280499209362573, 2.2854223617175005, 2.212828201262626, 2.250135021095115, 2.2171059950744763, 2.2621843105676516, 2.2553996274590746, 2.276306670863583, 2.2619643339121085, 2.2563093942556978, 2.289117982204311, 2.2878952037907223, 2.299352479396695, 2.304997370296849, 2.289422022999277, 2.2730820233686377, 2.2932949090468298, 2.2839561476527233, 2.2773437434653196, 2.3056014264144062, 2.3096243433542356, 2.2716368692953077, 2.2466138836047658, 2.24119759127946, 2.224692973779073, 2.213620701545197, 2.2261764369557273, 2.229509599821798, 2.1859176748572344, 2.225543171854454, 2.2451976948393226, 2.258485929305572, 2.2444267459245157, 2.29155914492227, 2.2857445007351194, 2.2975018789507855, 2.3372346505501027, 2.285860318464807, 2.2984930953436726, 2.2916672322996865, 2.2909357104767856, 2.2716189339669786, 2.250458697793336, 2.213276690308439, 2.2199897652934055, 2.2413216833294993, 2.254497949381125, 2.2532743054869697, 2.2614149692875993, 2.257457277695726, 2.2877954006065853, 2.278797327763605, 2.2594286048119527, 2.2801197489669374, 2.2859821541286003, 2.2904895640283307, 2.3134199318820405, 2.3325447920035334, 2.356710086810854, 2.3440821576300763, 2.3401964927871295, 2.3367885150642476, 2.3617811103092534, 2.315458176835416, 2.295463255520272, 2.277568797963927, 2.3117389164544866, 2.3370672214991575, 2.367436668591594, 2.365475833586035, 2.3655480420051798, 2.3395693495817125, 2.381806367523814, 2.3716060536695136, 2.3490973642556647, 2.3706240530898186, 2.3449673265837596, 2.3623663219078685, 2.3695726663387817, 2.302884633146606, 2.3369514945244854, 2.2924975643639964, 2.324716727217135, 2.3326301569489956, 2.349568397515961, 2.3304408444242286, 2.2829433251114932, 2.227241227426059, 2.2264539473401275, 2.284564061503917, 2.33211500377535, 2.3141978257966174, 2.3180243637429325, 2.266886323859785, 2.281614781365438, 2.2861921150005906, 2.3229016770196447, 2.3062820781178592, 2.3280309551624203, 2.3230607144458224, 2.3390996846816634, 2.361750711724553, 2.3610202078888887, 2.388153105837783, 2.4096482230746843, 2.424708333343067, 2.446844965007424, 2.4220328304271823, 2.445318728147534, 2.4032059185061496, 2.3768354272645738, 2.433670426962828, 2.402638911029413, 2.378450702202128, 2.3883209780692947, 2.3625687314395414, 2.4043666028919097, 2.4121659417715158]}, {\"name\": \"Carteira MV\", \"type\": \"scatter\", \"x\": [\"2020-05-04T00:00:00\", \"2020-05-05T00:00:00\", \"2020-05-06T00:00:00\", \"2020-05-07T00:00:00\", \"2020-05-08T00:00:00\", \"2020-05-11T00:00:00\", \"2020-05-12T00:00:00\", \"2020-05-13T00:00:00\", \"2020-05-14T00:00:00\", \"2020-05-15T00:00:00\", \"2020-05-18T00:00:00\", \"2020-05-19T00:00:00\", \"2020-05-20T00:00:00\", \"2020-05-21T00:00:00\", \"2020-05-22T00:00:00\", \"2020-05-25T00:00:00\", \"2020-05-26T00:00:00\", \"2020-05-27T00:00:00\", \"2020-05-28T00:00:00\", \"2020-05-29T00:00:00\", \"2020-06-01T00:00:00\", \"2020-06-02T00:00:00\", \"2020-06-03T00:00:00\", \"2020-06-04T00:00:00\", \"2020-06-05T00:00:00\", \"2020-06-08T00:00:00\", \"2020-06-09T00:00:00\", \"2020-06-10T00:00:00\", \"2020-06-12T00:00:00\", \"2020-06-15T00:00:00\", \"2020-06-16T00:00:00\", \"2020-06-17T00:00:00\", \"2020-06-18T00:00:00\", \"2020-06-19T00:00:00\", \"2020-06-22T00:00:00\", \"2020-06-23T00:00:00\", \"2020-06-24T00:00:00\", \"2020-06-25T00:00:00\", \"2020-06-26T00:00:00\", \"2020-06-29T00:00:00\", \"2020-06-30T00:00:00\", \"2020-07-01T00:00:00\", \"2020-07-02T00:00:00\", \"2020-07-03T00:00:00\", \"2020-07-06T00:00:00\", \"2020-07-07T00:00:00\", \"2020-07-08T00:00:00\", \"2020-07-09T00:00:00\", \"2020-07-10T00:00:00\", \"2020-07-13T00:00:00\", \"2020-07-14T00:00:00\", \"2020-07-15T00:00:00\", \"2020-07-16T00:00:00\", \"2020-07-17T00:00:00\", \"2020-07-20T00:00:00\", \"2020-07-21T00:00:00\", \"2020-07-22T00:00:00\", \"2020-07-23T00:00:00\", \"2020-07-24T00:00:00\", \"2020-07-27T00:00:00\", \"2020-07-28T00:00:00\", \"2020-07-29T00:00:00\", \"2020-07-30T00:00:00\", \"2020-07-31T00:00:00\", \"2020-08-03T00:00:00\", \"2020-08-04T00:00:00\", \"2020-08-05T00:00:00\", \"2020-08-06T00:00:00\", \"2020-08-07T00:00:00\", \"2020-08-10T00:00:00\", \"2020-08-11T00:00:00\", \"2020-08-12T00:00:00\", \"2020-08-13T00:00:00\", \"2020-08-14T00:00:00\", \"2020-08-17T00:00:00\", \"2020-08-18T00:00:00\", \"2020-08-19T00:00:00\", \"2020-08-20T00:00:00\", \"2020-08-21T00:00:00\", \"2020-08-24T00:00:00\", \"2020-08-25T00:00:00\", \"2020-08-26T00:00:00\", \"2020-08-27T00:00:00\", \"2020-08-28T00:00:00\", \"2020-08-31T00:00:00\", \"2020-09-01T00:00:00\", \"2020-09-02T00:00:00\", \"2020-09-03T00:00:00\", \"2020-09-04T00:00:00\", \"2020-09-08T00:00:00\", \"2020-09-09T00:00:00\", \"2020-09-10T00:00:00\", \"2020-09-11T00:00:00\", \"2020-09-14T00:00:00\", \"2020-09-15T00:00:00\", \"2020-09-16T00:00:00\", \"2020-09-17T00:00:00\", \"2020-09-18T00:00:00\", \"2020-09-21T00:00:00\", \"2020-09-22T00:00:00\", \"2020-09-23T00:00:00\", \"2020-09-24T00:00:00\", \"2020-09-25T00:00:00\", \"2020-09-28T00:00:00\", \"2020-09-29T00:00:00\", \"2020-09-30T00:00:00\", \"2020-10-01T00:00:00\", \"2020-10-02T00:00:00\", \"2020-10-05T00:00:00\", \"2020-10-06T00:00:00\", \"2020-10-07T00:00:00\", \"2020-10-08T00:00:00\", \"2020-10-14T00:00:00\", \"2020-10-15T00:00:00\", \"2020-10-16T00:00:00\", \"2020-10-19T00:00:00\", \"2020-10-20T00:00:00\", \"2020-10-21T00:00:00\", \"2020-10-22T00:00:00\", \"2020-10-23T00:00:00\", \"2020-10-26T00:00:00\", \"2020-10-27T00:00:00\", \"2020-10-28T00:00:00\", \"2020-10-29T00:00:00\", \"2020-10-30T00:00:00\", \"2020-11-03T00:00:00\", \"2020-11-04T00:00:00\", \"2020-11-05T00:00:00\", \"2020-11-06T00:00:00\", \"2020-11-09T00:00:00\", \"2020-11-10T00:00:00\", \"2020-11-11T00:00:00\", \"2020-11-12T00:00:00\", \"2020-11-13T00:00:00\", \"2020-11-16T00:00:00\", \"2020-11-17T00:00:00\", \"2020-11-18T00:00:00\", \"2020-11-19T00:00:00\", \"2020-11-23T00:00:00\", \"2020-11-24T00:00:00\", \"2020-11-25T00:00:00\", \"2020-11-26T00:00:00\", \"2020-11-27T00:00:00\", \"2020-11-30T00:00:00\", \"2020-12-01T00:00:00\", \"2020-12-02T00:00:00\", \"2020-12-03T00:00:00\", \"2020-12-04T00:00:00\", \"2020-12-07T00:00:00\", \"2020-12-08T00:00:00\", \"2020-12-09T00:00:00\", \"2020-12-10T00:00:00\", \"2020-12-11T00:00:00\", \"2020-12-14T00:00:00\", \"2020-12-15T00:00:00\", \"2020-12-16T00:00:00\", \"2020-12-17T00:00:00\", \"2020-12-18T00:00:00\", \"2020-12-21T00:00:00\", \"2020-12-22T00:00:00\", \"2020-12-23T00:00:00\", \"2020-12-28T00:00:00\", \"2020-12-29T00:00:00\", \"2020-12-30T00:00:00\", \"2021-01-04T00:00:00\", \"2021-01-05T00:00:00\", \"2021-01-06T00:00:00\", \"2021-01-07T00:00:00\", \"2021-01-08T00:00:00\", \"2021-01-11T00:00:00\", \"2021-01-12T00:00:00\", \"2021-01-13T00:00:00\", \"2021-01-14T00:00:00\", \"2021-01-15T00:00:00\", \"2021-01-18T00:00:00\", \"2021-01-19T00:00:00\", \"2021-01-20T00:00:00\", \"2021-01-21T00:00:00\", \"2021-01-22T00:00:00\", \"2021-01-26T00:00:00\", \"2021-01-27T00:00:00\", \"2021-01-28T00:00:00\", \"2021-01-29T00:00:00\", \"2021-02-01T00:00:00\", \"2021-02-02T00:00:00\", \"2021-02-03T00:00:00\", \"2021-02-04T00:00:00\", \"2021-02-05T00:00:00\", \"2021-02-08T00:00:00\", \"2021-02-09T00:00:00\", \"2021-02-10T00:00:00\", \"2021-02-11T00:00:00\", \"2021-02-12T00:00:00\", \"2021-02-18T00:00:00\", \"2021-02-19T00:00:00\", \"2021-02-22T00:00:00\", \"2021-02-23T00:00:00\", \"2021-02-24T00:00:00\", \"2021-02-25T00:00:00\", \"2021-02-26T00:00:00\", \"2021-03-01T00:00:00\", \"2021-03-02T00:00:00\", \"2021-03-03T00:00:00\", \"2021-03-04T00:00:00\", \"2021-03-05T00:00:00\", \"2021-03-08T00:00:00\", \"2021-03-09T00:00:00\", \"2021-03-10T00:00:00\", \"2021-03-11T00:00:00\", \"2021-03-12T00:00:00\", \"2021-03-15T00:00:00\", \"2021-03-16T00:00:00\", \"2021-03-17T00:00:00\", \"2021-03-18T00:00:00\", \"2021-03-19T00:00:00\", \"2021-03-22T00:00:00\", \"2021-03-23T00:00:00\", \"2021-03-24T00:00:00\", \"2021-03-25T00:00:00\", \"2021-03-26T00:00:00\", \"2021-03-29T00:00:00\", \"2021-03-30T00:00:00\", \"2021-03-31T00:00:00\", \"2021-04-01T00:00:00\", \"2021-04-05T00:00:00\", \"2021-04-06T00:00:00\", \"2021-04-07T00:00:00\", \"2021-04-08T00:00:00\", \"2021-04-09T00:00:00\", \"2021-04-12T00:00:00\", \"2021-04-13T00:00:00\", \"2021-04-14T00:00:00\", \"2021-04-15T00:00:00\", \"2021-04-16T00:00:00\", \"2021-04-19T00:00:00\", \"2021-04-20T00:00:00\", \"2021-04-22T00:00:00\", \"2021-04-23T00:00:00\", \"2021-04-26T00:00:00\", \"2021-04-27T00:00:00\", \"2021-04-28T00:00:00\", \"2021-04-29T00:00:00\", \"2021-04-30T00:00:00\", \"2021-05-03T00:00:00\", \"2021-05-04T00:00:00\", \"2021-05-05T00:00:00\", \"2021-05-06T00:00:00\", \"2021-05-07T00:00:00\", \"2021-05-10T00:00:00\", \"2021-05-11T00:00:00\", \"2021-05-12T00:00:00\", \"2021-05-13T00:00:00\", \"2021-05-14T00:00:00\", \"2021-05-17T00:00:00\", \"2021-05-18T00:00:00\", \"2021-05-19T00:00:00\", \"2021-05-20T00:00:00\", \"2021-05-21T00:00:00\", \"2021-05-24T00:00:00\", \"2021-05-25T00:00:00\", \"2021-05-26T00:00:00\", \"2021-05-27T00:00:00\", \"2021-05-28T00:00:00\", \"2021-05-31T00:00:00\", \"2021-06-01T00:00:00\", \"2021-06-02T00:00:00\", \"2021-06-04T00:00:00\", \"2021-06-07T00:00:00\", \"2021-06-08T00:00:00\", \"2021-06-09T00:00:00\", \"2021-06-10T00:00:00\", \"2021-06-11T00:00:00\", \"2021-06-14T00:00:00\", \"2021-06-15T00:00:00\", \"2021-06-16T00:00:00\", \"2021-06-17T00:00:00\", \"2021-06-18T00:00:00\", \"2021-06-21T00:00:00\", \"2021-06-22T00:00:00\", \"2021-06-23T00:00:00\", \"2021-06-24T00:00:00\", \"2021-06-25T00:00:00\", \"2021-06-28T00:00:00\", \"2021-06-29T00:00:00\", \"2021-06-30T00:00:00\", \"2021-07-01T00:00:00\", \"2021-07-02T00:00:00\", \"2021-07-05T00:00:00\", \"2021-07-06T00:00:00\", \"2021-07-07T00:00:00\", \"2021-07-08T00:00:00\", \"2021-07-12T00:00:00\", \"2021-07-13T00:00:00\", \"2021-07-14T00:00:00\", \"2021-07-15T00:00:00\", \"2021-07-16T00:00:00\", \"2021-07-19T00:00:00\", \"2021-07-20T00:00:00\", \"2021-07-21T00:00:00\", \"2021-07-22T00:00:00\", \"2021-07-23T00:00:00\", \"2021-07-26T00:00:00\", \"2021-07-27T00:00:00\", \"2021-07-28T00:00:00\", \"2021-07-29T00:00:00\", \"2021-07-30T00:00:00\", \"2021-08-02T00:00:00\", \"2021-08-03T00:00:00\", \"2021-08-04T00:00:00\", \"2021-08-05T00:00:00\", \"2021-08-06T00:00:00\", \"2021-08-09T00:00:00\", \"2021-08-10T00:00:00\", \"2021-08-11T00:00:00\", \"2021-08-12T00:00:00\", \"2021-08-13T00:00:00\", \"2021-08-16T00:00:00\", \"2021-08-17T00:00:00\", \"2021-08-18T00:00:00\", \"2021-08-19T00:00:00\", \"2021-08-20T00:00:00\", \"2021-08-23T00:00:00\", \"2021-08-24T00:00:00\", \"2021-08-25T00:00:00\", \"2021-08-26T00:00:00\", \"2021-08-27T00:00:00\", \"2021-08-30T00:00:00\", \"2021-08-31T00:00:00\", \"2021-09-01T00:00:00\", \"2021-09-02T00:00:00\", \"2021-09-03T00:00:00\", \"2021-09-06T00:00:00\", \"2021-09-08T00:00:00\", \"2021-09-09T00:00:00\", \"2021-09-10T00:00:00\", \"2021-09-13T00:00:00\", \"2021-09-14T00:00:00\", \"2021-09-15T00:00:00\", \"2021-09-16T00:00:00\", \"2021-09-17T00:00:00\", \"2021-09-20T00:00:00\", \"2021-09-21T00:00:00\", \"2021-09-22T00:00:00\", \"2021-09-23T00:00:00\", \"2021-09-24T00:00:00\", \"2021-09-27T00:00:00\", \"2021-09-28T00:00:00\", \"2021-09-29T00:00:00\", \"2021-09-30T00:00:00\", \"2021-10-01T00:00:00\", \"2021-10-04T00:00:00\", \"2021-10-05T00:00:00\", \"2021-10-06T00:00:00\", \"2021-10-07T00:00:00\", \"2021-10-08T00:00:00\", \"2021-10-11T00:00:00\", \"2021-10-13T00:00:00\", \"2021-10-14T00:00:00\", \"2021-10-15T00:00:00\", \"2021-10-18T00:00:00\", \"2021-10-19T00:00:00\", \"2021-10-20T00:00:00\", \"2021-10-21T00:00:00\", \"2021-10-22T00:00:00\", \"2021-10-25T00:00:00\", \"2021-10-26T00:00:00\", \"2021-10-27T00:00:00\", \"2021-10-28T00:00:00\", \"2021-10-29T00:00:00\", \"2021-11-01T00:00:00\", \"2021-11-03T00:00:00\"], \"y\": [1.0, 1.016524782110452, 1.0289121911843366, 1.037590714865641, 1.0383804031902175, 1.0395937563906477, 1.0348206127545045, 1.026965199596668, 1.024788841884769, 1.0273889606141398, 1.0353724093151848, 1.0389721302391408, 1.0371223065487154, 1.037903525898029, 1.0439113008439163, 1.0511362965822875, 1.0477427774898755, 1.0584595816373765, 1.059887601060267, 1.0664375093946392, 1.065266723533811, 1.0709747755221906, 1.0755890294956796, 1.0817325214687128, 1.0831725728731538, 1.0871205494560328, 1.0827362673935397, 1.075728193616218, 1.0602972125476273, 1.063755332707476, 1.0771946456737822, 1.0892655087450733, 1.0974851087611468, 1.0965049844922796, 1.0907516634617218, 1.0895200102420812, 1.078983575387328, 1.0871032414380772, 1.0826063201044283, 1.0898210016810064, 1.092630615511818, 1.0951495989400233, 1.0965953094079655, 1.0931198373177116, 1.0977455475704208, 1.0905064995263565, 1.0901587226259193, 1.0756282245332203, 1.0729710895638753, 1.0645351402307486, 1.0675105594532799, 1.0741518205838, 1.0672169101319389, 1.0725327813783208, 1.0783074091531204, 1.0777589157373468, 1.0744710635791528, 1.0711712715512784, 1.066566959056679, 1.0644939218351004, 1.0570041212877919, 1.0608691303350821, 1.064669400857901, 1.0658525353876749, 1.0680826453387806, 1.0666155751309356, 1.0762509944360725, 1.0739519160207731, 1.0794896848399465, 1.083612483818257, 1.0777561805473068, 1.085758222016934, 1.0832624745658943, 1.0898785826661614, 1.0818301588362016, 1.0934139492291155, 1.0957849225581329, 1.1053872111900644, 1.1212701770344724, 1.1219715271580366, 1.117200850542374, 1.1163038188711754, 1.1190182819333983, 1.1140915003161866, 1.1124126888975487, 1.1172036616464527, 1.121504608584834, 1.1053594058384775, 1.1078888941705551, 1.1004338743945614, 1.1014750318283808, 1.092935229777, 1.0931116664204057, 1.0993715971890707, 1.1059381767391592, 1.1015295588849665, 1.0968663557593508, 1.0946988993065565, 1.0901764697500194, 1.0986886215543936, 1.094699748836119, 1.095784793887043, 1.09852777345282, 1.0989765692479279, 1.0959035130446972, 1.100639316014232, 1.1064223478468933, 1.109134537513048, 1.111062610718306, 1.1088121776826998, 1.1146421279771979, 1.118802615902764, 1.1291817994414757, 1.1271966066050534, 1.1281758415825789, 1.1199158383733157, 1.126357427131924, 1.1261613344260257, 1.1225158634117904, 1.1185031754770942, 1.107747355469428, 1.1094974043700698, 1.0874827110675591, 1.0923508745448096, 1.080618912851813, 1.0893400731363114, 1.098641851471376, 1.1038553625725214, 1.0953796239818683, 1.1093762685726862, 1.1188270258532247, 1.117484693629183, 1.1121623466421828, 1.1240651503865915, 1.1314133706681067, 1.1233055295572567, 1.111703406110067, 1.1144900183780402, 1.1234433814247975, 1.1281550000792342, 1.12391778021604, 1.1220815758820661, 1.127898934224898, 1.124318960825284, 1.1196670862532723, 1.1166214595393007, 1.115289831815272, 1.1155821872650744, 1.108675504709926, 1.1049993374203329, 1.1061564758224613, 1.1000848789969029, 1.101264179240438, 1.1072474679376776, 1.1175780510941715, 1.122056082703902, 1.1225217069241142, 1.1241644792484202, 1.1214952880278533, 1.127280228954924, 1.1375656061104296, 1.1459953595888523, 1.1500067444607787, 1.1421122406197843, 1.1398018999587116, 1.1398550597783912, 1.1425445009900863, 1.1511065772496911, 1.1564393094802758, 1.1573333394171395, 1.1512503700963619, 1.1484529759640274, 1.1504399720041887, 1.1472079896199217, 1.1511973184843458, 1.1554659474206765, 1.152980522639328, 1.1515522783587466, 1.1512979399429364, 1.1492668221510158, 1.1407946227827561, 1.1506309470847083, 1.1419608649060042, 1.1454331043014978, 1.1515072835337192, 1.151556992213592, 1.1512036758576827, 1.1552801359627687, 1.1548931049784261, 1.1555837832234825, 1.154392808099894, 1.1572185774129717, 1.1614701082821413, 1.1530612812350876, 1.1509408076427612, 1.1416128345543064, 1.144012192103821, 1.1480444848580746, 1.1361416569439533, 1.132261465453387, 1.1352317401201037, 1.1313535063450546, 1.1239335449817567, 1.1205142743544172, 1.128792912902275, 1.1224038247116537, 1.127241774501649, 1.1260736269167109, 1.1216553304666508, 1.1210686523985385, 1.1344643431198274, 1.1340332252696237, 1.1337107424410078, 1.1096966105935024, 1.1080365428233099, 1.108515257467031, 1.0989731777682334, 1.0914793973593682, 1.0970843612717325, 1.1107890310691348, 1.1211763303110514, 1.1319101932010085, 1.136400123039356, 1.1415196397634266, 1.1433326061307043, 1.1297675222255708, 1.1308975393816534, 1.1385869050346356, 1.1386361356290475, 1.1447722676047727, 1.144382014030201, 1.1485994995043696, 1.1561178354283905, 1.1543986489023363, 1.14272002474436, 1.1388920316839939, 1.1330047147303905, 1.140387604227048, 1.1422308839593132, 1.1451520664177217, 1.144728125539223, 1.136302636985059, 1.1434657358805733, 1.1453218026441843, 1.1415239323344342, 1.139374039209451, 1.1386142910440278, 1.132527607905561, 1.147460598756988, 1.155909310052226, 1.1452732535339132, 1.1449028753290604, 1.1466281639220601, 1.146689058952852, 1.1417145808396023, 1.1359131678870842, 1.138290010001946, 1.1406305351427852, 1.1472591703385528, 1.1429663638489276, 1.1354568733218473, 1.1345952060191162, 1.1377748981160578, 1.1407929855674976, 1.1249446674218906, 1.118753525476494, 1.1196755036141355, 1.122632139343103, 1.1203934494096934, 1.1210177397624492, 1.1191181180542378, 1.1222683597797742, 1.1170546252463138, 1.1155825415239549, 1.1131601557058814, 1.1092501156831014, 1.1041837771486616, 1.1055626060886312, 1.101820986602652, 1.0926087064922185, 1.0939308976719007, 1.0768846910356504, 1.0745395588115825, 1.087299936046634, 1.099758563462055, 1.1030573718859318, 1.1077671458381197, 1.0987437137924978, 1.1058947841973439, 1.1210391964795003, 1.1161193244406435, 1.1223540175984987, 1.1321369498296718, 1.1240509400594372, 1.1299394225654296, 1.1208126739681818, 1.120090276730859, 1.125149498530319, 1.1225858518157874, 1.124330007284965, 1.1220981835194697, 1.1183675208146626, 1.1166522133432408, 1.114930127814733, 1.1109149257518922, 1.1125886978183515, 1.1133469889558851, 1.1116156777982782, 1.1063310529427288, 1.101000592996918, 1.1057895946922378, 1.1053679463041968, 1.0992410527081817, 1.097780160118062, 1.1005549408807465, 1.0957380935564716, 1.0942747418493468, 1.0858766723689475, 1.0841229667197247, 1.0872722309247915, 1.0953690303207197, 1.112623289124886, 1.1124860673914485, 1.1111739424671645, 1.1134353160581545, 1.113235062668151, 1.116141929836462, 1.1137262522057771, 1.1134602867428873, 1.1070277002031024, 1.1114513347878725, 1.1139272492436398, 1.1056037818955733, 1.1059586989601469, 1.0982049267393053, 1.084381604718049, 1.0996991768843878, 1.1023387192664387, 1.102971198707625, 1.1088359790133355, 1.0897908101382119, 1.0976649836351402, 1.1016456682344162, 1.1039602783657054, 1.1052703375510684, 1.1149363053825323, 1.0981748486764058, 1.0973281274772428, 1.1098364394761706, 1.103134925484979, 1.0993990337538566, 1.1054548453322843, 1.1060650088779318, 1.1117803929194383, 1.1178180991548954, 1.1174979690253406, 1.11974124459619, 1.1159284909843525, 1.1185012399853085, 1.1213413412686666, 1.113536720421481, 1.1160342413871498, 1.111670467791223, 1.1046147875619123, 1.1093032395403788, 1.0986829880576785, 1.096626487692461, 1.0966806157622377, 1.0951805751201642, 1.1035989789200962, 1.0903920987365452]}],\n",
              "                        {\"template\": {\"data\": {\"bar\": [{\"error_x\": {\"color\": \"#2a3f5f\"}, \"error_y\": {\"color\": \"#2a3f5f\"}, \"marker\": {\"line\": {\"color\": \"#E5ECF6\", \"width\": 0.5}}, \"type\": \"bar\"}], \"barpolar\": [{\"marker\": {\"line\": {\"color\": \"#E5ECF6\", \"width\": 0.5}}, \"type\": \"barpolar\"}], \"carpet\": [{\"aaxis\": {\"endlinecolor\": \"#2a3f5f\", \"gridcolor\": \"white\", \"linecolor\": \"white\", \"minorgridcolor\": \"white\", \"startlinecolor\": \"#2a3f5f\"}, \"baxis\": {\"endlinecolor\": \"#2a3f5f\", \"gridcolor\": \"white\", \"linecolor\": \"white\", \"minorgridcolor\": \"white\", \"startlinecolor\": \"#2a3f5f\"}, \"type\": \"carpet\"}], \"choropleth\": [{\"colorbar\": {\"outlinewidth\": 0, \"ticks\": \"\"}, \"type\": \"choropleth\"}], \"contour\": [{\"colorbar\": {\"outlinewidth\": 0, \"ticks\": \"\"}, \"colorscale\": [[0.0, \"#0d0887\"], [0.1111111111111111, \"#46039f\"], [0.2222222222222222, \"#7201a8\"], [0.3333333333333333, \"#9c179e\"], [0.4444444444444444, \"#bd3786\"], [0.5555555555555556, \"#d8576b\"], [0.6666666666666666, \"#ed7953\"], [0.7777777777777778, \"#fb9f3a\"], [0.8888888888888888, \"#fdca26\"], [1.0, \"#f0f921\"]], \"type\": \"contour\"}], \"contourcarpet\": [{\"colorbar\": {\"outlinewidth\": 0, \"ticks\": \"\"}, \"type\": \"contourcarpet\"}], \"heatmap\": [{\"colorbar\": {\"outlinewidth\": 0, \"ticks\": \"\"}, \"colorscale\": [[0.0, \"#0d0887\"], [0.1111111111111111, \"#46039f\"], [0.2222222222222222, \"#7201a8\"], [0.3333333333333333, \"#9c179e\"], [0.4444444444444444, \"#bd3786\"], [0.5555555555555556, \"#d8576b\"], [0.6666666666666666, \"#ed7953\"], [0.7777777777777778, \"#fb9f3a\"], [0.8888888888888888, \"#fdca26\"], [1.0, \"#f0f921\"]], \"type\": \"heatmap\"}], \"heatmapgl\": [{\"colorbar\": {\"outlinewidth\": 0, \"ticks\": \"\"}, \"colorscale\": [[0.0, \"#0d0887\"], [0.1111111111111111, \"#46039f\"], [0.2222222222222222, \"#7201a8\"], [0.3333333333333333, \"#9c179e\"], [0.4444444444444444, \"#bd3786\"], [0.5555555555555556, \"#d8576b\"], [0.6666666666666666, \"#ed7953\"], [0.7777777777777778, \"#fb9f3a\"], [0.8888888888888888, \"#fdca26\"], [1.0, \"#f0f921\"]], \"type\": \"heatmapgl\"}], \"histogram\": [{\"marker\": {\"colorbar\": {\"outlinewidth\": 0, \"ticks\": \"\"}}, \"type\": \"histogram\"}], \"histogram2d\": [{\"colorbar\": {\"outlinewidth\": 0, \"ticks\": \"\"}, \"colorscale\": [[0.0, \"#0d0887\"], [0.1111111111111111, \"#46039f\"], [0.2222222222222222, \"#7201a8\"], [0.3333333333333333, \"#9c179e\"], [0.4444444444444444, \"#bd3786\"], [0.5555555555555556, \"#d8576b\"], [0.6666666666666666, \"#ed7953\"], [0.7777777777777778, \"#fb9f3a\"], [0.8888888888888888, \"#fdca26\"], [1.0, \"#f0f921\"]], \"type\": \"histogram2d\"}], \"histogram2dcontour\": [{\"colorbar\": {\"outlinewidth\": 0, \"ticks\": \"\"}, \"colorscale\": [[0.0, \"#0d0887\"], [0.1111111111111111, \"#46039f\"], [0.2222222222222222, \"#7201a8\"], [0.3333333333333333, \"#9c179e\"], [0.4444444444444444, \"#bd3786\"], [0.5555555555555556, \"#d8576b\"], [0.6666666666666666, \"#ed7953\"], [0.7777777777777778, \"#fb9f3a\"], [0.8888888888888888, \"#fdca26\"], [1.0, \"#f0f921\"]], \"type\": \"histogram2dcontour\"}], \"mesh3d\": [{\"colorbar\": {\"outlinewidth\": 0, \"ticks\": \"\"}, \"type\": \"mesh3d\"}], \"parcoords\": [{\"line\": {\"colorbar\": {\"outlinewidth\": 0, \"ticks\": \"\"}}, \"type\": \"parcoords\"}], \"pie\": [{\"automargin\": true, \"type\": \"pie\"}], \"scatter\": [{\"marker\": {\"colorbar\": {\"outlinewidth\": 0, \"ticks\": \"\"}}, \"type\": \"scatter\"}], \"scatter3d\": [{\"line\": {\"colorbar\": {\"outlinewidth\": 0, \"ticks\": \"\"}}, \"marker\": {\"colorbar\": {\"outlinewidth\": 0, \"ticks\": \"\"}}, \"type\": \"scatter3d\"}], \"scattercarpet\": [{\"marker\": {\"colorbar\": {\"outlinewidth\": 0, \"ticks\": \"\"}}, \"type\": \"scattercarpet\"}], \"scattergeo\": [{\"marker\": {\"colorbar\": {\"outlinewidth\": 0, \"ticks\": \"\"}}, \"type\": \"scattergeo\"}], \"scattergl\": [{\"marker\": {\"colorbar\": {\"outlinewidth\": 0, \"ticks\": \"\"}}, \"type\": \"scattergl\"}], \"scattermapbox\": [{\"marker\": {\"colorbar\": {\"outlinewidth\": 0, \"ticks\": \"\"}}, \"type\": \"scattermapbox\"}], \"scatterpolar\": [{\"marker\": {\"colorbar\": {\"outlinewidth\": 0, \"ticks\": \"\"}}, \"type\": \"scatterpolar\"}], \"scatterpolargl\": [{\"marker\": {\"colorbar\": {\"outlinewidth\": 0, \"ticks\": \"\"}}, \"type\": \"scatterpolargl\"}], \"scatterternary\": [{\"marker\": {\"colorbar\": {\"outlinewidth\": 0, \"ticks\": \"\"}}, \"type\": \"scatterternary\"}], \"surface\": [{\"colorbar\": {\"outlinewidth\": 0, \"ticks\": \"\"}, \"colorscale\": [[0.0, \"#0d0887\"], [0.1111111111111111, \"#46039f\"], [0.2222222222222222, \"#7201a8\"], [0.3333333333333333, \"#9c179e\"], [0.4444444444444444, \"#bd3786\"], [0.5555555555555556, \"#d8576b\"], [0.6666666666666666, \"#ed7953\"], [0.7777777777777778, \"#fb9f3a\"], [0.8888888888888888, \"#fdca26\"], [1.0, \"#f0f921\"]], \"type\": \"surface\"}], \"table\": [{\"cells\": {\"fill\": {\"color\": \"#EBF0F8\"}, \"line\": {\"color\": \"white\"}}, \"header\": {\"fill\": {\"color\": \"#C8D4E3\"}, \"line\": {\"color\": \"white\"}}, \"type\": \"table\"}]}, \"layout\": {\"annotationdefaults\": {\"arrowcolor\": \"#2a3f5f\", \"arrowhead\": 0, \"arrowwidth\": 1}, \"coloraxis\": {\"colorbar\": {\"outlinewidth\": 0, \"ticks\": \"\"}}, \"colorscale\": {\"diverging\": [[0, \"#8e0152\"], [0.1, \"#c51b7d\"], [0.2, \"#de77ae\"], [0.3, \"#f1b6da\"], [0.4, \"#fde0ef\"], [0.5, \"#f7f7f7\"], [0.6, \"#e6f5d0\"], [0.7, \"#b8e186\"], [0.8, \"#7fbc41\"], [0.9, \"#4d9221\"], [1, \"#276419\"]], \"sequential\": [[0.0, \"#0d0887\"], [0.1111111111111111, \"#46039f\"], [0.2222222222222222, \"#7201a8\"], [0.3333333333333333, \"#9c179e\"], [0.4444444444444444, \"#bd3786\"], [0.5555555555555556, \"#d8576b\"], [0.6666666666666666, \"#ed7953\"], [0.7777777777777778, \"#fb9f3a\"], [0.8888888888888888, \"#fdca26\"], [1.0, \"#f0f921\"]], \"sequentialminus\": [[0.0, \"#0d0887\"], [0.1111111111111111, \"#46039f\"], [0.2222222222222222, \"#7201a8\"], [0.3333333333333333, \"#9c179e\"], [0.4444444444444444, \"#bd3786\"], [0.5555555555555556, \"#d8576b\"], [0.6666666666666666, \"#ed7953\"], [0.7777777777777778, \"#fb9f3a\"], [0.8888888888888888, \"#fdca26\"], [1.0, \"#f0f921\"]]}, \"colorway\": [\"#636efa\", \"#EF553B\", \"#00cc96\", \"#ab63fa\", \"#FFA15A\", \"#19d3f3\", \"#FF6692\", \"#B6E880\", \"#FF97FF\", \"#FECB52\"], \"font\": {\"color\": \"#2a3f5f\"}, \"geo\": {\"bgcolor\": \"white\", \"lakecolor\": \"white\", \"landcolor\": \"#E5ECF6\", \"showlakes\": true, \"showland\": true, \"subunitcolor\": \"white\"}, \"hoverlabel\": {\"align\": \"left\"}, \"hovermode\": \"closest\", \"mapbox\": {\"style\": \"light\"}, \"paper_bgcolor\": \"white\", \"plot_bgcolor\": \"#E5ECF6\", \"polar\": {\"angularaxis\": {\"gridcolor\": \"white\", \"linecolor\": \"white\", \"ticks\": \"\"}, \"bgcolor\": \"#E5ECF6\", \"radialaxis\": {\"gridcolor\": \"white\", \"linecolor\": \"white\", \"ticks\": \"\"}}, \"scene\": {\"xaxis\": {\"backgroundcolor\": \"#E5ECF6\", \"gridcolor\": \"white\", \"gridwidth\": 2, \"linecolor\": \"white\", \"showbackground\": true, \"ticks\": \"\", \"zerolinecolor\": \"white\"}, \"yaxis\": {\"backgroundcolor\": \"#E5ECF6\", \"gridcolor\": \"white\", \"gridwidth\": 2, \"linecolor\": \"white\", \"showbackground\": true, \"ticks\": \"\", \"zerolinecolor\": \"white\"}, \"zaxis\": {\"backgroundcolor\": \"#E5ECF6\", \"gridcolor\": \"white\", \"gridwidth\": 2, \"linecolor\": \"white\", \"showbackground\": true, \"ticks\": \"\", \"zerolinecolor\": \"white\"}}, \"shapedefaults\": {\"line\": {\"color\": \"#2a3f5f\"}}, \"ternary\": {\"aaxis\": {\"gridcolor\": \"white\", \"linecolor\": \"white\", \"ticks\": \"\"}, \"baxis\": {\"gridcolor\": \"white\", \"linecolor\": \"white\", \"ticks\": \"\"}, \"bgcolor\": \"#E5ECF6\", \"caxis\": {\"gridcolor\": \"white\", \"linecolor\": \"white\", \"ticks\": \"\"}}, \"title\": {\"x\": 0.05}, \"xaxis\": {\"automargin\": true, \"gridcolor\": \"white\", \"linecolor\": \"white\", \"ticks\": \"\", \"title\": {\"standoff\": 15}, \"zerolinecolor\": \"white\", \"zerolinewidth\": 2}, \"yaxis\": {\"automargin\": true, \"gridcolor\": \"white\", \"linecolor\": \"white\", \"ticks\": \"\", \"title\": {\"standoff\": 15}, \"zerolinecolor\": \"white\", \"zerolinewidth\": 2}}}, \"title\": {\"text\": \"Compara\\u00e7\\u00e3o Carteira\"}},\n",
              "                        {\"responsive\": true}\n",
              "                    ).then(function(){\n",
              "                            \n",
              "var gd = document.getElementById('f568d832-1f61-4b31-abb8-2cfcc6d7f51d');\n",
              "var x = new MutationObserver(function (mutations, observer) {{\n",
              "        var display = window.getComputedStyle(gd).display;\n",
              "        if (!display || display === 'none') {{\n",
              "            console.log([gd, 'removed!']);\n",
              "            Plotly.purge(gd);\n",
              "            observer.disconnect();\n",
              "        }}\n",
              "}});\n",
              "\n",
              "// Listen for the removal of the full notebook cells\n",
              "var notebookContainer = gd.closest('#notebook-container');\n",
              "if (notebookContainer) {{\n",
              "    x.observe(notebookContainer, {childList: true});\n",
              "}}\n",
              "\n",
              "// Listen for the clearing of the current output cell\n",
              "var outputEl = gd.closest('.output');\n",
              "if (outputEl) {{\n",
              "    x.observe(outputEl, {childList: true});\n",
              "}}\n",
              "\n",
              "                        })\n",
              "                };\n",
              "                \n",
              "            </script>\n",
              "        </div>\n",
              "</body>\n",
              "</html>"
            ]
          },
          "metadata": {}
        }
      ]
    },
    {
      "cell_type": "code",
      "metadata": {
        "id": "yhu16UOYsF52"
      },
      "source": [
        "from pypfopt import objective_functions"
      ],
      "execution_count": 258,
      "outputs": []
    },
    {
      "cell_type": "code",
      "metadata": {
        "colab": {
          "base_uri": "https://localhost:8080/"
        },
        "id": "dcJQdsj8sJho",
        "outputId": "83825cb3-2169-4088-aef5-6246836b4f3e"
      },
      "source": [
        "mv_2 = EfficientFrontier(retorno_medio, sample_cov)\n",
        "mv_2.add_objective(objective_functions.L2_reg, gamma=0.15)\n",
        "mv_2.min_volatility()\n",
        "pesos_2 = mv_2.clean_weights()\n",
        "pesos_2"
      ],
      "execution_count": 259,
      "outputs": [
        {
          "output_type": "execute_result",
          "data": {
            "text/plain": [
              "OrderedDict([('PETR4.SA', 0.0313),\n",
              "             ('VALE3.SA', 0.07145),\n",
              "             ('WEGE3.SA', 0.05438),\n",
              "             ('RADL3.SA', 0.08918),\n",
              "             ('OIBR3.SA', 0.02665),\n",
              "             ('KNRI11.SA', 0.17569),\n",
              "             ('FLMA11.SA', 0.15777),\n",
              "             ('BOVA11.SA', 0.08029),\n",
              "             ('SMAL11.SA', 0.07867),\n",
              "             ('AAPL34.SA', 0.08618),\n",
              "             ('IVVB11.SA', 0.14602),\n",
              "             ('ETH-BRL', 0.00242)])"
            ]
          },
          "metadata": {},
          "execution_count": 259
        }
      ]
    },
    {
      "cell_type": "code",
      "metadata": {
        "colab": {
          "base_uri": "https://localhost:8080/"
        },
        "id": "GyILKgwasMcR",
        "outputId": "4ae55795-53a2-44a4-fae6-eafc7a7a0f1f"
      },
      "source": [
        "pesos_2 = pesos_2.values()\n",
        "pesos_2 = list(pesos_2)\n",
        "pesos_2 = np.array(pesos_2)\n",
        "pesos_2"
      ],
      "execution_count": 260,
      "outputs": [
        {
          "output_type": "execute_result",
          "data": {
            "text/plain": [
              "array([0.0313 , 0.07145, 0.05438, 0.08918, 0.02665, 0.17569, 0.15777,\n",
              "       0.08029, 0.07867, 0.08618, 0.14602, 0.00242])"
            ]
          },
          "metadata": {},
          "execution_count": 260
        }
      ]
    },
    {
      "cell_type": "code",
      "metadata": {
        "id": "ghFJOAKIsO3J"
      },
      "source": [
        "renta_carteira_depois_2 = (rentabilidade_precos *pesos_2).sum(axis=1)\n",
        "carteira_depois_acm_2 = (1+renta_carteira_depois_2).cumprod()"
      ],
      "execution_count": 261,
      "outputs": []
    },
    {
      "cell_type": "code",
      "metadata": {
        "colab": {
          "base_uri": "https://localhost:8080/",
          "height": 542
        },
        "id": "SDNwaoq1sRHR",
        "outputId": "e61db316-456b-45e2-ad18-63280160130d"
      },
      "source": [
        "import plotly.graph_objects as go\n",
        "\n",
        "fig = go.Figure()\n",
        "fig.add_trace(go.Scatter(name='IBOV', x=ibov_acm.index, y=ibov_acm))\n",
        "fig.add_trace(go.Scatter(name='Carteira Normal', x=carteira_antes_acm.index, y=carteira_antes_acm))\n",
        "fig.add_trace(go.Scatter(name='Carteira MV', x=carteira_depois_acm.index, y=carteira_depois_acm))\n",
        "fig.add_trace(go.Scatter(name='Carteira MV2',x=carteira_depois_acm_2.index, y=carteira_depois_acm_2))\n",
        "fig.update_layout(title_text='Comparação Carteira')\n",
        "fig.show()"
      ],
      "execution_count": 262,
      "outputs": [
        {
          "output_type": "display_data",
          "data": {
            "text/html": [
              "<html>\n",
              "<head><meta charset=\"utf-8\" /></head>\n",
              "<body>\n",
              "    <div>\n",
              "            <script src=\"https://cdnjs.cloudflare.com/ajax/libs/mathjax/2.7.5/MathJax.js?config=TeX-AMS-MML_SVG\"></script><script type=\"text/javascript\">if (window.MathJax) {MathJax.Hub.Config({SVG: {font: \"STIX-Web\"}});}</script>\n",
              "                <script type=\"text/javascript\">window.PlotlyConfig = {MathJaxConfig: 'local'};</script>\n",
              "        <script src=\"https://cdn.plot.ly/plotly-latest.min.js\"></script>    \n",
              "            <div id=\"a661e182-5697-4f9f-9f17-e5f5e86120d2\" class=\"plotly-graph-div\" style=\"height:525px; width:100%;\"></div>\n",
              "            <script type=\"text/javascript\">\n",
              "                \n",
              "                    window.PLOTLYENV=window.PLOTLYENV || {};\n",
              "                    \n",
              "                if (document.getElementById(\"a661e182-5697-4f9f-9f17-e5f5e86120d2\")) {\n",
              "                    Plotly.newPlot(\n",
              "                        'a661e182-5697-4f9f-9f17-e5f5e86120d2',\n",
              "                        [{\"name\": \"IBOV\", \"type\": \"scatter\", \"x\": [\"2020-05-04T00:00:00\", \"2020-05-05T00:00:00\", \"2020-05-06T00:00:00\", \"2020-05-07T00:00:00\", \"2020-05-08T00:00:00\", \"2020-05-11T00:00:00\", \"2020-05-12T00:00:00\", \"2020-05-13T00:00:00\", \"2020-05-14T00:00:00\", \"2020-05-15T00:00:00\", \"2020-05-18T00:00:00\", \"2020-05-19T00:00:00\", \"2020-05-20T00:00:00\", \"2020-05-21T00:00:00\", \"2020-05-22T00:00:00\", \"2020-05-25T00:00:00\", \"2020-05-26T00:00:00\", \"2020-05-27T00:00:00\", \"2020-05-28T00:00:00\", \"2020-05-29T00:00:00\", \"2020-06-01T00:00:00\", \"2020-06-02T00:00:00\", \"2020-06-03T00:00:00\", \"2020-06-04T00:00:00\", \"2020-06-05T00:00:00\", \"2020-06-08T00:00:00\", \"2020-06-09T00:00:00\", \"2020-06-10T00:00:00\", \"2020-06-12T00:00:00\", \"2020-06-15T00:00:00\", \"2020-06-16T00:00:00\", \"2020-06-17T00:00:00\", \"2020-06-18T00:00:00\", \"2020-06-19T00:00:00\", \"2020-06-22T00:00:00\", \"2020-06-23T00:00:00\", \"2020-06-24T00:00:00\", \"2020-06-25T00:00:00\", \"2020-06-26T00:00:00\", \"2020-06-29T00:00:00\", \"2020-06-30T00:00:00\", \"2020-07-01T00:00:00\", \"2020-07-02T00:00:00\", \"2020-07-03T00:00:00\", \"2020-07-06T00:00:00\", \"2020-07-07T00:00:00\", \"2020-07-08T00:00:00\", \"2020-07-09T00:00:00\", \"2020-07-10T00:00:00\", \"2020-07-13T00:00:00\", \"2020-07-14T00:00:00\", \"2020-07-15T00:00:00\", \"2020-07-16T00:00:00\", \"2020-07-17T00:00:00\", \"2020-07-20T00:00:00\", \"2020-07-21T00:00:00\", \"2020-07-22T00:00:00\", \"2020-07-23T00:00:00\", \"2020-07-24T00:00:00\", \"2020-07-27T00:00:00\", \"2020-07-28T00:00:00\", \"2020-07-29T00:00:00\", \"2020-07-30T00:00:00\", \"2020-07-31T00:00:00\", \"2020-08-03T00:00:00\", \"2020-08-04T00:00:00\", \"2020-08-05T00:00:00\", \"2020-08-06T00:00:00\", \"2020-08-07T00:00:00\", \"2020-08-10T00:00:00\", \"2020-08-11T00:00:00\", \"2020-08-12T00:00:00\", \"2020-08-13T00:00:00\", \"2020-08-14T00:00:00\", \"2020-08-17T00:00:00\", \"2020-08-18T00:00:00\", \"2020-08-19T00:00:00\", \"2020-08-20T00:00:00\", \"2020-08-21T00:00:00\", \"2020-08-24T00:00:00\", \"2020-08-25T00:00:00\", \"2020-08-26T00:00:00\", \"2020-08-27T00:00:00\", \"2020-08-28T00:00:00\", \"2020-08-31T00:00:00\", \"2020-09-01T00:00:00\", \"2020-09-02T00:00:00\", \"2020-09-03T00:00:00\", \"2020-09-04T00:00:00\", \"2020-09-08T00:00:00\", \"2020-09-09T00:00:00\", \"2020-09-10T00:00:00\", \"2020-09-11T00:00:00\", \"2020-09-14T00:00:00\", \"2020-09-15T00:00:00\", \"2020-09-16T00:00:00\", \"2020-09-17T00:00:00\", \"2020-09-18T00:00:00\", \"2020-09-21T00:00:00\", \"2020-09-22T00:00:00\", \"2020-09-23T00:00:00\", \"2020-09-24T00:00:00\", \"2020-09-25T00:00:00\", \"2020-09-28T00:00:00\", \"2020-09-29T00:00:00\", \"2020-09-30T00:00:00\", \"2020-10-01T00:00:00\", \"2020-10-02T00:00:00\", \"2020-10-05T00:00:00\", \"2020-10-06T00:00:00\", \"2020-10-07T00:00:00\", \"2020-10-08T00:00:00\", \"2020-10-09T00:00:00\", \"2020-10-13T00:00:00\", \"2020-10-14T00:00:00\", \"2020-10-15T00:00:00\", \"2020-10-16T00:00:00\", \"2020-10-19T00:00:00\", \"2020-10-20T00:00:00\", \"2020-10-21T00:00:00\", \"2020-10-22T00:00:00\", \"2020-10-23T00:00:00\", \"2020-10-26T00:00:00\", \"2020-10-27T00:00:00\", \"2020-10-28T00:00:00\", \"2020-10-29T00:00:00\", \"2020-10-30T00:00:00\", \"2020-11-03T00:00:00\", \"2020-11-04T00:00:00\", \"2020-11-05T00:00:00\", \"2020-11-06T00:00:00\", \"2020-11-09T00:00:00\", \"2020-11-10T00:00:00\", \"2020-11-11T00:00:00\", \"2020-11-12T00:00:00\", \"2020-11-13T00:00:00\", \"2020-11-16T00:00:00\", \"2020-11-17T00:00:00\", \"2020-11-18T00:00:00\", \"2020-11-19T00:00:00\", \"2020-11-23T00:00:00\", \"2020-11-24T00:00:00\", \"2020-11-25T00:00:00\", \"2020-11-26T00:00:00\", \"2020-11-27T00:00:00\", \"2020-11-30T00:00:00\", \"2020-12-01T00:00:00\", \"2020-12-02T00:00:00\", \"2020-12-03T00:00:00\", \"2020-12-04T00:00:00\", \"2020-12-07T00:00:00\", \"2020-12-08T00:00:00\", \"2020-12-09T00:00:00\", \"2020-12-10T00:00:00\", \"2020-12-11T00:00:00\", \"2020-12-14T00:00:00\", \"2020-12-15T00:00:00\", \"2020-12-16T00:00:00\", \"2020-12-17T00:00:00\", \"2020-12-18T00:00:00\", \"2020-12-21T00:00:00\", \"2020-12-22T00:00:00\", \"2020-12-23T00:00:00\", \"2020-12-28T00:00:00\", \"2020-12-29T00:00:00\", \"2020-12-30T00:00:00\", \"2021-01-04T00:00:00\", \"2021-01-05T00:00:00\", \"2021-01-06T00:00:00\", \"2021-01-07T00:00:00\", \"2021-01-08T00:00:00\", \"2021-01-11T00:00:00\", \"2021-01-12T00:00:00\", \"2021-01-13T00:00:00\", \"2021-01-14T00:00:00\", \"2021-01-15T00:00:00\", \"2021-01-18T00:00:00\", \"2021-01-19T00:00:00\", \"2021-01-20T00:00:00\", \"2021-01-21T00:00:00\", \"2021-01-22T00:00:00\", \"2021-01-26T00:00:00\", \"2021-01-27T00:00:00\", \"2021-01-28T00:00:00\", \"2021-01-29T00:00:00\", \"2021-02-01T00:00:00\", \"2021-02-02T00:00:00\", \"2021-02-03T00:00:00\", \"2021-02-04T00:00:00\", \"2021-02-05T00:00:00\", \"2021-02-08T00:00:00\", \"2021-02-09T00:00:00\", \"2021-02-10T00:00:00\", \"2021-02-11T00:00:00\", \"2021-02-12T00:00:00\", \"2021-02-18T00:00:00\", \"2021-02-19T00:00:00\", \"2021-02-22T00:00:00\", \"2021-02-23T00:00:00\", \"2021-02-24T00:00:00\", \"2021-02-25T00:00:00\", \"2021-02-26T00:00:00\", \"2021-03-01T00:00:00\", \"2021-03-02T00:00:00\", \"2021-03-03T00:00:00\", \"2021-03-04T00:00:00\", \"2021-03-05T00:00:00\", \"2021-03-08T00:00:00\", \"2021-03-09T00:00:00\", \"2021-03-10T00:00:00\", \"2021-03-11T00:00:00\", \"2021-03-12T00:00:00\", \"2021-03-15T00:00:00\", \"2021-03-16T00:00:00\", \"2021-03-17T00:00:00\", \"2021-03-18T00:00:00\", \"2021-03-19T00:00:00\", \"2021-03-22T00:00:00\", \"2021-03-23T00:00:00\", \"2021-03-24T00:00:00\", \"2021-03-25T00:00:00\", \"2021-03-26T00:00:00\", \"2021-03-29T00:00:00\", \"2021-03-30T00:00:00\", \"2021-03-31T00:00:00\", \"2021-04-01T00:00:00\", \"2021-04-05T00:00:00\", \"2021-04-06T00:00:00\", \"2021-04-07T00:00:00\", \"2021-04-08T00:00:00\", \"2021-04-09T00:00:00\", \"2021-04-12T00:00:00\", \"2021-04-13T00:00:00\", \"2021-04-14T00:00:00\", \"2021-04-15T00:00:00\", \"2021-04-16T00:00:00\", \"2021-04-19T00:00:00\", \"2021-04-20T00:00:00\", \"2021-04-22T00:00:00\", \"2021-04-23T00:00:00\", \"2021-04-26T00:00:00\", \"2021-04-27T00:00:00\", \"2021-04-28T00:00:00\", \"2021-04-29T00:00:00\", \"2021-04-30T00:00:00\", \"2021-05-03T00:00:00\", \"2021-05-04T00:00:00\", \"2021-05-05T00:00:00\", \"2021-05-06T00:00:00\", \"2021-05-07T00:00:00\", \"2021-05-10T00:00:00\", \"2021-05-11T00:00:00\", \"2021-05-12T00:00:00\", \"2021-05-13T00:00:00\", \"2021-05-14T00:00:00\", \"2021-05-17T00:00:00\", \"2021-05-18T00:00:00\", \"2021-05-19T00:00:00\", \"2021-05-20T00:00:00\", \"2021-05-21T00:00:00\", \"2021-05-24T00:00:00\", \"2021-05-25T00:00:00\", \"2021-05-26T00:00:00\", \"2021-05-27T00:00:00\", \"2021-05-28T00:00:00\", \"2021-05-31T00:00:00\", \"2021-06-01T00:00:00\", \"2021-06-02T00:00:00\", \"2021-06-04T00:00:00\", \"2021-06-07T00:00:00\", \"2021-06-08T00:00:00\", \"2021-06-09T00:00:00\", \"2021-06-10T00:00:00\", \"2021-06-11T00:00:00\", \"2021-06-14T00:00:00\", \"2021-06-15T00:00:00\", \"2021-06-16T00:00:00\", \"2021-06-17T00:00:00\", \"2021-06-18T00:00:00\", \"2021-06-21T00:00:00\", \"2021-06-22T00:00:00\", \"2021-06-23T00:00:00\", \"2021-06-24T00:00:00\", \"2021-06-25T00:00:00\", \"2021-06-28T00:00:00\", \"2021-06-29T00:00:00\", \"2021-06-30T00:00:00\", \"2021-07-01T00:00:00\", \"2021-07-02T00:00:00\", \"2021-07-05T00:00:00\", \"2021-07-06T00:00:00\", \"2021-07-07T00:00:00\", \"2021-07-08T00:00:00\", \"2021-07-12T00:00:00\", \"2021-07-13T00:00:00\", \"2021-07-14T00:00:00\", \"2021-07-15T00:00:00\", \"2021-07-16T00:00:00\", \"2021-07-19T00:00:00\", \"2021-07-20T00:00:00\", \"2021-07-21T00:00:00\", \"2021-07-22T00:00:00\", \"2021-07-23T00:00:00\", \"2021-07-26T00:00:00\", \"2021-07-27T00:00:00\", \"2021-07-28T00:00:00\", \"2021-07-29T00:00:00\", \"2021-07-30T00:00:00\", \"2021-08-02T00:00:00\", \"2021-08-03T00:00:00\", \"2021-08-04T00:00:00\", \"2021-08-05T00:00:00\", \"2021-08-06T00:00:00\", \"2021-08-09T00:00:00\", \"2021-08-10T00:00:00\", \"2021-08-11T00:00:00\", \"2021-08-12T00:00:00\", \"2021-08-13T00:00:00\", \"2021-08-16T00:00:00\", \"2021-08-17T00:00:00\", \"2021-08-18T00:00:00\", \"2021-08-19T00:00:00\", \"2021-08-20T00:00:00\", \"2021-08-23T00:00:00\", \"2021-08-24T00:00:00\", \"2021-08-25T00:00:00\", \"2021-08-26T00:00:00\", \"2021-08-27T00:00:00\", \"2021-08-30T00:00:00\", \"2021-08-31T00:00:00\", \"2021-09-01T00:00:00\", \"2021-09-02T00:00:00\", \"2021-09-03T00:00:00\", \"2021-09-06T00:00:00\", \"2021-09-08T00:00:00\", \"2021-09-09T00:00:00\", \"2021-09-10T00:00:00\", \"2021-09-13T00:00:00\", \"2021-09-14T00:00:00\", \"2021-09-15T00:00:00\", \"2021-09-16T00:00:00\", \"2021-09-17T00:00:00\", \"2021-09-20T00:00:00\", \"2021-09-21T00:00:00\", \"2021-09-22T00:00:00\", \"2021-09-23T00:00:00\", \"2021-09-24T00:00:00\", \"2021-09-27T00:00:00\", \"2021-09-28T00:00:00\", \"2021-09-29T00:00:00\", \"2021-09-30T00:00:00\", \"2021-10-01T00:00:00\", \"2021-10-04T00:00:00\", \"2021-10-05T00:00:00\", \"2021-10-06T00:00:00\", \"2021-10-07T00:00:00\", \"2021-10-08T00:00:00\", \"2021-10-11T00:00:00\", \"2021-10-13T00:00:00\", \"2021-10-14T00:00:00\", \"2021-10-15T00:00:00\", \"2021-10-18T00:00:00\", \"2021-10-19T00:00:00\", \"2021-10-20T00:00:00\", \"2021-10-21T00:00:00\", \"2021-10-22T00:00:00\", \"2021-10-25T00:00:00\", \"2021-10-26T00:00:00\", \"2021-10-27T00:00:00\", \"2021-10-28T00:00:00\", \"2021-10-29T00:00:00\", \"2021-11-01T00:00:00\", \"2021-11-03T00:00:00\", \"2021-11-04T00:00:00\"], \"y\": [null, 1.0075434859779908, 1.0023834880064912, 0.9904026573355648, 1.0175845631117197, 1.0023961661341854, 0.9872711597951215, 0.9860033470257112, 1.001711547238704, 0.9832775495714794, 1.0293878999949289, 1.0236573862771947, 1.0309726659566916, 1.052626908058218, 1.041799787007455, 1.0860464526598712, 1.0835868958872155, 1.1149906181855065, 1.1023505248744867, 1.108106394847609, 1.1235356762513315, 1.1542928140372233, 1.179091231806887, 1.1895760434099094, 1.199819970586744, 1.2379557786906032, 1.2265708200212995, 1.2004411988437549, 1.1764668593742076, 1.1711547238703788, 1.1857979613570666, 1.2113570667883766, 1.2186850245955676, 1.2243521476748314, 1.208681981844921, 1.2167833054414523, 1.196523657386277, 1.216884730463005, 1.1896394340483796, 1.2137405547948676, 1.2051321060905722, 1.2196739185557073, 1.2200796186419187, 1.226799026319793, 1.2543359196713828, 1.2394264415031186, 1.2648968000405698, 1.2571631421471674, 1.2682184694964245, 1.2512931690247981, 1.2733911455956182, 1.2905192961103502, 1.2748237740250516, 1.3044272021907801, 1.3239261625843093, 1.3224554997717934, 1.3222019372179115, 1.2968837162127895, 1.2980120695775645, 1.3245727470967084, 1.3199071961052788, 1.3388736751356556, 1.3313175110299706, 1.3047314772554386, 1.3036918707845222, 1.2832293726862414, 1.3033368832090875, 1.320122724276079, 1.303007251889041, 1.3114762411887013, 1.2953750190171915, 1.2946650438663219, 1.2736573862771947, 1.2849662761803338, 1.2626781276941021, 1.2939931030985343, 1.2786398904609766, 1.2864242608651553, 1.2870962016329426, 1.29694710685126, 1.2946650438663216, 1.2757619554744153, 1.275723921091333, 1.294981997058674, 1.2598128708352347, 1.2952989502510266, 1.2920406714336423, 1.2769536994776607, 1.283559004006288, 1.2684466757949182, 1.284192910390993, 1.253042750646584, 1.2470586743749679, 1.2712992545260913, 1.2715908514630558, 1.2637050560373242, 1.2690552259242354, 1.2461331710532986, 1.22966428317866, 1.233505755869973, 1.2137405547948676, 1.229930523860236, 1.2297657082002127, 1.2001876362898725, 1.1864191896140774, 1.199388914245144, 1.2104949541051773, 1.1919468532887059, 1.2182286119985795, 1.212219179471575, 1.2110908261068, 1.2414422638064804, 1.2359019220041578, 1.2488336122521422, 1.259369136365941, 1.2558192606115923, 1.2463740554794862, 1.2507987220447279, 1.274658958365028, 1.2748110958973573, 1.2921294183275007, 1.2837872103047816, 1.2807064252751148, 1.2628175870987366, 1.209100360058826, 1.224478928951772, 1.1911354531162832, 1.2118641918961401, 1.2400603478878232, 1.2776256402454478, 1.2779425934378004, 1.3174222830772344, 1.3356534307013535, 1.3252700441198837, 1.295387697144885, 1.3250164815660017, 1.3493331304832898, 1.3594629545108774, 1.3500050712510772, 1.3504361275926766, 1.3613646736649927, 1.3918809270246966, 1.39628023733455, 1.3974719813377956, 1.4018839697753431, 1.3804959683553928, 1.4115193468228606, 1.4175921699883356, 1.4316015010903185, 1.4412749125209183, 1.4405522592423545, 1.439867640346873, 1.4291039099345804, 1.4578832598001923, 1.46207972006694, 1.4576677316293924, 1.472513819159186, 1.4953471271362637, 1.4980095339520254, 1.4919493889142446, 1.4708656625589527, 1.4750748009533945, 1.4942060956437948, 1.509343780110553, 1.5147193062528521, 1.512576702672549, 1.5030934631573605, 1.5115244180739382, 1.5194862822658344, 1.5461737410619194, 1.585742177595212, 1.5569628277296004, 1.5720624778132761, 1.547238703788224, 1.5655078857954252, 1.5277397433946949, 1.5371215578883306, 1.5299077032303865, 1.517673310005578, 1.5016354784725388, 1.4855215781733349, 1.4765454637659106, 1.469166793447943, 1.5126781276941017, 1.470751559409706, 1.4879684568182965, 1.4989857497844712, 1.5178888381763773, 1.512006186926314, 1.5204244637151978, 1.51523910948831, 1.514136112378923, 1.501470662812515, 1.5116765556062672, 1.510167858410669, 1.5104721334753273, 1.5055023074192393, 1.4284192910390983, 1.4608626198083057, 1.4664536741214047, 1.4231959024291283, 1.3950377808205274, 1.398841219128758, 1.4141183630001513, 1.409604949541051, 1.4286982098483687, 1.460545666615953, 1.4023530605000243, 1.4114686343120837, 1.4297885288300611, 1.4577818347786387, 1.4473350575586985, 1.456095643795323, 1.44554744155383, 1.4776231046199086, 1.4558927937522177, 1.4734773568639374, 1.4577184441401685, 1.4359500988893952, 1.4207617019118608, 1.442137025204117, 1.4552081748567363, 1.4632968203255732, 1.4814392210558334, 1.4787007454739074, 1.4611922511283524, 1.4899082103554937, 1.4896673259293058, 1.4912520918910686, 1.4999873218723048, 1.491835285764997, 1.5063137075916615, 1.5124625995233012, 1.525115370962015, 1.5302626908058206, 1.5354987575434849, 1.5332166945585466, 1.5221613672092895, 1.5134007809726648, 1.5280947309701292, 1.528918809270246, 1.5136163091434647, 1.5347253917541446, 1.5222120797200658, 1.507353314062578, 1.5113469242862203, 1.4923677671281494, 1.5158476596176267, 1.520373751204421, 1.5472133475328351, 1.545577869060296, 1.5589532937775736, 1.5176986662609653, 1.530326081444291, 1.5452228814848612, 1.5586236624575271, 1.5591561438206794, 1.5547948678939083, 1.5556189461940249, 1.5542370302753676, 1.5724935341548747, 1.559257568842232, 1.5719483746640281, 1.5767407069323987, 1.5918783913991565, 1.6001825650387935, 1.6261854049393971, 1.6430980272833293, 1.6497540443227328, 1.6579948273238991, 1.645456159034432, 1.6469775343577244, 1.6491201379380278, 1.641069526852273, 1.6507936507936494, 1.6493103098534394, 1.6387621076119465, 1.6235229981236357, 1.6279349865611832, 1.638838176378111, 1.6325244687864482, 1.6282265834981475, 1.6419950301739425, 1.61336781784066, 1.61556113393174, 1.6142679649069416, 1.607611947867538, 1.593209594807038, 1.6180080125767018, 1.6091079669354422, 1.5859703838937058, 1.6103631015771585, 1.590192200415842, 1.617653025001267, 1.6249302702976818, 1.6279603428165723, 1.6160555809118102, 1.5969369643491043, 1.5770956945078345, 1.5898498909681011, 1.596543942390587, 1.5993077742279014, 1.5854379025305536, 1.5974948019676445, 1.5798468482174544, 1.6010700339773811, 1.5933236979562848, 1.544208631269333, 1.553273492570616, 1.5667249860540584, 1.544208631269333, 1.542078705816724, 1.5570008621126823, 1.5596505908007499, 1.5492925604746683, 1.5474415538313293, 1.530262690805821, 1.5365130077590134, 1.5109792585830917, 1.4948019676454174, 1.4788148486231547, 1.485432831279476, 1.4966910086718388, 1.4893250164815655, 1.5240504082357111, 1.531746031746031, 1.505198032354581, 1.5299710938688564, 1.5180790100917887, 1.5059206856331446, 1.5137177341650174, 1.4792459049647537, 1.4824915056544437, 1.4943582331761232, 1.4378644961712042, 1.462561488919315, 1.4489325016481553, 1.4757847761042635, 1.4729575536284787, 1.4587834068664725, 1.4426948628226568, 1.4128378721030461, 1.379938130736851, 1.3977635782747586, 1.4235255337491741, 1.4461179573000642, 1.4362163395709704, 1.4400197778792012, 1.396166134185302, 1.4086287337086043, 1.4070059333637592, 1.4313606166641295, 1.3995765505350155, 1.400400628835132, 1.4016937978599304, 1.402010751052283, 1.4305111821086245, 1.4222323647243758, 1.43840965566205, 1.4349738830569483, 1.4535219838734197, 1.4507327957807172, 1.4031264262893637, 1.4045590547187972, 1.3658780871240916, 1.3476342613722787, 1.3783026522643116, 1.3492063492063473, 1.3484836959277835, 1.3401414879050644, 1.3121988944672633, 1.3381890562401728, 1.3390258126679837, 1.3110705411024886]}, {\"name\": \"Carteira Normal\", \"type\": \"scatter\", \"x\": [\"2020-05-04T00:00:00\", \"2020-05-05T00:00:00\", \"2020-05-06T00:00:00\", \"2020-05-07T00:00:00\", \"2020-05-08T00:00:00\", \"2020-05-11T00:00:00\", \"2020-05-12T00:00:00\", \"2020-05-13T00:00:00\", \"2020-05-14T00:00:00\", \"2020-05-15T00:00:00\", \"2020-05-18T00:00:00\", \"2020-05-19T00:00:00\", \"2020-05-20T00:00:00\", \"2020-05-21T00:00:00\", \"2020-05-22T00:00:00\", \"2020-05-25T00:00:00\", \"2020-05-26T00:00:00\", \"2020-05-27T00:00:00\", \"2020-05-28T00:00:00\", \"2020-05-29T00:00:00\", \"2020-06-01T00:00:00\", \"2020-06-02T00:00:00\", \"2020-06-03T00:00:00\", \"2020-06-04T00:00:00\", \"2020-06-05T00:00:00\", \"2020-06-08T00:00:00\", \"2020-06-09T00:00:00\", \"2020-06-10T00:00:00\", \"2020-06-12T00:00:00\", \"2020-06-15T00:00:00\", \"2020-06-16T00:00:00\", \"2020-06-17T00:00:00\", \"2020-06-18T00:00:00\", \"2020-06-19T00:00:00\", \"2020-06-22T00:00:00\", \"2020-06-23T00:00:00\", \"2020-06-24T00:00:00\", \"2020-06-25T00:00:00\", \"2020-06-26T00:00:00\", \"2020-06-29T00:00:00\", \"2020-06-30T00:00:00\", \"2020-07-01T00:00:00\", \"2020-07-02T00:00:00\", \"2020-07-03T00:00:00\", \"2020-07-06T00:00:00\", \"2020-07-07T00:00:00\", \"2020-07-08T00:00:00\", \"2020-07-09T00:00:00\", \"2020-07-10T00:00:00\", \"2020-07-13T00:00:00\", \"2020-07-14T00:00:00\", \"2020-07-15T00:00:00\", \"2020-07-16T00:00:00\", \"2020-07-17T00:00:00\", \"2020-07-20T00:00:00\", \"2020-07-21T00:00:00\", \"2020-07-22T00:00:00\", \"2020-07-23T00:00:00\", \"2020-07-24T00:00:00\", \"2020-07-27T00:00:00\", \"2020-07-28T00:00:00\", \"2020-07-29T00:00:00\", \"2020-07-30T00:00:00\", \"2020-07-31T00:00:00\", \"2020-08-03T00:00:00\", \"2020-08-04T00:00:00\", \"2020-08-05T00:00:00\", \"2020-08-06T00:00:00\", \"2020-08-07T00:00:00\", \"2020-08-10T00:00:00\", \"2020-08-11T00:00:00\", \"2020-08-12T00:00:00\", \"2020-08-13T00:00:00\", \"2020-08-14T00:00:00\", \"2020-08-17T00:00:00\", \"2020-08-18T00:00:00\", \"2020-08-19T00:00:00\", \"2020-08-20T00:00:00\", \"2020-08-21T00:00:00\", \"2020-08-24T00:00:00\", \"2020-08-25T00:00:00\", \"2020-08-26T00:00:00\", \"2020-08-27T00:00:00\", \"2020-08-28T00:00:00\", \"2020-08-31T00:00:00\", \"2020-09-01T00:00:00\", \"2020-09-02T00:00:00\", \"2020-09-03T00:00:00\", \"2020-09-04T00:00:00\", \"2020-09-08T00:00:00\", \"2020-09-09T00:00:00\", \"2020-09-10T00:00:00\", \"2020-09-11T00:00:00\", \"2020-09-14T00:00:00\", \"2020-09-15T00:00:00\", \"2020-09-16T00:00:00\", \"2020-09-17T00:00:00\", \"2020-09-18T00:00:00\", \"2020-09-21T00:00:00\", \"2020-09-22T00:00:00\", \"2020-09-23T00:00:00\", \"2020-09-24T00:00:00\", \"2020-09-25T00:00:00\", \"2020-09-28T00:00:00\", \"2020-09-29T00:00:00\", \"2020-09-30T00:00:00\", \"2020-10-01T00:00:00\", \"2020-10-02T00:00:00\", \"2020-10-05T00:00:00\", \"2020-10-06T00:00:00\", \"2020-10-07T00:00:00\", \"2020-10-08T00:00:00\", \"2020-10-14T00:00:00\", \"2020-10-15T00:00:00\", \"2020-10-16T00:00:00\", \"2020-10-19T00:00:00\", \"2020-10-20T00:00:00\", \"2020-10-21T00:00:00\", \"2020-10-22T00:00:00\", \"2020-10-23T00:00:00\", \"2020-10-26T00:00:00\", \"2020-10-27T00:00:00\", \"2020-10-28T00:00:00\", \"2020-10-29T00:00:00\", \"2020-10-30T00:00:00\", \"2020-11-03T00:00:00\", \"2020-11-04T00:00:00\", \"2020-11-05T00:00:00\", \"2020-11-06T00:00:00\", \"2020-11-09T00:00:00\", \"2020-11-10T00:00:00\", \"2020-11-11T00:00:00\", \"2020-11-12T00:00:00\", \"2020-11-13T00:00:00\", \"2020-11-16T00:00:00\", \"2020-11-17T00:00:00\", \"2020-11-18T00:00:00\", \"2020-11-19T00:00:00\", \"2020-11-23T00:00:00\", \"2020-11-24T00:00:00\", \"2020-11-25T00:00:00\", \"2020-11-26T00:00:00\", \"2020-11-27T00:00:00\", \"2020-11-30T00:00:00\", \"2020-12-01T00:00:00\", \"2020-12-02T00:00:00\", \"2020-12-03T00:00:00\", \"2020-12-04T00:00:00\", \"2020-12-07T00:00:00\", \"2020-12-08T00:00:00\", \"2020-12-09T00:00:00\", \"2020-12-10T00:00:00\", \"2020-12-11T00:00:00\", \"2020-12-14T00:00:00\", \"2020-12-15T00:00:00\", \"2020-12-16T00:00:00\", \"2020-12-17T00:00:00\", \"2020-12-18T00:00:00\", \"2020-12-21T00:00:00\", \"2020-12-22T00:00:00\", \"2020-12-23T00:00:00\", \"2020-12-28T00:00:00\", \"2020-12-29T00:00:00\", \"2020-12-30T00:00:00\", \"2021-01-04T00:00:00\", \"2021-01-05T00:00:00\", \"2021-01-06T00:00:00\", \"2021-01-07T00:00:00\", \"2021-01-08T00:00:00\", \"2021-01-11T00:00:00\", \"2021-01-12T00:00:00\", \"2021-01-13T00:00:00\", \"2021-01-14T00:00:00\", \"2021-01-15T00:00:00\", \"2021-01-18T00:00:00\", \"2021-01-19T00:00:00\", \"2021-01-20T00:00:00\", \"2021-01-21T00:00:00\", \"2021-01-22T00:00:00\", \"2021-01-26T00:00:00\", \"2021-01-27T00:00:00\", \"2021-01-28T00:00:00\", \"2021-01-29T00:00:00\", \"2021-02-01T00:00:00\", \"2021-02-02T00:00:00\", \"2021-02-03T00:00:00\", \"2021-02-04T00:00:00\", \"2021-02-05T00:00:00\", \"2021-02-08T00:00:00\", \"2021-02-09T00:00:00\", \"2021-02-10T00:00:00\", \"2021-02-11T00:00:00\", \"2021-02-12T00:00:00\", \"2021-02-18T00:00:00\", \"2021-02-19T00:00:00\", \"2021-02-22T00:00:00\", \"2021-02-23T00:00:00\", \"2021-02-24T00:00:00\", \"2021-02-25T00:00:00\", \"2021-02-26T00:00:00\", \"2021-03-01T00:00:00\", \"2021-03-02T00:00:00\", \"2021-03-03T00:00:00\", \"2021-03-04T00:00:00\", \"2021-03-05T00:00:00\", \"2021-03-08T00:00:00\", \"2021-03-09T00:00:00\", \"2021-03-10T00:00:00\", \"2021-03-11T00:00:00\", \"2021-03-12T00:00:00\", \"2021-03-15T00:00:00\", \"2021-03-16T00:00:00\", \"2021-03-17T00:00:00\", \"2021-03-18T00:00:00\", \"2021-03-19T00:00:00\", \"2021-03-22T00:00:00\", \"2021-03-23T00:00:00\", \"2021-03-24T00:00:00\", \"2021-03-25T00:00:00\", \"2021-03-26T00:00:00\", \"2021-03-29T00:00:00\", \"2021-03-30T00:00:00\", \"2021-03-31T00:00:00\", \"2021-04-01T00:00:00\", \"2021-04-05T00:00:00\", \"2021-04-06T00:00:00\", \"2021-04-07T00:00:00\", \"2021-04-08T00:00:00\", \"2021-04-09T00:00:00\", \"2021-04-12T00:00:00\", \"2021-04-13T00:00:00\", \"2021-04-14T00:00:00\", \"2021-04-15T00:00:00\", \"2021-04-16T00:00:00\", \"2021-04-19T00:00:00\", \"2021-04-20T00:00:00\", \"2021-04-22T00:00:00\", \"2021-04-23T00:00:00\", \"2021-04-26T00:00:00\", \"2021-04-27T00:00:00\", \"2021-04-28T00:00:00\", \"2021-04-29T00:00:00\", \"2021-04-30T00:00:00\", \"2021-05-03T00:00:00\", \"2021-05-04T00:00:00\", \"2021-05-05T00:00:00\", \"2021-05-06T00:00:00\", \"2021-05-07T00:00:00\", \"2021-05-10T00:00:00\", \"2021-05-11T00:00:00\", \"2021-05-12T00:00:00\", \"2021-05-13T00:00:00\", \"2021-05-14T00:00:00\", \"2021-05-17T00:00:00\", \"2021-05-18T00:00:00\", \"2021-05-19T00:00:00\", \"2021-05-20T00:00:00\", \"2021-05-21T00:00:00\", \"2021-05-24T00:00:00\", \"2021-05-25T00:00:00\", \"2021-05-26T00:00:00\", \"2021-05-27T00:00:00\", \"2021-05-28T00:00:00\", \"2021-05-31T00:00:00\", \"2021-06-01T00:00:00\", \"2021-06-02T00:00:00\", \"2021-06-04T00:00:00\", \"2021-06-07T00:00:00\", \"2021-06-08T00:00:00\", \"2021-06-09T00:00:00\", \"2021-06-10T00:00:00\", \"2021-06-11T00:00:00\", \"2021-06-14T00:00:00\", \"2021-06-15T00:00:00\", \"2021-06-16T00:00:00\", \"2021-06-17T00:00:00\", \"2021-06-18T00:00:00\", \"2021-06-21T00:00:00\", \"2021-06-22T00:00:00\", \"2021-06-23T00:00:00\", \"2021-06-24T00:00:00\", \"2021-06-25T00:00:00\", \"2021-06-28T00:00:00\", \"2021-06-29T00:00:00\", \"2021-06-30T00:00:00\", \"2021-07-01T00:00:00\", \"2021-07-02T00:00:00\", \"2021-07-05T00:00:00\", \"2021-07-06T00:00:00\", \"2021-07-07T00:00:00\", \"2021-07-08T00:00:00\", \"2021-07-12T00:00:00\", \"2021-07-13T00:00:00\", \"2021-07-14T00:00:00\", \"2021-07-15T00:00:00\", \"2021-07-16T00:00:00\", \"2021-07-19T00:00:00\", \"2021-07-20T00:00:00\", \"2021-07-21T00:00:00\", \"2021-07-22T00:00:00\", \"2021-07-23T00:00:00\", \"2021-07-26T00:00:00\", \"2021-07-27T00:00:00\", \"2021-07-28T00:00:00\", \"2021-07-29T00:00:00\", \"2021-07-30T00:00:00\", \"2021-08-02T00:00:00\", \"2021-08-03T00:00:00\", \"2021-08-04T00:00:00\", \"2021-08-05T00:00:00\", \"2021-08-06T00:00:00\", \"2021-08-09T00:00:00\", \"2021-08-10T00:00:00\", \"2021-08-11T00:00:00\", \"2021-08-12T00:00:00\", \"2021-08-13T00:00:00\", \"2021-08-16T00:00:00\", \"2021-08-17T00:00:00\", \"2021-08-18T00:00:00\", \"2021-08-19T00:00:00\", \"2021-08-20T00:00:00\", \"2021-08-23T00:00:00\", \"2021-08-24T00:00:00\", \"2021-08-25T00:00:00\", \"2021-08-26T00:00:00\", \"2021-08-27T00:00:00\", \"2021-08-30T00:00:00\", \"2021-08-31T00:00:00\", \"2021-09-01T00:00:00\", \"2021-09-02T00:00:00\", \"2021-09-03T00:00:00\", \"2021-09-06T00:00:00\", \"2021-09-08T00:00:00\", \"2021-09-09T00:00:00\", \"2021-09-10T00:00:00\", \"2021-09-13T00:00:00\", \"2021-09-14T00:00:00\", \"2021-09-15T00:00:00\", \"2021-09-16T00:00:00\", \"2021-09-17T00:00:00\", \"2021-09-20T00:00:00\", \"2021-09-21T00:00:00\", \"2021-09-22T00:00:00\", \"2021-09-23T00:00:00\", \"2021-09-24T00:00:00\", \"2021-09-27T00:00:00\", \"2021-09-28T00:00:00\", \"2021-09-29T00:00:00\", \"2021-09-30T00:00:00\", \"2021-10-01T00:00:00\", \"2021-10-04T00:00:00\", \"2021-10-05T00:00:00\", \"2021-10-06T00:00:00\", \"2021-10-07T00:00:00\", \"2021-10-08T00:00:00\", \"2021-10-11T00:00:00\", \"2021-10-13T00:00:00\", \"2021-10-14T00:00:00\", \"2021-10-15T00:00:00\", \"2021-10-18T00:00:00\", \"2021-10-19T00:00:00\", \"2021-10-20T00:00:00\", \"2021-10-21T00:00:00\", \"2021-10-22T00:00:00\", \"2021-10-25T00:00:00\", \"2021-10-26T00:00:00\", \"2021-10-27T00:00:00\", \"2021-10-28T00:00:00\", \"2021-10-29T00:00:00\", \"2021-11-01T00:00:00\", \"2021-11-03T00:00:00\"], \"y\": [1.0, 1.0102172587361917, 1.0092807320709503, 1.0254329350542823, 1.0434357306248006, 1.0194252116406066, 1.0180260530179954, 1.012289839257594, 1.0112301071816763, 0.9981050995426027, 1.0412875864896116, 1.0405881545583506, 1.050833753288144, 1.0438202412534667, 1.0374989915222812, 1.0563136884282902, 1.0496837911825236, 1.068981955995409, 1.075932516706859, 1.0964786704383063, 1.1211021393125495, 1.1322313705258658, 1.1326794138607315, 1.1387331957338251, 1.145859229853295, 1.1582872167040064, 1.1562102278183644, 1.1529702682320933, 1.1392457000881606, 1.143168133299283, 1.16907420672832, 1.184023945635538, 1.2032864632303424, 1.1982269166105628, 1.2032246890303058, 1.2088240332162261, 1.19522136061214, 1.2262194404867104, 1.209762859251158, 1.2301889291390986, 1.2329658245952748, 1.2410872519193274, 1.2481999669634674, 1.2506016842547156, 1.2731567693967427, 1.2651479169107855, 1.2820357795818045, 1.2652399030256054, 1.2746684653540032, 1.2687957578640507, 1.2875653527861628, 1.3005780828734035, 1.2832702998800118, 1.303097863502078, 1.3280601943875119, 1.328971054050543, 1.3467498878314392, 1.3598109156826153, 1.3641871323073989, 1.4162675985777375, 1.4160444115500366, 1.4260445079658868, 1.4328930652624763, 1.4373183879236027, 1.4439318249886748, 1.4395915632324445, 1.475326390447629, 1.4824041197607138, 1.470287099141323, 1.4954221175298206, 1.4656999183350385, 1.4852858686179784, 1.5019144398460302, 1.5020728822613463, 1.4919114990221876, 1.5064045510320752, 1.490499042615031, 1.5109877743169948, 1.5208862251574067, 1.534413104601065, 1.5198426077609233, 1.5126246301661563, 1.5015431447552456, 1.5171621473301802, 1.5128115614706585, 1.5655348813117316, 1.5551116391059048, 1.4945442201609058, 1.4985593092457345, 1.4578385698353649, 1.4774029133719, 1.4461937440108898, 1.4478708615326759, 1.47530755402383, 1.4701873816843012, 1.460855037868232, 1.471851653172771, 1.4598686692778546, 1.43042030423852, 1.4513264508742032, 1.425193684198107, 1.4488796219042612, 1.45358500580317, 1.447498722593365, 1.4501622618383025, 1.46810664655044, 1.48003402534277, 1.4541191235905084, 1.4887365812115632, 1.4752646534394573, 1.4892974896417344, 1.513680460970972, 1.549526149507013, 1.5442389354480626, 1.5363789715255018, 1.530775688685892, 1.555123513674811, 1.5530846805146816, 1.5790659111392302, 1.5707133731951246, 1.5526370411382346, 1.5569896268177172, 1.4901304686460153, 1.5196175401412424, 1.4804213216818451, 1.5093630723570692, 1.5445325721184113, 1.5724534251639197, 1.573997631304385, 1.5937840713460132, 1.607061950516051, 1.6221066554574324, 1.598355803631318, 1.6423305569607156, 1.6536556682232735, 1.6629994507083916, 1.6441147142527486, 1.6466701369139225, 1.724386224786482, 1.7387991462283852, 1.737898216446633, 1.7266911174007509, 1.7287293501672378, 1.752198358611789, 1.7533621816271325, 1.7556722362161958, 1.7652276305989936, 1.7644678666294908, 1.7676965246430258, 1.762120290093553, 1.769958399230096, 1.774103881645487, 1.7602564281794397, 1.7653685327966742, 1.7996387521282373, 1.8236445653306321, 1.8309059902776201, 1.8194662341281338, 1.7834876408830813, 1.8085974369437718, 1.808340886279856, 1.8901255318282284, 1.8843450973236984, 1.8887516453094588, 1.9797453959996085, 2.0376416501928043, 2.0610350558306836, 2.118570115042224, 2.14726707127328, 2.106740614936932, 2.100449961903032, 2.0924037178923767, 2.113888640145492, 2.0606876752562675, 2.097693194124051, 2.122878174891265, 2.1080247644841097, 2.05821264490017, 2.087578977623317, 2.091738817667403, 2.0690452269867246, 2.09326208742311, 2.054727338481947, 2.100987674114245, 2.1312752591879085, 2.1685835133437936, 2.1532981062199466, 2.1739134082916136, 2.17137677860035, 2.168015914142635, 2.1611210324034955, 2.172103175300335, 2.1867391815936226, 2.190155460028931, 2.171555473257871, 2.0477983229683585, 2.084631103685927, 2.1008876269674523, 2.0162867739872756, 1.9986100331788428, 2.03223377748242, 2.022518447984462, 2.005609435509062, 2.0044102008861278, 2.052495197114317, 2.026487333736906, 2.062201165543656, 2.0625643289737816, 2.094285776995655, 2.069019562331435, 2.108090044341653, 2.1035151035102375, 2.1320025171853167, 2.077540178323231, 2.0861261435182157, 2.0636589217762786, 2.0376829108672982, 2.0218041461432694, 2.0454390856636397, 2.0855885017471505, 2.12883792327316, 2.149930758195508, 2.1555850976959126, 2.1536802283633527, 2.202844490134931, 2.196095806469593, 2.1802114318251404, 2.209370866062636, 2.20689050102685, 2.224035129583627, 2.24155706865766, 2.2567171785418387, 2.2677917819702578, 2.2485100702384027, 2.2287951980672562, 2.2168011588387744, 2.2142325921507404, 2.2378563171028163, 2.2549759085245, 2.2480168530223184, 2.2673283217083795, 2.244193148818636, 2.239909172411377, 2.297767712099717, 2.2589539164993955, 2.300835805061116, 2.286413470313872, 2.3054440676977817, 2.3200305711394065, 2.341710894072945, 2.272916840328525, 2.269730005135229, 2.323241529630158, 2.280499209362573, 2.2854223617175005, 2.212828201262626, 2.250135021095115, 2.2171059950744763, 2.2621843105676516, 2.2553996274590746, 2.276306670863583, 2.2619643339121085, 2.2563093942556978, 2.289117982204311, 2.2878952037907223, 2.299352479396695, 2.304997370296849, 2.289422022999277, 2.2730820233686377, 2.2932949090468298, 2.2839561476527233, 2.2773437434653196, 2.3056014264144062, 2.3096243433542356, 2.2716368692953077, 2.2466138836047658, 2.24119759127946, 2.224692973779073, 2.213620701545197, 2.2261764369557273, 2.229509599821798, 2.1859176748572344, 2.225543171854454, 2.2451976948393226, 2.258485929305572, 2.2444267459245157, 2.29155914492227, 2.2857445007351194, 2.2975018789507855, 2.3372346505501027, 2.285860318464807, 2.2984930953436726, 2.2916672322996865, 2.2909357104767856, 2.2716189339669786, 2.250458697793336, 2.213276690308439, 2.2199897652934055, 2.2413216833294993, 2.254497949381125, 2.2532743054869697, 2.2614149692875993, 2.257457277695726, 2.2877954006065853, 2.278797327763605, 2.2594286048119527, 2.2801197489669374, 2.2859821541286003, 2.2904895640283307, 2.3134199318820405, 2.3325447920035334, 2.356710086810854, 2.3440821576300763, 2.3401964927871295, 2.3367885150642476, 2.3617811103092534, 2.315458176835416, 2.295463255520272, 2.277568797963927, 2.3117389164544866, 2.3370672214991575, 2.367436668591594, 2.365475833586035, 2.3655480420051798, 2.3395693495817125, 2.381806367523814, 2.3716060536695136, 2.3490973642556647, 2.3706240530898186, 2.3449673265837596, 2.3623663219078685, 2.3695726663387817, 2.302884633146606, 2.3369514945244854, 2.2924975643639964, 2.324716727217135, 2.3326301569489956, 2.349568397515961, 2.3304408444242286, 2.2829433251114932, 2.227241227426059, 2.2264539473401275, 2.284564061503917, 2.33211500377535, 2.3141978257966174, 2.3180243637429325, 2.266886323859785, 2.281614781365438, 2.2861921150005906, 2.3229016770196447, 2.3062820781178592, 2.3280309551624203, 2.3230607144458224, 2.3390996846816634, 2.361750711724553, 2.3610202078888887, 2.388153105837783, 2.4096482230746843, 2.424708333343067, 2.446844965007424, 2.4220328304271823, 2.445318728147534, 2.4032059185061496, 2.3768354272645738, 2.433670426962828, 2.402638911029413, 2.378450702202128, 2.3883209780692947, 2.3625687314395414, 2.4043666028919097, 2.4121659417715158]}, {\"name\": \"Carteira MV\", \"type\": \"scatter\", \"x\": [\"2020-05-04T00:00:00\", \"2020-05-05T00:00:00\", \"2020-05-06T00:00:00\", \"2020-05-07T00:00:00\", \"2020-05-08T00:00:00\", \"2020-05-11T00:00:00\", \"2020-05-12T00:00:00\", \"2020-05-13T00:00:00\", \"2020-05-14T00:00:00\", \"2020-05-15T00:00:00\", \"2020-05-18T00:00:00\", \"2020-05-19T00:00:00\", \"2020-05-20T00:00:00\", \"2020-05-21T00:00:00\", \"2020-05-22T00:00:00\", \"2020-05-25T00:00:00\", \"2020-05-26T00:00:00\", \"2020-05-27T00:00:00\", \"2020-05-28T00:00:00\", \"2020-05-29T00:00:00\", \"2020-06-01T00:00:00\", \"2020-06-02T00:00:00\", \"2020-06-03T00:00:00\", \"2020-06-04T00:00:00\", \"2020-06-05T00:00:00\", \"2020-06-08T00:00:00\", \"2020-06-09T00:00:00\", \"2020-06-10T00:00:00\", \"2020-06-12T00:00:00\", \"2020-06-15T00:00:00\", \"2020-06-16T00:00:00\", \"2020-06-17T00:00:00\", \"2020-06-18T00:00:00\", \"2020-06-19T00:00:00\", \"2020-06-22T00:00:00\", \"2020-06-23T00:00:00\", \"2020-06-24T00:00:00\", \"2020-06-25T00:00:00\", \"2020-06-26T00:00:00\", \"2020-06-29T00:00:00\", \"2020-06-30T00:00:00\", \"2020-07-01T00:00:00\", \"2020-07-02T00:00:00\", \"2020-07-03T00:00:00\", \"2020-07-06T00:00:00\", \"2020-07-07T00:00:00\", \"2020-07-08T00:00:00\", \"2020-07-09T00:00:00\", \"2020-07-10T00:00:00\", \"2020-07-13T00:00:00\", \"2020-07-14T00:00:00\", \"2020-07-15T00:00:00\", \"2020-07-16T00:00:00\", \"2020-07-17T00:00:00\", \"2020-07-20T00:00:00\", \"2020-07-21T00:00:00\", \"2020-07-22T00:00:00\", \"2020-07-23T00:00:00\", \"2020-07-24T00:00:00\", \"2020-07-27T00:00:00\", \"2020-07-28T00:00:00\", \"2020-07-29T00:00:00\", \"2020-07-30T00:00:00\", \"2020-07-31T00:00:00\", \"2020-08-03T00:00:00\", \"2020-08-04T00:00:00\", \"2020-08-05T00:00:00\", \"2020-08-06T00:00:00\", \"2020-08-07T00:00:00\", \"2020-08-10T00:00:00\", \"2020-08-11T00:00:00\", \"2020-08-12T00:00:00\", \"2020-08-13T00:00:00\", \"2020-08-14T00:00:00\", \"2020-08-17T00:00:00\", \"2020-08-18T00:00:00\", \"2020-08-19T00:00:00\", \"2020-08-20T00:00:00\", \"2020-08-21T00:00:00\", \"2020-08-24T00:00:00\", \"2020-08-25T00:00:00\", \"2020-08-26T00:00:00\", \"2020-08-27T00:00:00\", \"2020-08-28T00:00:00\", \"2020-08-31T00:00:00\", \"2020-09-01T00:00:00\", \"2020-09-02T00:00:00\", \"2020-09-03T00:00:00\", \"2020-09-04T00:00:00\", \"2020-09-08T00:00:00\", \"2020-09-09T00:00:00\", \"2020-09-10T00:00:00\", \"2020-09-11T00:00:00\", \"2020-09-14T00:00:00\", \"2020-09-15T00:00:00\", \"2020-09-16T00:00:00\", \"2020-09-17T00:00:00\", \"2020-09-18T00:00:00\", \"2020-09-21T00:00:00\", \"2020-09-22T00:00:00\", \"2020-09-23T00:00:00\", \"2020-09-24T00:00:00\", \"2020-09-25T00:00:00\", \"2020-09-28T00:00:00\", \"2020-09-29T00:00:00\", \"2020-09-30T00:00:00\", \"2020-10-01T00:00:00\", \"2020-10-02T00:00:00\", \"2020-10-05T00:00:00\", \"2020-10-06T00:00:00\", \"2020-10-07T00:00:00\", \"2020-10-08T00:00:00\", \"2020-10-14T00:00:00\", \"2020-10-15T00:00:00\", \"2020-10-16T00:00:00\", \"2020-10-19T00:00:00\", \"2020-10-20T00:00:00\", \"2020-10-21T00:00:00\", \"2020-10-22T00:00:00\", \"2020-10-23T00:00:00\", \"2020-10-26T00:00:00\", \"2020-10-27T00:00:00\", \"2020-10-28T00:00:00\", \"2020-10-29T00:00:00\", \"2020-10-30T00:00:00\", \"2020-11-03T00:00:00\", \"2020-11-04T00:00:00\", \"2020-11-05T00:00:00\", \"2020-11-06T00:00:00\", \"2020-11-09T00:00:00\", \"2020-11-10T00:00:00\", \"2020-11-11T00:00:00\", \"2020-11-12T00:00:00\", \"2020-11-13T00:00:00\", \"2020-11-16T00:00:00\", \"2020-11-17T00:00:00\", \"2020-11-18T00:00:00\", \"2020-11-19T00:00:00\", \"2020-11-23T00:00:00\", \"2020-11-24T00:00:00\", \"2020-11-25T00:00:00\", \"2020-11-26T00:00:00\", \"2020-11-27T00:00:00\", \"2020-11-30T00:00:00\", \"2020-12-01T00:00:00\", \"2020-12-02T00:00:00\", \"2020-12-03T00:00:00\", \"2020-12-04T00:00:00\", \"2020-12-07T00:00:00\", \"2020-12-08T00:00:00\", \"2020-12-09T00:00:00\", \"2020-12-10T00:00:00\", \"2020-12-11T00:00:00\", \"2020-12-14T00:00:00\", \"2020-12-15T00:00:00\", \"2020-12-16T00:00:00\", \"2020-12-17T00:00:00\", \"2020-12-18T00:00:00\", \"2020-12-21T00:00:00\", \"2020-12-22T00:00:00\", \"2020-12-23T00:00:00\", \"2020-12-28T00:00:00\", \"2020-12-29T00:00:00\", \"2020-12-30T00:00:00\", \"2021-01-04T00:00:00\", \"2021-01-05T00:00:00\", \"2021-01-06T00:00:00\", \"2021-01-07T00:00:00\", \"2021-01-08T00:00:00\", \"2021-01-11T00:00:00\", \"2021-01-12T00:00:00\", \"2021-01-13T00:00:00\", \"2021-01-14T00:00:00\", \"2021-01-15T00:00:00\", \"2021-01-18T00:00:00\", \"2021-01-19T00:00:00\", \"2021-01-20T00:00:00\", \"2021-01-21T00:00:00\", \"2021-01-22T00:00:00\", \"2021-01-26T00:00:00\", \"2021-01-27T00:00:00\", \"2021-01-28T00:00:00\", \"2021-01-29T00:00:00\", \"2021-02-01T00:00:00\", \"2021-02-02T00:00:00\", \"2021-02-03T00:00:00\", \"2021-02-04T00:00:00\", \"2021-02-05T00:00:00\", \"2021-02-08T00:00:00\", \"2021-02-09T00:00:00\", \"2021-02-10T00:00:00\", \"2021-02-11T00:00:00\", \"2021-02-12T00:00:00\", \"2021-02-18T00:00:00\", \"2021-02-19T00:00:00\", \"2021-02-22T00:00:00\", \"2021-02-23T00:00:00\", \"2021-02-24T00:00:00\", \"2021-02-25T00:00:00\", \"2021-02-26T00:00:00\", \"2021-03-01T00:00:00\", \"2021-03-02T00:00:00\", \"2021-03-03T00:00:00\", \"2021-03-04T00:00:00\", \"2021-03-05T00:00:00\", \"2021-03-08T00:00:00\", \"2021-03-09T00:00:00\", \"2021-03-10T00:00:00\", \"2021-03-11T00:00:00\", \"2021-03-12T00:00:00\", \"2021-03-15T00:00:00\", \"2021-03-16T00:00:00\", \"2021-03-17T00:00:00\", \"2021-03-18T00:00:00\", \"2021-03-19T00:00:00\", \"2021-03-22T00:00:00\", \"2021-03-23T00:00:00\", \"2021-03-24T00:00:00\", \"2021-03-25T00:00:00\", \"2021-03-26T00:00:00\", \"2021-03-29T00:00:00\", \"2021-03-30T00:00:00\", \"2021-03-31T00:00:00\", \"2021-04-01T00:00:00\", \"2021-04-05T00:00:00\", \"2021-04-06T00:00:00\", \"2021-04-07T00:00:00\", \"2021-04-08T00:00:00\", \"2021-04-09T00:00:00\", \"2021-04-12T00:00:00\", \"2021-04-13T00:00:00\", \"2021-04-14T00:00:00\", \"2021-04-15T00:00:00\", \"2021-04-16T00:00:00\", \"2021-04-19T00:00:00\", \"2021-04-20T00:00:00\", \"2021-04-22T00:00:00\", \"2021-04-23T00:00:00\", \"2021-04-26T00:00:00\", \"2021-04-27T00:00:00\", \"2021-04-28T00:00:00\", \"2021-04-29T00:00:00\", \"2021-04-30T00:00:00\", \"2021-05-03T00:00:00\", \"2021-05-04T00:00:00\", \"2021-05-05T00:00:00\", \"2021-05-06T00:00:00\", \"2021-05-07T00:00:00\", \"2021-05-10T00:00:00\", \"2021-05-11T00:00:00\", \"2021-05-12T00:00:00\", \"2021-05-13T00:00:00\", \"2021-05-14T00:00:00\", \"2021-05-17T00:00:00\", \"2021-05-18T00:00:00\", \"2021-05-19T00:00:00\", \"2021-05-20T00:00:00\", \"2021-05-21T00:00:00\", \"2021-05-24T00:00:00\", \"2021-05-25T00:00:00\", \"2021-05-26T00:00:00\", \"2021-05-27T00:00:00\", \"2021-05-28T00:00:00\", \"2021-05-31T00:00:00\", \"2021-06-01T00:00:00\", \"2021-06-02T00:00:00\", \"2021-06-04T00:00:00\", \"2021-06-07T00:00:00\", \"2021-06-08T00:00:00\", \"2021-06-09T00:00:00\", \"2021-06-10T00:00:00\", \"2021-06-11T00:00:00\", \"2021-06-14T00:00:00\", \"2021-06-15T00:00:00\", \"2021-06-16T00:00:00\", \"2021-06-17T00:00:00\", \"2021-06-18T00:00:00\", \"2021-06-21T00:00:00\", \"2021-06-22T00:00:00\", \"2021-06-23T00:00:00\", \"2021-06-24T00:00:00\", \"2021-06-25T00:00:00\", \"2021-06-28T00:00:00\", \"2021-06-29T00:00:00\", \"2021-06-30T00:00:00\", \"2021-07-01T00:00:00\", \"2021-07-02T00:00:00\", \"2021-07-05T00:00:00\", \"2021-07-06T00:00:00\", \"2021-07-07T00:00:00\", \"2021-07-08T00:00:00\", \"2021-07-12T00:00:00\", \"2021-07-13T00:00:00\", \"2021-07-14T00:00:00\", \"2021-07-15T00:00:00\", \"2021-07-16T00:00:00\", \"2021-07-19T00:00:00\", \"2021-07-20T00:00:00\", \"2021-07-21T00:00:00\", \"2021-07-22T00:00:00\", \"2021-07-23T00:00:00\", \"2021-07-26T00:00:00\", \"2021-07-27T00:00:00\", \"2021-07-28T00:00:00\", \"2021-07-29T00:00:00\", \"2021-07-30T00:00:00\", \"2021-08-02T00:00:00\", \"2021-08-03T00:00:00\", \"2021-08-04T00:00:00\", \"2021-08-05T00:00:00\", \"2021-08-06T00:00:00\", \"2021-08-09T00:00:00\", \"2021-08-10T00:00:00\", \"2021-08-11T00:00:00\", \"2021-08-12T00:00:00\", \"2021-08-13T00:00:00\", \"2021-08-16T00:00:00\", \"2021-08-17T00:00:00\", \"2021-08-18T00:00:00\", \"2021-08-19T00:00:00\", \"2021-08-20T00:00:00\", \"2021-08-23T00:00:00\", \"2021-08-24T00:00:00\", \"2021-08-25T00:00:00\", \"2021-08-26T00:00:00\", \"2021-08-27T00:00:00\", \"2021-08-30T00:00:00\", \"2021-08-31T00:00:00\", \"2021-09-01T00:00:00\", \"2021-09-02T00:00:00\", \"2021-09-03T00:00:00\", \"2021-09-06T00:00:00\", \"2021-09-08T00:00:00\", \"2021-09-09T00:00:00\", \"2021-09-10T00:00:00\", \"2021-09-13T00:00:00\", \"2021-09-14T00:00:00\", \"2021-09-15T00:00:00\", \"2021-09-16T00:00:00\", \"2021-09-17T00:00:00\", \"2021-09-20T00:00:00\", \"2021-09-21T00:00:00\", \"2021-09-22T00:00:00\", \"2021-09-23T00:00:00\", \"2021-09-24T00:00:00\", \"2021-09-27T00:00:00\", \"2021-09-28T00:00:00\", \"2021-09-29T00:00:00\", \"2021-09-30T00:00:00\", \"2021-10-01T00:00:00\", \"2021-10-04T00:00:00\", \"2021-10-05T00:00:00\", \"2021-10-06T00:00:00\", \"2021-10-07T00:00:00\", \"2021-10-08T00:00:00\", \"2021-10-11T00:00:00\", \"2021-10-13T00:00:00\", \"2021-10-14T00:00:00\", \"2021-10-15T00:00:00\", \"2021-10-18T00:00:00\", \"2021-10-19T00:00:00\", \"2021-10-20T00:00:00\", \"2021-10-21T00:00:00\", \"2021-10-22T00:00:00\", \"2021-10-25T00:00:00\", \"2021-10-26T00:00:00\", \"2021-10-27T00:00:00\", \"2021-10-28T00:00:00\", \"2021-10-29T00:00:00\", \"2021-11-01T00:00:00\", \"2021-11-03T00:00:00\"], \"y\": [1.0, 1.016524782110452, 1.0289121911843366, 1.037590714865641, 1.0383804031902175, 1.0395937563906477, 1.0348206127545045, 1.026965199596668, 1.024788841884769, 1.0273889606141398, 1.0353724093151848, 1.0389721302391408, 1.0371223065487154, 1.037903525898029, 1.0439113008439163, 1.0511362965822875, 1.0477427774898755, 1.0584595816373765, 1.059887601060267, 1.0664375093946392, 1.065266723533811, 1.0709747755221906, 1.0755890294956796, 1.0817325214687128, 1.0831725728731538, 1.0871205494560328, 1.0827362673935397, 1.075728193616218, 1.0602972125476273, 1.063755332707476, 1.0771946456737822, 1.0892655087450733, 1.0974851087611468, 1.0965049844922796, 1.0907516634617218, 1.0895200102420812, 1.078983575387328, 1.0871032414380772, 1.0826063201044283, 1.0898210016810064, 1.092630615511818, 1.0951495989400233, 1.0965953094079655, 1.0931198373177116, 1.0977455475704208, 1.0905064995263565, 1.0901587226259193, 1.0756282245332203, 1.0729710895638753, 1.0645351402307486, 1.0675105594532799, 1.0741518205838, 1.0672169101319389, 1.0725327813783208, 1.0783074091531204, 1.0777589157373468, 1.0744710635791528, 1.0711712715512784, 1.066566959056679, 1.0644939218351004, 1.0570041212877919, 1.0608691303350821, 1.064669400857901, 1.0658525353876749, 1.0680826453387806, 1.0666155751309356, 1.0762509944360725, 1.0739519160207731, 1.0794896848399465, 1.083612483818257, 1.0777561805473068, 1.085758222016934, 1.0832624745658943, 1.0898785826661614, 1.0818301588362016, 1.0934139492291155, 1.0957849225581329, 1.1053872111900644, 1.1212701770344724, 1.1219715271580366, 1.117200850542374, 1.1163038188711754, 1.1190182819333983, 1.1140915003161866, 1.1124126888975487, 1.1172036616464527, 1.121504608584834, 1.1053594058384775, 1.1078888941705551, 1.1004338743945614, 1.1014750318283808, 1.092935229777, 1.0931116664204057, 1.0993715971890707, 1.1059381767391592, 1.1015295588849665, 1.0968663557593508, 1.0946988993065565, 1.0901764697500194, 1.0986886215543936, 1.094699748836119, 1.095784793887043, 1.09852777345282, 1.0989765692479279, 1.0959035130446972, 1.100639316014232, 1.1064223478468933, 1.109134537513048, 1.111062610718306, 1.1088121776826998, 1.1146421279771979, 1.118802615902764, 1.1291817994414757, 1.1271966066050534, 1.1281758415825789, 1.1199158383733157, 1.126357427131924, 1.1261613344260257, 1.1225158634117904, 1.1185031754770942, 1.107747355469428, 1.1094974043700698, 1.0874827110675591, 1.0923508745448096, 1.080618912851813, 1.0893400731363114, 1.098641851471376, 1.1038553625725214, 1.0953796239818683, 1.1093762685726862, 1.1188270258532247, 1.117484693629183, 1.1121623466421828, 1.1240651503865915, 1.1314133706681067, 1.1233055295572567, 1.111703406110067, 1.1144900183780402, 1.1234433814247975, 1.1281550000792342, 1.12391778021604, 1.1220815758820661, 1.127898934224898, 1.124318960825284, 1.1196670862532723, 1.1166214595393007, 1.115289831815272, 1.1155821872650744, 1.108675504709926, 1.1049993374203329, 1.1061564758224613, 1.1000848789969029, 1.101264179240438, 1.1072474679376776, 1.1175780510941715, 1.122056082703902, 1.1225217069241142, 1.1241644792484202, 1.1214952880278533, 1.127280228954924, 1.1375656061104296, 1.1459953595888523, 1.1500067444607787, 1.1421122406197843, 1.1398018999587116, 1.1398550597783912, 1.1425445009900863, 1.1511065772496911, 1.1564393094802758, 1.1573333394171395, 1.1512503700963619, 1.1484529759640274, 1.1504399720041887, 1.1472079896199217, 1.1511973184843458, 1.1554659474206765, 1.152980522639328, 1.1515522783587466, 1.1512979399429364, 1.1492668221510158, 1.1407946227827561, 1.1506309470847083, 1.1419608649060042, 1.1454331043014978, 1.1515072835337192, 1.151556992213592, 1.1512036758576827, 1.1552801359627687, 1.1548931049784261, 1.1555837832234825, 1.154392808099894, 1.1572185774129717, 1.1614701082821413, 1.1530612812350876, 1.1509408076427612, 1.1416128345543064, 1.144012192103821, 1.1480444848580746, 1.1361416569439533, 1.132261465453387, 1.1352317401201037, 1.1313535063450546, 1.1239335449817567, 1.1205142743544172, 1.128792912902275, 1.1224038247116537, 1.127241774501649, 1.1260736269167109, 1.1216553304666508, 1.1210686523985385, 1.1344643431198274, 1.1340332252696237, 1.1337107424410078, 1.1096966105935024, 1.1080365428233099, 1.108515257467031, 1.0989731777682334, 1.0914793973593682, 1.0970843612717325, 1.1107890310691348, 1.1211763303110514, 1.1319101932010085, 1.136400123039356, 1.1415196397634266, 1.1433326061307043, 1.1297675222255708, 1.1308975393816534, 1.1385869050346356, 1.1386361356290475, 1.1447722676047727, 1.144382014030201, 1.1485994995043696, 1.1561178354283905, 1.1543986489023363, 1.14272002474436, 1.1388920316839939, 1.1330047147303905, 1.140387604227048, 1.1422308839593132, 1.1451520664177217, 1.144728125539223, 1.136302636985059, 1.1434657358805733, 1.1453218026441843, 1.1415239323344342, 1.139374039209451, 1.1386142910440278, 1.132527607905561, 1.147460598756988, 1.155909310052226, 1.1452732535339132, 1.1449028753290604, 1.1466281639220601, 1.146689058952852, 1.1417145808396023, 1.1359131678870842, 1.138290010001946, 1.1406305351427852, 1.1472591703385528, 1.1429663638489276, 1.1354568733218473, 1.1345952060191162, 1.1377748981160578, 1.1407929855674976, 1.1249446674218906, 1.118753525476494, 1.1196755036141355, 1.122632139343103, 1.1203934494096934, 1.1210177397624492, 1.1191181180542378, 1.1222683597797742, 1.1170546252463138, 1.1155825415239549, 1.1131601557058814, 1.1092501156831014, 1.1041837771486616, 1.1055626060886312, 1.101820986602652, 1.0926087064922185, 1.0939308976719007, 1.0768846910356504, 1.0745395588115825, 1.087299936046634, 1.099758563462055, 1.1030573718859318, 1.1077671458381197, 1.0987437137924978, 1.1058947841973439, 1.1210391964795003, 1.1161193244406435, 1.1223540175984987, 1.1321369498296718, 1.1240509400594372, 1.1299394225654296, 1.1208126739681818, 1.120090276730859, 1.125149498530319, 1.1225858518157874, 1.124330007284965, 1.1220981835194697, 1.1183675208146626, 1.1166522133432408, 1.114930127814733, 1.1109149257518922, 1.1125886978183515, 1.1133469889558851, 1.1116156777982782, 1.1063310529427288, 1.101000592996918, 1.1057895946922378, 1.1053679463041968, 1.0992410527081817, 1.097780160118062, 1.1005549408807465, 1.0957380935564716, 1.0942747418493468, 1.0858766723689475, 1.0841229667197247, 1.0872722309247915, 1.0953690303207197, 1.112623289124886, 1.1124860673914485, 1.1111739424671645, 1.1134353160581545, 1.113235062668151, 1.116141929836462, 1.1137262522057771, 1.1134602867428873, 1.1070277002031024, 1.1114513347878725, 1.1139272492436398, 1.1056037818955733, 1.1059586989601469, 1.0982049267393053, 1.084381604718049, 1.0996991768843878, 1.1023387192664387, 1.102971198707625, 1.1088359790133355, 1.0897908101382119, 1.0976649836351402, 1.1016456682344162, 1.1039602783657054, 1.1052703375510684, 1.1149363053825323, 1.0981748486764058, 1.0973281274772428, 1.1098364394761706, 1.103134925484979, 1.0993990337538566, 1.1054548453322843, 1.1060650088779318, 1.1117803929194383, 1.1178180991548954, 1.1174979690253406, 1.11974124459619, 1.1159284909843525, 1.1185012399853085, 1.1213413412686666, 1.113536720421481, 1.1160342413871498, 1.111670467791223, 1.1046147875619123, 1.1093032395403788, 1.0986829880576785, 1.096626487692461, 1.0966806157622377, 1.0951805751201642, 1.1035989789200962, 1.0903920987365452]}, {\"name\": \"Carteira MV2\", \"type\": \"scatter\", \"x\": [\"2020-05-04T00:00:00\", \"2020-05-05T00:00:00\", \"2020-05-06T00:00:00\", \"2020-05-07T00:00:00\", \"2020-05-08T00:00:00\", \"2020-05-11T00:00:00\", \"2020-05-12T00:00:00\", \"2020-05-13T00:00:00\", \"2020-05-14T00:00:00\", \"2020-05-15T00:00:00\", \"2020-05-18T00:00:00\", \"2020-05-19T00:00:00\", \"2020-05-20T00:00:00\", \"2020-05-21T00:00:00\", \"2020-05-22T00:00:00\", \"2020-05-25T00:00:00\", \"2020-05-26T00:00:00\", \"2020-05-27T00:00:00\", \"2020-05-28T00:00:00\", \"2020-05-29T00:00:00\", \"2020-06-01T00:00:00\", \"2020-06-02T00:00:00\", \"2020-06-03T00:00:00\", \"2020-06-04T00:00:00\", \"2020-06-05T00:00:00\", \"2020-06-08T00:00:00\", \"2020-06-09T00:00:00\", \"2020-06-10T00:00:00\", \"2020-06-12T00:00:00\", \"2020-06-15T00:00:00\", \"2020-06-16T00:00:00\", \"2020-06-17T00:00:00\", \"2020-06-18T00:00:00\", \"2020-06-19T00:00:00\", \"2020-06-22T00:00:00\", \"2020-06-23T00:00:00\", \"2020-06-24T00:00:00\", \"2020-06-25T00:00:00\", \"2020-06-26T00:00:00\", \"2020-06-29T00:00:00\", \"2020-06-30T00:00:00\", \"2020-07-01T00:00:00\", \"2020-07-02T00:00:00\", \"2020-07-03T00:00:00\", \"2020-07-06T00:00:00\", \"2020-07-07T00:00:00\", \"2020-07-08T00:00:00\", \"2020-07-09T00:00:00\", \"2020-07-10T00:00:00\", \"2020-07-13T00:00:00\", \"2020-07-14T00:00:00\", \"2020-07-15T00:00:00\", \"2020-07-16T00:00:00\", \"2020-07-17T00:00:00\", \"2020-07-20T00:00:00\", \"2020-07-21T00:00:00\", \"2020-07-22T00:00:00\", \"2020-07-23T00:00:00\", \"2020-07-24T00:00:00\", \"2020-07-27T00:00:00\", \"2020-07-28T00:00:00\", \"2020-07-29T00:00:00\", \"2020-07-30T00:00:00\", \"2020-07-31T00:00:00\", \"2020-08-03T00:00:00\", \"2020-08-04T00:00:00\", \"2020-08-05T00:00:00\", \"2020-08-06T00:00:00\", \"2020-08-07T00:00:00\", \"2020-08-10T00:00:00\", \"2020-08-11T00:00:00\", \"2020-08-12T00:00:00\", \"2020-08-13T00:00:00\", \"2020-08-14T00:00:00\", \"2020-08-17T00:00:00\", \"2020-08-18T00:00:00\", \"2020-08-19T00:00:00\", \"2020-08-20T00:00:00\", \"2020-08-21T00:00:00\", \"2020-08-24T00:00:00\", \"2020-08-25T00:00:00\", \"2020-08-26T00:00:00\", \"2020-08-27T00:00:00\", \"2020-08-28T00:00:00\", \"2020-08-31T00:00:00\", \"2020-09-01T00:00:00\", \"2020-09-02T00:00:00\", \"2020-09-03T00:00:00\", \"2020-09-04T00:00:00\", \"2020-09-08T00:00:00\", \"2020-09-09T00:00:00\", \"2020-09-10T00:00:00\", \"2020-09-11T00:00:00\", \"2020-09-14T00:00:00\", \"2020-09-15T00:00:00\", \"2020-09-16T00:00:00\", \"2020-09-17T00:00:00\", \"2020-09-18T00:00:00\", \"2020-09-21T00:00:00\", \"2020-09-22T00:00:00\", \"2020-09-23T00:00:00\", \"2020-09-24T00:00:00\", \"2020-09-25T00:00:00\", \"2020-09-28T00:00:00\", \"2020-09-29T00:00:00\", \"2020-09-30T00:00:00\", \"2020-10-01T00:00:00\", \"2020-10-02T00:00:00\", \"2020-10-05T00:00:00\", \"2020-10-06T00:00:00\", \"2020-10-07T00:00:00\", \"2020-10-08T00:00:00\", \"2020-10-14T00:00:00\", \"2020-10-15T00:00:00\", \"2020-10-16T00:00:00\", \"2020-10-19T00:00:00\", \"2020-10-20T00:00:00\", \"2020-10-21T00:00:00\", \"2020-10-22T00:00:00\", \"2020-10-23T00:00:00\", \"2020-10-26T00:00:00\", \"2020-10-27T00:00:00\", \"2020-10-28T00:00:00\", \"2020-10-29T00:00:00\", \"2020-10-30T00:00:00\", \"2020-11-03T00:00:00\", \"2020-11-04T00:00:00\", \"2020-11-05T00:00:00\", \"2020-11-06T00:00:00\", \"2020-11-09T00:00:00\", \"2020-11-10T00:00:00\", \"2020-11-11T00:00:00\", \"2020-11-12T00:00:00\", \"2020-11-13T00:00:00\", \"2020-11-16T00:00:00\", \"2020-11-17T00:00:00\", \"2020-11-18T00:00:00\", \"2020-11-19T00:00:00\", \"2020-11-23T00:00:00\", \"2020-11-24T00:00:00\", \"2020-11-25T00:00:00\", \"2020-11-26T00:00:00\", \"2020-11-27T00:00:00\", \"2020-11-30T00:00:00\", \"2020-12-01T00:00:00\", \"2020-12-02T00:00:00\", \"2020-12-03T00:00:00\", \"2020-12-04T00:00:00\", \"2020-12-07T00:00:00\", \"2020-12-08T00:00:00\", \"2020-12-09T00:00:00\", \"2020-12-10T00:00:00\", \"2020-12-11T00:00:00\", \"2020-12-14T00:00:00\", \"2020-12-15T00:00:00\", \"2020-12-16T00:00:00\", \"2020-12-17T00:00:00\", \"2020-12-18T00:00:00\", \"2020-12-21T00:00:00\", \"2020-12-22T00:00:00\", \"2020-12-23T00:00:00\", \"2020-12-28T00:00:00\", \"2020-12-29T00:00:00\", \"2020-12-30T00:00:00\", \"2021-01-04T00:00:00\", \"2021-01-05T00:00:00\", \"2021-01-06T00:00:00\", \"2021-01-07T00:00:00\", \"2021-01-08T00:00:00\", \"2021-01-11T00:00:00\", \"2021-01-12T00:00:00\", \"2021-01-13T00:00:00\", \"2021-01-14T00:00:00\", \"2021-01-15T00:00:00\", \"2021-01-18T00:00:00\", \"2021-01-19T00:00:00\", \"2021-01-20T00:00:00\", \"2021-01-21T00:00:00\", \"2021-01-22T00:00:00\", \"2021-01-26T00:00:00\", \"2021-01-27T00:00:00\", \"2021-01-28T00:00:00\", \"2021-01-29T00:00:00\", \"2021-02-01T00:00:00\", \"2021-02-02T00:00:00\", \"2021-02-03T00:00:00\", \"2021-02-04T00:00:00\", \"2021-02-05T00:00:00\", \"2021-02-08T00:00:00\", \"2021-02-09T00:00:00\", \"2021-02-10T00:00:00\", \"2021-02-11T00:00:00\", \"2021-02-12T00:00:00\", \"2021-02-18T00:00:00\", \"2021-02-19T00:00:00\", \"2021-02-22T00:00:00\", \"2021-02-23T00:00:00\", \"2021-02-24T00:00:00\", \"2021-02-25T00:00:00\", \"2021-02-26T00:00:00\", \"2021-03-01T00:00:00\", \"2021-03-02T00:00:00\", \"2021-03-03T00:00:00\", \"2021-03-04T00:00:00\", \"2021-03-05T00:00:00\", \"2021-03-08T00:00:00\", \"2021-03-09T00:00:00\", \"2021-03-10T00:00:00\", \"2021-03-11T00:00:00\", \"2021-03-12T00:00:00\", \"2021-03-15T00:00:00\", \"2021-03-16T00:00:00\", \"2021-03-17T00:00:00\", \"2021-03-18T00:00:00\", \"2021-03-19T00:00:00\", \"2021-03-22T00:00:00\", \"2021-03-23T00:00:00\", \"2021-03-24T00:00:00\", \"2021-03-25T00:00:00\", \"2021-03-26T00:00:00\", \"2021-03-29T00:00:00\", \"2021-03-30T00:00:00\", \"2021-03-31T00:00:00\", \"2021-04-01T00:00:00\", \"2021-04-05T00:00:00\", \"2021-04-06T00:00:00\", \"2021-04-07T00:00:00\", \"2021-04-08T00:00:00\", \"2021-04-09T00:00:00\", \"2021-04-12T00:00:00\", \"2021-04-13T00:00:00\", \"2021-04-14T00:00:00\", \"2021-04-15T00:00:00\", \"2021-04-16T00:00:00\", \"2021-04-19T00:00:00\", \"2021-04-20T00:00:00\", \"2021-04-22T00:00:00\", \"2021-04-23T00:00:00\", \"2021-04-26T00:00:00\", \"2021-04-27T00:00:00\", \"2021-04-28T00:00:00\", \"2021-04-29T00:00:00\", \"2021-04-30T00:00:00\", \"2021-05-03T00:00:00\", \"2021-05-04T00:00:00\", \"2021-05-05T00:00:00\", \"2021-05-06T00:00:00\", \"2021-05-07T00:00:00\", \"2021-05-10T00:00:00\", \"2021-05-11T00:00:00\", \"2021-05-12T00:00:00\", \"2021-05-13T00:00:00\", \"2021-05-14T00:00:00\", \"2021-05-17T00:00:00\", \"2021-05-18T00:00:00\", \"2021-05-19T00:00:00\", \"2021-05-20T00:00:00\", \"2021-05-21T00:00:00\", \"2021-05-24T00:00:00\", \"2021-05-25T00:00:00\", \"2021-05-26T00:00:00\", \"2021-05-27T00:00:00\", \"2021-05-28T00:00:00\", \"2021-05-31T00:00:00\", \"2021-06-01T00:00:00\", \"2021-06-02T00:00:00\", \"2021-06-04T00:00:00\", \"2021-06-07T00:00:00\", \"2021-06-08T00:00:00\", \"2021-06-09T00:00:00\", \"2021-06-10T00:00:00\", \"2021-06-11T00:00:00\", \"2021-06-14T00:00:00\", \"2021-06-15T00:00:00\", \"2021-06-16T00:00:00\", \"2021-06-17T00:00:00\", \"2021-06-18T00:00:00\", \"2021-06-21T00:00:00\", \"2021-06-22T00:00:00\", \"2021-06-23T00:00:00\", \"2021-06-24T00:00:00\", \"2021-06-25T00:00:00\", \"2021-06-28T00:00:00\", \"2021-06-29T00:00:00\", \"2021-06-30T00:00:00\", \"2021-07-01T00:00:00\", \"2021-07-02T00:00:00\", \"2021-07-05T00:00:00\", \"2021-07-06T00:00:00\", \"2021-07-07T00:00:00\", \"2021-07-08T00:00:00\", \"2021-07-12T00:00:00\", \"2021-07-13T00:00:00\", \"2021-07-14T00:00:00\", \"2021-07-15T00:00:00\", \"2021-07-16T00:00:00\", \"2021-07-19T00:00:00\", \"2021-07-20T00:00:00\", \"2021-07-21T00:00:00\", \"2021-07-22T00:00:00\", \"2021-07-23T00:00:00\", \"2021-07-26T00:00:00\", \"2021-07-27T00:00:00\", \"2021-07-28T00:00:00\", \"2021-07-29T00:00:00\", \"2021-07-30T00:00:00\", \"2021-08-02T00:00:00\", \"2021-08-03T00:00:00\", \"2021-08-04T00:00:00\", \"2021-08-05T00:00:00\", \"2021-08-06T00:00:00\", \"2021-08-09T00:00:00\", \"2021-08-10T00:00:00\", \"2021-08-11T00:00:00\", \"2021-08-12T00:00:00\", \"2021-08-13T00:00:00\", \"2021-08-16T00:00:00\", \"2021-08-17T00:00:00\", \"2021-08-18T00:00:00\", \"2021-08-19T00:00:00\", \"2021-08-20T00:00:00\", \"2021-08-23T00:00:00\", \"2021-08-24T00:00:00\", \"2021-08-25T00:00:00\", \"2021-08-26T00:00:00\", \"2021-08-27T00:00:00\", \"2021-08-30T00:00:00\", \"2021-08-31T00:00:00\", \"2021-09-01T00:00:00\", \"2021-09-02T00:00:00\", \"2021-09-03T00:00:00\", \"2021-09-06T00:00:00\", \"2021-09-08T00:00:00\", \"2021-09-09T00:00:00\", \"2021-09-10T00:00:00\", \"2021-09-13T00:00:00\", \"2021-09-14T00:00:00\", \"2021-09-15T00:00:00\", \"2021-09-16T00:00:00\", \"2021-09-17T00:00:00\", \"2021-09-20T00:00:00\", \"2021-09-21T00:00:00\", \"2021-09-22T00:00:00\", \"2021-09-23T00:00:00\", \"2021-09-24T00:00:00\", \"2021-09-27T00:00:00\", \"2021-09-28T00:00:00\", \"2021-09-29T00:00:00\", \"2021-09-30T00:00:00\", \"2021-10-01T00:00:00\", \"2021-10-04T00:00:00\", \"2021-10-05T00:00:00\", \"2021-10-06T00:00:00\", \"2021-10-07T00:00:00\", \"2021-10-08T00:00:00\", \"2021-10-11T00:00:00\", \"2021-10-13T00:00:00\", \"2021-10-14T00:00:00\", \"2021-10-15T00:00:00\", \"2021-10-18T00:00:00\", \"2021-10-19T00:00:00\", \"2021-10-20T00:00:00\", \"2021-10-21T00:00:00\", \"2021-10-22T00:00:00\", \"2021-10-25T00:00:00\", \"2021-10-26T00:00:00\", \"2021-10-27T00:00:00\", \"2021-10-28T00:00:00\", \"2021-10-29T00:00:00\", \"2021-11-01T00:00:00\", \"2021-11-03T00:00:00\"], \"y\": [1.0, 1.0140819617342849, 1.0228613863978517, 1.0324123036769823, 1.0386937212671428, 1.0366332969229468, 1.0311817207399654, 1.0220144779087734, 1.0200893176357237, 1.01699017336682, 1.0375915606541406, 1.039961950066536, 1.0423971330665676, 1.0438244735367188, 1.0438977718670732, 1.0551430143937262, 1.0502818596893189, 1.0645834372654033, 1.065632359141619, 1.0765135624525561, 1.082343974706058, 1.0914746806077784, 1.0951508045949805, 1.104909043822609, 1.107999080222052, 1.1170843625750957, 1.117821514869196, 1.1118108874709784, 1.0957259009935922, 1.1024487025964642, 1.1195225552711023, 1.1337753728803186, 1.1469153842896904, 1.1447946084155696, 1.1409751138304665, 1.142583164255932, 1.1324345439963157, 1.147685228994016, 1.1394513329638594, 1.1501672479371852, 1.1548148171248267, 1.1589226496306795, 1.1633287093428226, 1.1631493820255328, 1.1744250017092865, 1.1666031840675808, 1.1724650744364065, 1.1612157998365582, 1.1629429578803412, 1.1568009807940833, 1.1667621059439806, 1.1759717472359572, 1.165697471586678, 1.1793590952944806, 1.191689374451359, 1.1868516644693918, 1.1905189033686279, 1.1857020990212002, 1.180736737921348, 1.1940370120817232, 1.1865309014619032, 1.194775365862573, 1.1992934911938526, 1.2076798287759714, 1.2056977634626767, 1.202538418816755, 1.2177841320708682, 1.2226455766180229, 1.221747132528499, 1.230119161709621, 1.2150861561843762, 1.2275159126786372, 1.2251691033446777, 1.2335142511793138, 1.2257925784887962, 1.239175863730413, 1.2352591110512292, 1.2498501628003167, 1.2671202668728332, 1.2696113871193866, 1.2633693254153584, 1.261234103440706, 1.2578476173776332, 1.2575526239989872, 1.253647992043953, 1.2716185535718976, 1.2728910251381742, 1.241553842467505, 1.2461836464064497, 1.2323577259396175, 1.2376319581386772, 1.217714644874559, 1.218894888380426, 1.2337029509425554, 1.238414425349126, 1.2299160919856678, 1.2267888056052207, 1.2217850133115296, 1.214405139109544, 1.2278447525362415, 1.2186351863467895, 1.2239740691772902, 1.2291707027847056, 1.226283540473024, 1.2216014225224765, 1.2356750898540876, 1.2451798932027192, 1.2392005504999914, 1.2522955971289382, 1.2464899587217264, 1.257109300381828, 1.2670487897536131, 1.2907485673639092, 1.2866490424383483, 1.2862934527601955, 1.2734807246047846, 1.289685893148832, 1.2852729207159936, 1.2867200516959456, 1.283176019183304, 1.2731923366420506, 1.2771419728210718, 1.2374600926844181, 1.2524960939737928, 1.2265811376237166, 1.242410902402166, 1.2608751101334645, 1.2767283725860383, 1.267602240423272, 1.2830418312867997, 1.2903146205054186, 1.2947959855162519, 1.284198303701098, 1.3055288116530495, 1.3156316503313004, 1.3103835797234231, 1.296702744567406, 1.299691363871671, 1.3145852845758725, 1.3217785873834365, 1.322511685668681, 1.324269354233613, 1.330770260663023, 1.3275969155254463, 1.3282024352023467, 1.3254383989499812, 1.324083041631714, 1.3281499543935569, 1.324432619963201, 1.3232231875349174, 1.323368501877757, 1.3229984743656877, 1.3232969320530321, 1.3257764530797098, 1.3426801470515266, 1.3505635026759477, 1.3547685955536768, 1.3516229628517764, 1.3412305833165545, 1.3547968304034783, 1.3622552325877118, 1.38174653152593, 1.3807073706229809, 1.3747191022876213, 1.3800438133629942, 1.3913404247634724, 1.39267885837925, 1.4162772757729418, 1.429627010496186, 1.4246323133469236, 1.41989987487359, 1.4159406642984955, 1.4200013851474067, 1.403334922073986, 1.4143681726405026, 1.4173854525231069, 1.410822683032114, 1.4107793731244678, 1.4147776589046086, 1.410000787138119, 1.400427765916742, 1.410158383619803, 1.3857513771545633, 1.4040316303736378, 1.4069086000247544, 1.4148226041720076, 1.4127690563388844, 1.418025512450899, 1.4182500362433812, 1.418320360472715, 1.41512121501056, 1.4180084707795408, 1.4224150088875926, 1.4099189638098055, 1.4058115897804269, 1.3770876510620904, 1.3920184023968993, 1.3957541698005214, 1.367470327151504, 1.3602267355568376, 1.3688400601478372, 1.3676280554231517, 1.3554056308069935, 1.3510425232725962, 1.3719007210284588, 1.3441883127574552, 1.3581825059819892, 1.3602236322628853, 1.3648797519451268, 1.3593733488428756, 1.38337128858817, 1.3843616378260768, 1.388786694617006, 1.3575567638078276, 1.3574659233610216, 1.35871306374142, 1.3461077418190577, 1.338723483523219, 1.346219300985815, 1.3625855374748626, 1.375325948837179, 1.3870479645345024, 1.3878303251927646, 1.3908149097618059, 1.4060625976325152, 1.3952699529320678, 1.3968100297787223, 1.40861727515534, 1.408749867675824, 1.414865840988348, 1.4162859006111284, 1.4209779760941212, 1.4319816792377498, 1.428361245373004, 1.4181900761751025, 1.4074118877820525, 1.3996697537594482, 1.4152477519649247, 1.415099331505173, 1.4156735758531478, 1.4180540863131406, 1.4074463815620093, 1.4121587618857945, 1.4149161290750576, 1.4044054720284649, 1.4092864707600696, 1.4087632956718712, 1.407855734788936, 1.4163034905600682, 1.4251796568746906, 1.3999249798697475, 1.4007268912625084, 1.4082137257953349, 1.4115916068229009, 1.4090694647264475, 1.4013444430808422, 1.4067515814031173, 1.4043861158324449, 1.4178400292680209, 1.4117871096583268, 1.4096485290295027, 1.408831464295814, 1.414574596986642, 1.4219066250160897, 1.4085205194530368, 1.4044703237256346, 1.4072857633476255, 1.4085028210180082, 1.4036275621210792, 1.4082823356824692, 1.4056105551987457, 1.4085350031448205, 1.409019262539175, 1.4063385465309624, 1.399316189645844, 1.3904730379995327, 1.3896997031791987, 1.3946023917820973, 1.3916277091257543, 1.3855545603536354, 1.3868900675858031, 1.3694009675124146, 1.3677046115344065, 1.3816872395722715, 1.3906625067649656, 1.3928389978761169, 1.4093515492277289, 1.3979503280722378, 1.4065986032897757, 1.4300177773573632, 1.4172169874304252, 1.426212732018422, 1.4357645461226138, 1.4297779576349112, 1.435352638744281, 1.4210399724970124, 1.4124608166939396, 1.4186462770617507, 1.4171469806043862, 1.423382640796958, 1.4193076334231964, 1.4157005182569404, 1.4080306982490645, 1.4162817883281598, 1.4073099718767867, 1.3990893722775022, 1.403057059516127, 1.4089321974460105, 1.4009667643787478, 1.3977659912401923, 1.403926202524005, 1.405732631533406, 1.3982310279766597, 1.3938630763466755, 1.397963300485725, 1.3952707855067115, 1.3866080197857888, 1.3759910578819388, 1.367405267174928, 1.3754239482425576, 1.3858970487914546, 1.398766291985735, 1.4002241865492513, 1.4006671704218212, 1.3966299167615175, 1.4027437861314769, 1.4059052085026722, 1.3944097240730533, 1.396033049535427, 1.3844110638088156, 1.3919473578600572, 1.396267362385696, 1.3779241813798364, 1.386193742947359, 1.373200914289926, 1.372310387527432, 1.382036952322665, 1.3804129021756002, 1.3759870040613138, 1.36722904602652, 1.3439157631525769, 1.3520904241725373, 1.3647495803146166, 1.3746710431536728, 1.3744933829275883, 1.3798355457095348, 1.3527978880174147, 1.3549258004450382, 1.363973036446787, 1.3629426152735824, 1.3507749875860757, 1.3569770987896597, 1.3568507890558235, 1.3677741937064454, 1.3789769477201888, 1.3764897670412857, 1.383261367908231, 1.3831166145273694, 1.3893797249157753, 1.3974262407426803, 1.3840565034562609, 1.3838503335447727, 1.3716621518954286, 1.3621100062211724, 1.3759412399724336, 1.3621775173142845, 1.3595842033203058, 1.356214312762681, 1.3484366062368494, 1.365308644322796, 1.3524120624079838]}],\n",
              "                        {\"template\": {\"data\": {\"bar\": [{\"error_x\": {\"color\": \"#2a3f5f\"}, \"error_y\": {\"color\": \"#2a3f5f\"}, \"marker\": {\"line\": {\"color\": \"#E5ECF6\", \"width\": 0.5}}, \"type\": \"bar\"}], \"barpolar\": [{\"marker\": {\"line\": {\"color\": \"#E5ECF6\", \"width\": 0.5}}, \"type\": \"barpolar\"}], \"carpet\": [{\"aaxis\": {\"endlinecolor\": \"#2a3f5f\", \"gridcolor\": \"white\", \"linecolor\": \"white\", \"minorgridcolor\": \"white\", \"startlinecolor\": \"#2a3f5f\"}, \"baxis\": {\"endlinecolor\": \"#2a3f5f\", \"gridcolor\": \"white\", \"linecolor\": \"white\", \"minorgridcolor\": \"white\", \"startlinecolor\": \"#2a3f5f\"}, \"type\": \"carpet\"}], \"choropleth\": [{\"colorbar\": {\"outlinewidth\": 0, \"ticks\": \"\"}, \"type\": \"choropleth\"}], \"contour\": [{\"colorbar\": {\"outlinewidth\": 0, \"ticks\": \"\"}, \"colorscale\": [[0.0, \"#0d0887\"], [0.1111111111111111, \"#46039f\"], [0.2222222222222222, \"#7201a8\"], [0.3333333333333333, \"#9c179e\"], [0.4444444444444444, \"#bd3786\"], [0.5555555555555556, \"#d8576b\"], [0.6666666666666666, \"#ed7953\"], [0.7777777777777778, \"#fb9f3a\"], [0.8888888888888888, \"#fdca26\"], [1.0, \"#f0f921\"]], \"type\": \"contour\"}], \"contourcarpet\": [{\"colorbar\": {\"outlinewidth\": 0, \"ticks\": \"\"}, \"type\": \"contourcarpet\"}], \"heatmap\": [{\"colorbar\": {\"outlinewidth\": 0, \"ticks\": \"\"}, \"colorscale\": [[0.0, \"#0d0887\"], [0.1111111111111111, \"#46039f\"], [0.2222222222222222, \"#7201a8\"], [0.3333333333333333, \"#9c179e\"], [0.4444444444444444, \"#bd3786\"], [0.5555555555555556, \"#d8576b\"], [0.6666666666666666, \"#ed7953\"], [0.7777777777777778, \"#fb9f3a\"], [0.8888888888888888, \"#fdca26\"], [1.0, \"#f0f921\"]], \"type\": \"heatmap\"}], \"heatmapgl\": [{\"colorbar\": {\"outlinewidth\": 0, \"ticks\": \"\"}, \"colorscale\": [[0.0, \"#0d0887\"], [0.1111111111111111, \"#46039f\"], [0.2222222222222222, \"#7201a8\"], [0.3333333333333333, \"#9c179e\"], [0.4444444444444444, \"#bd3786\"], [0.5555555555555556, \"#d8576b\"], [0.6666666666666666, \"#ed7953\"], [0.7777777777777778, \"#fb9f3a\"], [0.8888888888888888, \"#fdca26\"], [1.0, \"#f0f921\"]], \"type\": \"heatmapgl\"}], \"histogram\": [{\"marker\": {\"colorbar\": {\"outlinewidth\": 0, \"ticks\": \"\"}}, \"type\": \"histogram\"}], \"histogram2d\": [{\"colorbar\": {\"outlinewidth\": 0, \"ticks\": \"\"}, \"colorscale\": [[0.0, \"#0d0887\"], [0.1111111111111111, \"#46039f\"], [0.2222222222222222, \"#7201a8\"], [0.3333333333333333, \"#9c179e\"], [0.4444444444444444, \"#bd3786\"], [0.5555555555555556, \"#d8576b\"], [0.6666666666666666, \"#ed7953\"], [0.7777777777777778, \"#fb9f3a\"], [0.8888888888888888, \"#fdca26\"], [1.0, \"#f0f921\"]], \"type\": \"histogram2d\"}], \"histogram2dcontour\": [{\"colorbar\": {\"outlinewidth\": 0, \"ticks\": \"\"}, \"colorscale\": [[0.0, \"#0d0887\"], [0.1111111111111111, \"#46039f\"], [0.2222222222222222, \"#7201a8\"], [0.3333333333333333, \"#9c179e\"], [0.4444444444444444, \"#bd3786\"], [0.5555555555555556, \"#d8576b\"], [0.6666666666666666, \"#ed7953\"], [0.7777777777777778, \"#fb9f3a\"], [0.8888888888888888, \"#fdca26\"], [1.0, \"#f0f921\"]], \"type\": \"histogram2dcontour\"}], \"mesh3d\": [{\"colorbar\": {\"outlinewidth\": 0, \"ticks\": \"\"}, \"type\": \"mesh3d\"}], \"parcoords\": [{\"line\": {\"colorbar\": {\"outlinewidth\": 0, \"ticks\": \"\"}}, \"type\": \"parcoords\"}], \"pie\": [{\"automargin\": true, \"type\": \"pie\"}], \"scatter\": [{\"marker\": {\"colorbar\": {\"outlinewidth\": 0, \"ticks\": \"\"}}, \"type\": \"scatter\"}], \"scatter3d\": [{\"line\": {\"colorbar\": {\"outlinewidth\": 0, \"ticks\": \"\"}}, \"marker\": {\"colorbar\": {\"outlinewidth\": 0, \"ticks\": \"\"}}, \"type\": \"scatter3d\"}], \"scattercarpet\": [{\"marker\": {\"colorbar\": {\"outlinewidth\": 0, \"ticks\": \"\"}}, \"type\": \"scattercarpet\"}], \"scattergeo\": [{\"marker\": {\"colorbar\": {\"outlinewidth\": 0, \"ticks\": \"\"}}, \"type\": \"scattergeo\"}], \"scattergl\": [{\"marker\": {\"colorbar\": {\"outlinewidth\": 0, \"ticks\": \"\"}}, \"type\": \"scattergl\"}], \"scattermapbox\": [{\"marker\": {\"colorbar\": {\"outlinewidth\": 0, \"ticks\": \"\"}}, \"type\": \"scattermapbox\"}], \"scatterpolar\": [{\"marker\": {\"colorbar\": {\"outlinewidth\": 0, \"ticks\": \"\"}}, \"type\": \"scatterpolar\"}], \"scatterpolargl\": [{\"marker\": {\"colorbar\": {\"outlinewidth\": 0, \"ticks\": \"\"}}, \"type\": \"scatterpolargl\"}], \"scatterternary\": [{\"marker\": {\"colorbar\": {\"outlinewidth\": 0, \"ticks\": \"\"}}, \"type\": \"scatterternary\"}], \"surface\": [{\"colorbar\": {\"outlinewidth\": 0, \"ticks\": \"\"}, \"colorscale\": [[0.0, \"#0d0887\"], [0.1111111111111111, \"#46039f\"], [0.2222222222222222, \"#7201a8\"], [0.3333333333333333, \"#9c179e\"], [0.4444444444444444, \"#bd3786\"], [0.5555555555555556, \"#d8576b\"], [0.6666666666666666, \"#ed7953\"], [0.7777777777777778, \"#fb9f3a\"], [0.8888888888888888, \"#fdca26\"], [1.0, \"#f0f921\"]], \"type\": \"surface\"}], \"table\": [{\"cells\": {\"fill\": {\"color\": \"#EBF0F8\"}, \"line\": {\"color\": \"white\"}}, \"header\": {\"fill\": {\"color\": \"#C8D4E3\"}, \"line\": {\"color\": \"white\"}}, \"type\": \"table\"}]}, \"layout\": {\"annotationdefaults\": {\"arrowcolor\": \"#2a3f5f\", \"arrowhead\": 0, \"arrowwidth\": 1}, \"coloraxis\": {\"colorbar\": {\"outlinewidth\": 0, \"ticks\": \"\"}}, \"colorscale\": {\"diverging\": [[0, \"#8e0152\"], [0.1, \"#c51b7d\"], [0.2, \"#de77ae\"], [0.3, \"#f1b6da\"], [0.4, \"#fde0ef\"], [0.5, \"#f7f7f7\"], [0.6, \"#e6f5d0\"], [0.7, \"#b8e186\"], [0.8, \"#7fbc41\"], [0.9, \"#4d9221\"], [1, \"#276419\"]], \"sequential\": [[0.0, \"#0d0887\"], [0.1111111111111111, \"#46039f\"], [0.2222222222222222, \"#7201a8\"], [0.3333333333333333, \"#9c179e\"], [0.4444444444444444, \"#bd3786\"], [0.5555555555555556, \"#d8576b\"], [0.6666666666666666, \"#ed7953\"], [0.7777777777777778, \"#fb9f3a\"], [0.8888888888888888, \"#fdca26\"], [1.0, \"#f0f921\"]], \"sequentialminus\": [[0.0, \"#0d0887\"], [0.1111111111111111, \"#46039f\"], [0.2222222222222222, \"#7201a8\"], [0.3333333333333333, \"#9c179e\"], [0.4444444444444444, \"#bd3786\"], [0.5555555555555556, \"#d8576b\"], [0.6666666666666666, \"#ed7953\"], [0.7777777777777778, \"#fb9f3a\"], [0.8888888888888888, \"#fdca26\"], [1.0, \"#f0f921\"]]}, \"colorway\": [\"#636efa\", \"#EF553B\", \"#00cc96\", \"#ab63fa\", \"#FFA15A\", \"#19d3f3\", \"#FF6692\", \"#B6E880\", \"#FF97FF\", \"#FECB52\"], \"font\": {\"color\": \"#2a3f5f\"}, \"geo\": {\"bgcolor\": \"white\", \"lakecolor\": \"white\", \"landcolor\": \"#E5ECF6\", \"showlakes\": true, \"showland\": true, \"subunitcolor\": \"white\"}, \"hoverlabel\": {\"align\": \"left\"}, \"hovermode\": \"closest\", \"mapbox\": {\"style\": \"light\"}, \"paper_bgcolor\": \"white\", \"plot_bgcolor\": \"#E5ECF6\", \"polar\": {\"angularaxis\": {\"gridcolor\": \"white\", \"linecolor\": \"white\", \"ticks\": \"\"}, \"bgcolor\": \"#E5ECF6\", \"radialaxis\": {\"gridcolor\": \"white\", \"linecolor\": \"white\", \"ticks\": \"\"}}, \"scene\": {\"xaxis\": {\"backgroundcolor\": \"#E5ECF6\", \"gridcolor\": \"white\", \"gridwidth\": 2, \"linecolor\": \"white\", \"showbackground\": true, \"ticks\": \"\", \"zerolinecolor\": \"white\"}, \"yaxis\": {\"backgroundcolor\": \"#E5ECF6\", \"gridcolor\": \"white\", \"gridwidth\": 2, \"linecolor\": \"white\", \"showbackground\": true, \"ticks\": \"\", \"zerolinecolor\": \"white\"}, \"zaxis\": {\"backgroundcolor\": \"#E5ECF6\", \"gridcolor\": \"white\", \"gridwidth\": 2, \"linecolor\": \"white\", \"showbackground\": true, \"ticks\": \"\", \"zerolinecolor\": \"white\"}}, \"shapedefaults\": {\"line\": {\"color\": \"#2a3f5f\"}}, \"ternary\": {\"aaxis\": {\"gridcolor\": \"white\", \"linecolor\": \"white\", \"ticks\": \"\"}, \"baxis\": {\"gridcolor\": \"white\", \"linecolor\": \"white\", \"ticks\": \"\"}, \"bgcolor\": \"#E5ECF6\", \"caxis\": {\"gridcolor\": \"white\", \"linecolor\": \"white\", \"ticks\": \"\"}}, \"title\": {\"x\": 0.05}, \"xaxis\": {\"automargin\": true, \"gridcolor\": \"white\", \"linecolor\": \"white\", \"ticks\": \"\", \"title\": {\"standoff\": 15}, \"zerolinecolor\": \"white\", \"zerolinewidth\": 2}, \"yaxis\": {\"automargin\": true, \"gridcolor\": \"white\", \"linecolor\": \"white\", \"ticks\": \"\", \"title\": {\"standoff\": 15}, \"zerolinecolor\": \"white\", \"zerolinewidth\": 2}}}, \"title\": {\"text\": \"Compara\\u00e7\\u00e3o Carteira\"}},\n",
              "                        {\"responsive\": true}\n",
              "                    ).then(function(){\n",
              "                            \n",
              "var gd = document.getElementById('a661e182-5697-4f9f-9f17-e5f5e86120d2');\n",
              "var x = new MutationObserver(function (mutations, observer) {{\n",
              "        var display = window.getComputedStyle(gd).display;\n",
              "        if (!display || display === 'none') {{\n",
              "            console.log([gd, 'removed!']);\n",
              "            Plotly.purge(gd);\n",
              "            observer.disconnect();\n",
              "        }}\n",
              "}});\n",
              "\n",
              "// Listen for the removal of the full notebook cells\n",
              "var notebookContainer = gd.closest('#notebook-container');\n",
              "if (notebookContainer) {{\n",
              "    x.observe(notebookContainer, {childList: true});\n",
              "}}\n",
              "\n",
              "// Listen for the clearing of the current output cell\n",
              "var outputEl = gd.closest('.output');\n",
              "if (outputEl) {{\n",
              "    x.observe(outputEl, {childList: true});\n",
              "}}\n",
              "\n",
              "                        })\n",
              "                };\n",
              "                \n",
              "            </script>\n",
              "        </div>\n",
              "</body>\n",
              "</html>"
            ]
          },
          "metadata": {}
        }
      ]
    }
  ]
}